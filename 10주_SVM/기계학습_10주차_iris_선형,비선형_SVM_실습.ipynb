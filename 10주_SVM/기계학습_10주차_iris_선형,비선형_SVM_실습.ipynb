{
  "nbformat": 4,
  "nbformat_minor": 0,
  "metadata": {
    "colab": {
      "name": "기계학습  10주차 iris 선형,비선형 SVM 실습.ipynb",
      "provenance": [],
      "collapsed_sections": []
    },
    "kernelspec": {
      "name": "python3",
      "display_name": "Python 3"
    }
  },
  "cells": [
    {
      "cell_type": "markdown",
      "metadata": {
        "id": "g6CsbKu8cOqm"
      },
      "source": [
        "#### 데이터 불러오기"
      ]
    },
    {
      "cell_type": "code",
      "metadata": {
        "id": "hy58cI8ebt5V"
      },
      "source": [
        "import seaborn as sns"
      ],
      "execution_count": 1,
      "outputs": []
    },
    {
      "cell_type": "code",
      "metadata": {
        "colab": {
          "base_uri": "https://localhost:8080/"
        },
        "id": "H74NBgG1cA68",
        "outputId": "bed296dc-583a-4fc7-815d-bb6cc7a8b11a"
      },
      "source": [
        "iris = sns.load_dataset('iris')\r\n",
        "\r\n",
        "print(iris)\r\n",
        "print(type(iris))\r\n",
        "print(iris.shape)\r\n",
        "print(iris.info())"
      ],
      "execution_count": 2,
      "outputs": [
        {
          "output_type": "stream",
          "text": [
            "     sepal_length  sepal_width  petal_length  petal_width    species\n",
            "0             5.1          3.5           1.4          0.2     setosa\n",
            "1             4.9          3.0           1.4          0.2     setosa\n",
            "2             4.7          3.2           1.3          0.2     setosa\n",
            "3             4.6          3.1           1.5          0.2     setosa\n",
            "4             5.0          3.6           1.4          0.2     setosa\n",
            "..            ...          ...           ...          ...        ...\n",
            "145           6.7          3.0           5.2          2.3  virginica\n",
            "146           6.3          2.5           5.0          1.9  virginica\n",
            "147           6.5          3.0           5.2          2.0  virginica\n",
            "148           6.2          3.4           5.4          2.3  virginica\n",
            "149           5.9          3.0           5.1          1.8  virginica\n",
            "\n",
            "[150 rows x 5 columns]\n",
            "<class 'pandas.core.frame.DataFrame'>\n",
            "(150, 5)\n",
            "<class 'pandas.core.frame.DataFrame'>\n",
            "RangeIndex: 150 entries, 0 to 149\n",
            "Data columns (total 5 columns):\n",
            " #   Column        Non-Null Count  Dtype  \n",
            "---  ------        --------------  -----  \n",
            " 0   sepal_length  150 non-null    float64\n",
            " 1   sepal_width   150 non-null    float64\n",
            " 2   petal_length  150 non-null    float64\n",
            " 3   petal_width   150 non-null    float64\n",
            " 4   species       150 non-null    object \n",
            "dtypes: float64(4), object(1)\n",
            "memory usage: 6.0+ KB\n",
            "None\n"
          ],
          "name": "stdout"
        }
      ]
    },
    {
      "cell_type": "markdown",
      "metadata": {
        "id": "MNUrnurPcaju"
      },
      "source": [
        "x,y 데이너 나누기"
      ]
    },
    {
      "cell_type": "code",
      "metadata": {
        "id": "yXwLVbSmccpB"
      },
      "source": [
        "import pandas as pd\r\n"
      ],
      "execution_count": 3,
      "outputs": []
    },
    {
      "cell_type": "code",
      "metadata": {
        "colab": {
          "base_uri": "https://localhost:8080/"
        },
        "id": "Wvr3tAZxcrm2",
        "outputId": "bc83d161-4e60-4f0d-b52e-7ca5d8861026"
      },
      "source": [
        "x_data = iris.drop('species',axis=1)\r\n",
        "y_data = iris['species']\r\n",
        "\r\n",
        "print(x_data)\r\n",
        "print(type(x_data))\r\n",
        "print(x_data.shape)\r\n",
        "\r\n",
        "print(y_data)\r\n",
        "print(type(y_data))\r\n",
        "print(y_data.shape)\r\n"
      ],
      "execution_count": 4,
      "outputs": [
        {
          "output_type": "stream",
          "text": [
            "     sepal_length  sepal_width  petal_length  petal_width\n",
            "0             5.1          3.5           1.4          0.2\n",
            "1             4.9          3.0           1.4          0.2\n",
            "2             4.7          3.2           1.3          0.2\n",
            "3             4.6          3.1           1.5          0.2\n",
            "4             5.0          3.6           1.4          0.2\n",
            "..            ...          ...           ...          ...\n",
            "145           6.7          3.0           5.2          2.3\n",
            "146           6.3          2.5           5.0          1.9\n",
            "147           6.5          3.0           5.2          2.0\n",
            "148           6.2          3.4           5.4          2.3\n",
            "149           5.9          3.0           5.1          1.8\n",
            "\n",
            "[150 rows x 4 columns]\n",
            "<class 'pandas.core.frame.DataFrame'>\n",
            "(150, 4)\n",
            "0         setosa\n",
            "1         setosa\n",
            "2         setosa\n",
            "3         setosa\n",
            "4         setosa\n",
            "         ...    \n",
            "145    virginica\n",
            "146    virginica\n",
            "147    virginica\n",
            "148    virginica\n",
            "149    virginica\n",
            "Name: species, Length: 150, dtype: object\n",
            "<class 'pandas.core.series.Series'>\n",
            "(150,)\n"
          ],
          "name": "stdout"
        }
      ]
    },
    {
      "cell_type": "markdown",
      "metadata": {
        "id": "WskRnxX6dZVq"
      },
      "source": [
        "클래스 라벨인코딩"
      ]
    },
    {
      "cell_type": "code",
      "metadata": {
        "colab": {
          "base_uri": "https://localhost:8080/"
        },
        "id": "xdY067UldcMS",
        "outputId": "2a773c7d-9e7f-42d5-82a4-460821d77f84"
      },
      "source": [
        "from sklearn import preprocessing\r\n",
        "le = preprocessing.LabelEncoder()\r\n",
        "le.fit(y_data)\r\n",
        "y_data = le.transform(y_data)\r\n",
        "\r\n",
        "print(y_data)\r\n",
        "print(type(y_data))\r\n",
        "print(y_data.shape)"
      ],
      "execution_count": 5,
      "outputs": [
        {
          "output_type": "stream",
          "text": [
            "[0 0 0 0 0 0 0 0 0 0 0 0 0 0 0 0 0 0 0 0 0 0 0 0 0 0 0 0 0 0 0 0 0 0 0 0 0\n",
            " 0 0 0 0 0 0 0 0 0 0 0 0 0 1 1 1 1 1 1 1 1 1 1 1 1 1 1 1 1 1 1 1 1 1 1 1 1\n",
            " 1 1 1 1 1 1 1 1 1 1 1 1 1 1 1 1 1 1 1 1 1 1 1 1 1 1 2 2 2 2 2 2 2 2 2 2 2\n",
            " 2 2 2 2 2 2 2 2 2 2 2 2 2 2 2 2 2 2 2 2 2 2 2 2 2 2 2 2 2 2 2 2 2 2 2 2 2\n",
            " 2 2]\n",
            "<class 'numpy.ndarray'>\n",
            "(150,)\n"
          ],
          "name": "stdout"
        }
      ]
    },
    {
      "cell_type": "markdown",
      "metadata": {
        "id": "5GVVwJbNcTw4"
      },
      "source": [
        "#### train, test 데이터 나누기"
      ]
    },
    {
      "cell_type": "code",
      "metadata": {
        "id": "Htpr7VgucIic"
      },
      "source": [
        "from sklearn.model_selection import train_test_split"
      ],
      "execution_count": 6,
      "outputs": []
    },
    {
      "cell_type": "code",
      "metadata": {
        "colab": {
          "base_uri": "https://localhost:8080/"
        },
        "id": "6sZadyhId-ny",
        "outputId": "3fcd36bd-716a-461b-b5e7-366aa1e383d6"
      },
      "source": [
        "x_train, x_test, y_train, y_test = train_test_split(\r\n",
        "    x_data, y_data, test_size=0.33, random_state=42)\r\n",
        "\r\n",
        "print(x_train.shape)\r\n",
        "print(x_test.shape)\r\n",
        "print(y_train.shape)\r\n",
        "print(y_test.shape)"
      ],
      "execution_count": 8,
      "outputs": [
        {
          "output_type": "stream",
          "text": [
            "(100, 4)\n",
            "(50, 4)\n",
            "(100,)\n",
            "(50,)\n"
          ],
          "name": "stdout"
        }
      ]
    },
    {
      "cell_type": "markdown",
      "metadata": {
        "id": "7OSTbFdcgDZi"
      },
      "source": [
        "## SVM 모델"
      ]
    },
    {
      "cell_type": "markdown",
      "metadata": {
        "id": "OfU5AgOCjaTQ"
      },
      "source": [
        "#### 선형 SVM"
      ]
    },
    {
      "cell_type": "code",
      "metadata": {
        "id": "tlh3Ci4CeNcN"
      },
      "source": [
        "from sklearn.svm import SVC\r\n"
      ],
      "execution_count": 9,
      "outputs": []
    },
    {
      "cell_type": "markdown",
      "metadata": {
        "id": "kFapaCRhieoe"
      },
      "source": [
        "- classification_report # 클래스들의 여러 정확도 지표를 한번에 표시"
      ]
    },
    {
      "cell_type": "code",
      "metadata": {
        "colab": {
          "base_uri": "https://localhost:8080/"
        },
        "id": "33H-k61dgF6X",
        "outputId": "ccabccc6-5948-4b5e-9378-8a4c21dd34c2"
      },
      "source": [
        "svm = SVC(C=1.0,kernel='linear', random_state=1) # decision_function_shape='ovr' 속성은 다중 분류할 때 사용(ovr,ovo)\r\n",
        "svm.fit(x_train, y_train)\r\n",
        "\r\n",
        "y_train_pred = svm.predict(x_train)\r\n",
        "y_test_pred = svm.predict(x_test)\r\n",
        "\r\n",
        "from sklearn.metrics import mean_squared_error\r\n",
        "print(mean_squared_error(y_train, y_train_pred))\r\n",
        "print(mean_squared_error(y_test, y_test_pred))\r\n",
        "\r\n",
        "from sklearn.metrics import classification_report # 클래스들의 여러 정확도 지표를 한번에 표시\r\n",
        "print(classification_report(y_train, y_train_pred))\r\n",
        "print(classification_report(y_test, y_test_pred))\r\n"
      ],
      "execution_count": 12,
      "outputs": [
        {
          "output_type": "stream",
          "text": [
            "0.03\n",
            "0.0\n",
            "              precision    recall  f1-score   support\n",
            "\n",
            "           0       1.00      1.00      1.00        31\n",
            "           1       0.97      0.94      0.96        35\n",
            "           2       0.94      0.97      0.96        34\n",
            "\n",
            "    accuracy                           0.97       100\n",
            "   macro avg       0.97      0.97      0.97       100\n",
            "weighted avg       0.97      0.97      0.97       100\n",
            "\n",
            "              precision    recall  f1-score   support\n",
            "\n",
            "           0       1.00      1.00      1.00        19\n",
            "           1       1.00      1.00      1.00        15\n",
            "           2       1.00      1.00      1.00        16\n",
            "\n",
            "    accuracy                           1.00        50\n",
            "   macro avg       1.00      1.00      1.00        50\n",
            "weighted avg       1.00      1.00      1.00        50\n",
            "\n"
          ],
          "name": "stdout"
        }
      ]
    },
    {
      "cell_type": "markdown",
      "metadata": {
        "id": "pjXMTw7WjnkY"
      },
      "source": [
        "#### 비선형 SVM"
      ]
    },
    {
      "cell_type": "markdown",
      "metadata": {
        "id": "8GqBMosIjwoW"
      },
      "source": [
        "- kernel{‘linear’, ‘poly’, ‘rbf’, ‘sigmoid’, ‘precomputed’}, default=’rbf’"
      ]
    },
    {
      "cell_type": "code",
      "metadata": {
        "colab": {
          "base_uri": "https://localhost:8080/"
        },
        "id": "7aH2MxpahXPa",
        "outputId": "7abf9804-5d6a-4918-fa6d-af62ae14ddde"
      },
      "source": [
        "#kernel{‘linear’, ‘poly’, ‘rbf’, ‘sigmoid’, ‘precomputed’}, default=’rbf’\r\n",
        "# decision_function_shape='ovr' 속성은 다중 분류할 때 사용(ovr,ovo)\r\n",
        "# gamma 가 작을 수록 실제보다 데이터 거리 멀게(오버피팅) 클 수록 실제보다 데이터 거리 가깝게(언더피팅)\r\n",
        "\r\n",
        "svm = SVC(C=1.0,kernel='rbf',gamma=0.2, random_state=1) \r\n",
        "svm.fit(x_train, y_train)\r\n",
        "\r\n",
        "y_train_pred = svm.predict(x_train)\r\n",
        "y_test_pred = svm.predict(x_test)\r\n",
        "\r\n",
        "from sklearn.metrics import mean_squared_error\r\n",
        "print(mean_squared_error(y_train, y_train_pred))\r\n",
        "print(mean_squared_error(y_test, y_test_pred))\r\n",
        "\r\n",
        "from sklearn.metrics import classification_report # 클래스들의 여러 정확도 지표를 한번에 표시\r\n",
        "print(classification_report(y_train, y_train_pred))\r\n",
        "print(classification_report(y_test, y_test_pred))\r\n"
      ],
      "execution_count": 13,
      "outputs": [
        {
          "output_type": "stream",
          "text": [
            "0.01\n",
            "0.0\n",
            "              precision    recall  f1-score   support\n",
            "\n",
            "           0       1.00      1.00      1.00        31\n",
            "           1       1.00      0.97      0.99        35\n",
            "           2       0.97      1.00      0.99        34\n",
            "\n",
            "    accuracy                           0.99       100\n",
            "   macro avg       0.99      0.99      0.99       100\n",
            "weighted avg       0.99      0.99      0.99       100\n",
            "\n",
            "              precision    recall  f1-score   support\n",
            "\n",
            "           0       1.00      1.00      1.00        19\n",
            "           1       1.00      1.00      1.00        15\n",
            "           2       1.00      1.00      1.00        16\n",
            "\n",
            "    accuracy                           1.00        50\n",
            "   macro avg       1.00      1.00      1.00        50\n",
            "weighted avg       1.00      1.00      1.00        50\n",
            "\n"
          ],
          "name": "stdout"
        }
      ]
    },
    {
      "cell_type": "markdown",
      "metadata": {
        "id": "YJw2HX91mUun"
      },
      "source": [
        "#### "
      ]
    },
    {
      "cell_type": "code",
      "metadata": {
        "id": "AhatKo35mTVE"
      },
      "source": [
        ""
      ],
      "execution_count": null,
      "outputs": []
    }
  ]
}