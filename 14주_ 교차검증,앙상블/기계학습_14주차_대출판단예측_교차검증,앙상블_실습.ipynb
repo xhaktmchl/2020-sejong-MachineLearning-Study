{
  "nbformat": 4,
  "nbformat_minor": 0,
  "metadata": {
    "colab": {
      "name": "기계학습 14주차 대출판단예측 교차검증,앙상블 실습.ipynb",
      "provenance": []
    },
    "kernelspec": {
      "name": "python3",
      "display_name": "Python 3"
    }
  },
  "cells": [
    {
      "cell_type": "markdown",
      "metadata": {
        "id": "LtyD_f_OscF4"
      },
      "source": [
        "#### 데이터 로드"
      ]
    },
    {
      "cell_type": "code",
      "metadata": {
        "id": "rz8315gdatI2"
      },
      "source": [
        "import pandas as pd\r\n"
      ],
      "execution_count": 3,
      "outputs": []
    },
    {
      "cell_type": "code",
      "metadata": {
        "colab": {
          "base_uri": "https://localhost:8080/",
          "height": 864
        },
        "id": "Zt7auwGtdgoJ",
        "outputId": "afa475fd-b690-48bc-8cbd-59c216cad8e6"
      },
      "source": [
        "data = pd.read_csv('UniversalBank.csv')\r\n",
        "\r\n",
        "print(type(data))\r\n",
        "print(data.shape)\r\n",
        "print(data.info())\r\n",
        "print(data)\r\n",
        "\r\n",
        "data.head()\r\n",
        "\r\n"
      ],
      "execution_count": 4,
      "outputs": [
        {
          "output_type": "stream",
          "text": [
            "<class 'pandas.core.frame.DataFrame'>\n",
            "(5000, 14)\n",
            "<class 'pandas.core.frame.DataFrame'>\n",
            "RangeIndex: 5000 entries, 0 to 4999\n",
            "Data columns (total 14 columns):\n",
            " #   Column             Non-Null Count  Dtype  \n",
            "---  ------             --------------  -----  \n",
            " 0   ID                 5000 non-null   int64  \n",
            " 1   Age                5000 non-null   int64  \n",
            " 2   Experience         5000 non-null   int64  \n",
            " 3   Income             5000 non-null   int64  \n",
            " 4   ZIPCode            5000 non-null   int64  \n",
            " 5   Family             5000 non-null   int64  \n",
            " 6   CCAvg              5000 non-null   float64\n",
            " 7   Education          5000 non-null   int64  \n",
            " 8   Mortgage           5000 non-null   int64  \n",
            " 9   PersonalLoan       5000 non-null   int64  \n",
            " 10  SecuritiesAccount  5000 non-null   int64  \n",
            " 11  CDAccount          5000 non-null   int64  \n",
            " 12  Online             5000 non-null   int64  \n",
            " 13  CreditCard         5000 non-null   int64  \n",
            "dtypes: float64(1), int64(13)\n",
            "memory usage: 547.0 KB\n",
            "None\n",
            "        ID  Age  Experience  ...  CDAccount  Online  CreditCard\n",
            "0        1   25           1  ...          0       0           0\n",
            "1        2   45          19  ...          0       0           0\n",
            "2        3   39          15  ...          0       0           0\n",
            "3        4   35           9  ...          0       0           0\n",
            "4        5   35           8  ...          0       0           1\n",
            "...    ...  ...         ...  ...        ...     ...         ...\n",
            "4995  4996   29           3  ...          0       1           0\n",
            "4996  4997   30           4  ...          0       1           0\n",
            "4997  4998   63          39  ...          0       0           0\n",
            "4998  4999   65          40  ...          0       1           0\n",
            "4999  5000   28           4  ...          0       1           1\n",
            "\n",
            "[5000 rows x 14 columns]\n"
          ],
          "name": "stdout"
        },
        {
          "output_type": "execute_result",
          "data": {
            "text/html": [
              "<div>\n",
              "<style scoped>\n",
              "    .dataframe tbody tr th:only-of-type {\n",
              "        vertical-align: middle;\n",
              "    }\n",
              "\n",
              "    .dataframe tbody tr th {\n",
              "        vertical-align: top;\n",
              "    }\n",
              "\n",
              "    .dataframe thead th {\n",
              "        text-align: right;\n",
              "    }\n",
              "</style>\n",
              "<table border=\"1\" class=\"dataframe\">\n",
              "  <thead>\n",
              "    <tr style=\"text-align: right;\">\n",
              "      <th></th>\n",
              "      <th>ID</th>\n",
              "      <th>Age</th>\n",
              "      <th>Experience</th>\n",
              "      <th>Income</th>\n",
              "      <th>ZIPCode</th>\n",
              "      <th>Family</th>\n",
              "      <th>CCAvg</th>\n",
              "      <th>Education</th>\n",
              "      <th>Mortgage</th>\n",
              "      <th>PersonalLoan</th>\n",
              "      <th>SecuritiesAccount</th>\n",
              "      <th>CDAccount</th>\n",
              "      <th>Online</th>\n",
              "      <th>CreditCard</th>\n",
              "    </tr>\n",
              "  </thead>\n",
              "  <tbody>\n",
              "    <tr>\n",
              "      <th>0</th>\n",
              "      <td>1</td>\n",
              "      <td>25</td>\n",
              "      <td>1</td>\n",
              "      <td>49</td>\n",
              "      <td>91107</td>\n",
              "      <td>4</td>\n",
              "      <td>1.6</td>\n",
              "      <td>1</td>\n",
              "      <td>0</td>\n",
              "      <td>0</td>\n",
              "      <td>1</td>\n",
              "      <td>0</td>\n",
              "      <td>0</td>\n",
              "      <td>0</td>\n",
              "    </tr>\n",
              "    <tr>\n",
              "      <th>1</th>\n",
              "      <td>2</td>\n",
              "      <td>45</td>\n",
              "      <td>19</td>\n",
              "      <td>34</td>\n",
              "      <td>90089</td>\n",
              "      <td>3</td>\n",
              "      <td>1.5</td>\n",
              "      <td>1</td>\n",
              "      <td>0</td>\n",
              "      <td>0</td>\n",
              "      <td>1</td>\n",
              "      <td>0</td>\n",
              "      <td>0</td>\n",
              "      <td>0</td>\n",
              "    </tr>\n",
              "    <tr>\n",
              "      <th>2</th>\n",
              "      <td>3</td>\n",
              "      <td>39</td>\n",
              "      <td>15</td>\n",
              "      <td>11</td>\n",
              "      <td>94720</td>\n",
              "      <td>1</td>\n",
              "      <td>1.0</td>\n",
              "      <td>1</td>\n",
              "      <td>0</td>\n",
              "      <td>0</td>\n",
              "      <td>0</td>\n",
              "      <td>0</td>\n",
              "      <td>0</td>\n",
              "      <td>0</td>\n",
              "    </tr>\n",
              "    <tr>\n",
              "      <th>3</th>\n",
              "      <td>4</td>\n",
              "      <td>35</td>\n",
              "      <td>9</td>\n",
              "      <td>100</td>\n",
              "      <td>94112</td>\n",
              "      <td>1</td>\n",
              "      <td>2.7</td>\n",
              "      <td>2</td>\n",
              "      <td>0</td>\n",
              "      <td>0</td>\n",
              "      <td>0</td>\n",
              "      <td>0</td>\n",
              "      <td>0</td>\n",
              "      <td>0</td>\n",
              "    </tr>\n",
              "    <tr>\n",
              "      <th>4</th>\n",
              "      <td>5</td>\n",
              "      <td>35</td>\n",
              "      <td>8</td>\n",
              "      <td>45</td>\n",
              "      <td>91330</td>\n",
              "      <td>4</td>\n",
              "      <td>1.0</td>\n",
              "      <td>2</td>\n",
              "      <td>0</td>\n",
              "      <td>0</td>\n",
              "      <td>0</td>\n",
              "      <td>0</td>\n",
              "      <td>0</td>\n",
              "      <td>1</td>\n",
              "    </tr>\n",
              "  </tbody>\n",
              "</table>\n",
              "</div>"
            ],
            "text/plain": [
              "   ID  Age  Experience  ...  CDAccount  Online  CreditCard\n",
              "0   1   25           1  ...          0       0           0\n",
              "1   2   45          19  ...          0       0           0\n",
              "2   3   39          15  ...          0       0           0\n",
              "3   4   35           9  ...          0       0           0\n",
              "4   5   35           8  ...          0       0           1\n",
              "\n",
              "[5 rows x 14 columns]"
            ]
          },
          "metadata": {
            "tags": []
          },
          "execution_count": 4
        }
      ]
    },
    {
      "cell_type": "markdown",
      "metadata": {
        "id": "A5afwALNraNj"
      },
      "source": [
        "- PersonalLoan 이 대출 가능여부 클래스\r\n",
        "- ID, ZIPCode 는 필요 없어보이므로 드롭"
      ]
    },
    {
      "cell_type": "markdown",
      "metadata": {
        "id": "c36dHh2IsEzW"
      },
      "source": [
        "#### x,y 데이터 나누기"
      ]
    },
    {
      "cell_type": "code",
      "metadata": {
        "colab": {
          "base_uri": "https://localhost:8080/"
        },
        "id": "v-48rOYpd_9F",
        "outputId": "6e14d2c1-116f-4bb6-9af2-ed590c4ed2e8"
      },
      "source": [
        "x_data = data.drop(['ID','ZIPCode','PersonalLoan'],axis=1)\r\n",
        "y_data = data['PersonalLoan']\r\n",
        "\r\n",
        "print(type(x_data))\r\n",
        "print(x_data.shape)\r\n",
        "print(x_data)\r\n",
        "\r\n",
        "print(type(y_data))\r\n",
        "print(y_data.shape)\r\n",
        "print(y_data)"
      ],
      "execution_count": 5,
      "outputs": [
        {
          "output_type": "stream",
          "text": [
            "<class 'pandas.core.frame.DataFrame'>\n",
            "(5000, 11)\n",
            "      Age  Experience  Income  ...  CDAccount  Online  CreditCard\n",
            "0      25           1      49  ...          0       0           0\n",
            "1      45          19      34  ...          0       0           0\n",
            "2      39          15      11  ...          0       0           0\n",
            "3      35           9     100  ...          0       0           0\n",
            "4      35           8      45  ...          0       0           1\n",
            "...   ...         ...     ...  ...        ...     ...         ...\n",
            "4995   29           3      40  ...          0       1           0\n",
            "4996   30           4      15  ...          0       1           0\n",
            "4997   63          39      24  ...          0       0           0\n",
            "4998   65          40      49  ...          0       1           0\n",
            "4999   28           4      83  ...          0       1           1\n",
            "\n",
            "[5000 rows x 11 columns]\n",
            "<class 'pandas.core.series.Series'>\n",
            "(5000,)\n",
            "0       0\n",
            "1       0\n",
            "2       0\n",
            "3       0\n",
            "4       0\n",
            "       ..\n",
            "4995    0\n",
            "4996    0\n",
            "4997    0\n",
            "4998    0\n",
            "4999    0\n",
            "Name: PersonalLoan, Length: 5000, dtype: int64\n"
          ],
          "name": "stdout"
        }
      ]
    },
    {
      "cell_type": "markdown",
      "metadata": {
        "id": "hhLP0gkPs1a_"
      },
      "source": [
        "#### train, test 셋 분할"
      ]
    },
    {
      "cell_type": "code",
      "metadata": {
        "colab": {
          "base_uri": "https://localhost:8080/"
        },
        "id": "hN3PgPHTsmkV",
        "outputId": "10a41fb2-49a7-4747-cb81-c5d94b1fe6c7"
      },
      "source": [
        "from sklearn.model_selection import train_test_split\r\n",
        "x_train, x_test, y_train, y_test = train_test_split(\r\n",
        "    x_data, y_data, test_size=0.4, random_state=1)\r\n",
        "\r\n",
        "print(type(x_train))\r\n",
        "print(x_train.shape)\r\n",
        "print(type(x_test))\r\n",
        "print(x_test.shape)\r\n",
        "print(type(y_train))\r\n",
        "print(y_train.shape)\r\n",
        "print(type(y_test))\r\n",
        "print(y_test.shape)"
      ],
      "execution_count": 6,
      "outputs": [
        {
          "output_type": "stream",
          "text": [
            "<class 'pandas.core.frame.DataFrame'>\n",
            "(3000, 11)\n",
            "<class 'pandas.core.frame.DataFrame'>\n",
            "(2000, 11)\n",
            "<class 'pandas.core.series.Series'>\n",
            "(3000,)\n",
            "<class 'pandas.core.series.Series'>\n",
            "(2000,)\n"
          ],
          "name": "stdout"
        }
      ]
    },
    {
      "cell_type": "markdown",
      "metadata": {
        "id": "1Rlc09fiuRrB"
      },
      "source": [
        "#### 모델 앙상블"
      ]
    },
    {
      "cell_type": "markdown",
      "metadata": {
        "id": "kS4A1PrmzkOZ"
      },
      "source": [
        "- voting 방식"
      ]
    },
    {
      "cell_type": "code",
      "metadata": {
        "id": "YgU9MlU4tPCU"
      },
      "source": [
        "from sklearn.neighbors import KNeighborsClassifier\r\n",
        "knn = KNeighborsClassifier(n_neighbors=3,p=2)\r\n",
        "\r\n",
        "from sklearn.linear_model import LogisticRegression\r\n",
        "logReg = LogisticRegression(random_state=1, C=1.0, solver='lbfgs')\r\n",
        "\r\n",
        "from sklearn.tree import DecisionTreeClassifier\r\n",
        "tree = DecisionTreeClassifier(random_state=1,criterion='entropy', max_depth=5)"
      ],
      "execution_count": 10,
      "outputs": []
    },
    {
      "cell_type": "code",
      "metadata": {
        "id": "EPB3ldg-wZ2w"
      },
      "source": [
        "from sklearn.ensemble import VotingClassifier\r\n",
        "\r\n",
        "voting = VotingClassifier(estimators=[\r\n",
        "        ('knn', knn),  ('tree', tree)], voting='soft') #  voting='soft' 는 단순 다수결이 아닌 확률기반 voting='hard'는 단순 다수결\r\n",
        "# eclf1 = eclf1.fit(x_train, y_train)\r\n"
      ],
      "execution_count": 11,
      "outputs": []
    },
    {
      "cell_type": "markdown",
      "metadata": {
        "id": "kPDWR7vgz3i5"
      },
      "source": [
        "#### 교차검증"
      ]
    },
    {
      "cell_type": "code",
      "metadata": {
        "colab": {
          "base_uri": "https://localhost:8080/"
        },
        "id": "k_27_buAzimf",
        "outputId": "30a4a5af-9eb6-4e3d-b9d3-5eeda715e699"
      },
      "source": [
        "from sklearn.model_selection import cross_val_score\r\n",
        "\r\n",
        "clf_label =['knn','tree','voting'] # 분류기 라벨\r\n",
        "clf_model =[knn,tree,voting] # 분류기 모델\r\n",
        "\r\n",
        "# 반복문으로 각 분류기 교차 검증\r\n",
        "# voting 앙상블만 사용하려면 반복문 불필요\r\n",
        "for clf,label in zip(clf_model,clf_label):\r\n",
        "  scores = cross_val_score(estimator = clf,X=x_train,y=y_train, cv=10) # 모델,데이터,cv는 crossvalidation으로 k겹 수 \r\n",
        "  print(scores.mean(),scores.std(),label)\r\n",
        "\r\n"
      ],
      "execution_count": 12,
      "outputs": [
        {
          "output_type": "stream",
          "text": [
            "0.9063333333333332 0.01797838208021574 knn\n",
            "0.9876666666666665 0.006674994798166919 tree\n",
            "0.9743333333333334 0.005174724898753328 voting\n"
          ],
          "name": "stdout"
        }
      ]
    },
    {
      "cell_type": "markdown",
      "metadata": {
        "id": "cxLO0S5w3vSJ"
      },
      "source": [
        "- 로지스틱회귀가 오류나서 일단 제외"
      ]
    },
    {
      "cell_type": "markdown",
      "metadata": {
        "id": "l0w8WHZx4Cid"
      },
      "source": [
        ""
      ]
    },
    {
      "cell_type": "code",
      "metadata": {
        "id": "pAxhJ6392LQO"
      },
      "source": [
        ""
      ],
      "execution_count": 9,
      "outputs": []
    }
  ]
}