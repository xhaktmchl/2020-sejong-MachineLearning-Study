{
  "nbformat": 4,
  "nbformat_minor": 0,
  "metadata": {
    "colab": {
      "name": "기계학습 중간고사  1번.ipynb",
      "provenance": [],
      "collapsed_sections": []
    },
    "kernelspec": {
      "name": "python3",
      "display_name": "Python 3"
    }
  },
  "cells": [
    {
      "cell_type": "markdown",
      "metadata": {
        "id": "dmzSo19t0Ndu"
      },
      "source": [
        "# 당뇨병 환자 분류 문제\r\n",
        "- QDA,나 LDA 가 성능 제일 잘나옴\r\n",
        "- 데이터 scaling 해도 점수 똑같음\r\n"
      ]
    },
    {
      "cell_type": "markdown",
      "metadata": {
        "id": "LcehxxPDCMFO"
      },
      "source": [
        "##데이터 불러오기"
      ]
    },
    {
      "cell_type": "code",
      "metadata": {
        "id": "76zYyn4kB0yE"
      },
      "source": [
        "import pandas as pd\r\n"
      ],
      "execution_count": null,
      "outputs": []
    },
    {
      "cell_type": "code",
      "metadata": {
        "colab": {
          "base_uri": "https://localhost:8080/"
        },
        "id": "X73hbNcmCLnE",
        "outputId": "77230032-2d7a-4173-dd26-9469bcae6d59"
      },
      "source": [
        "train_data = pd.read_csv('train.csv')\r\n",
        "test_data = pd.read_csv('test.csv')\r\n",
        "\r\n",
        "print(train_data)\r\n",
        "print(type(train_data))\r\n",
        "print(train_data.shape)\r\n",
        "print(train_data.info())\r\n",
        "\r\n",
        "print(test_data)\r\n",
        "print(type(test_data))\r\n",
        "print(test_data.shape)\r\n",
        "print(test_data.info())"
      ],
      "execution_count": null,
      "outputs": [
        {
          "output_type": "stream",
          "text": [
            "     diagnosis  radius_mean  ...  fractal_dimension_worst  Unnamed: 32\n",
            "0            0        8.734  ...                  0.08865          NaN\n",
            "1            0       11.360  ...                  0.07745          NaN\n",
            "2            1       14.950  ...                  0.07147          NaN\n",
            "3            1       17.350  ...                  0.06515          NaN\n",
            "4            0       11.060  ...                  0.11680          NaN\n",
            "..         ...          ...  ...                      ...          ...\n",
            "393          0       13.850  ...                  0.06912          NaN\n",
            "394          1       21.370  ...                  0.08666          NaN\n",
            "395          0       12.470  ...                  0.08750          NaN\n",
            "396          1       18.220  ...                  0.07987          NaN\n",
            "397          0       12.720  ...                  0.06922          NaN\n",
            "\n",
            "[398 rows x 32 columns]\n",
            "<class 'pandas.core.frame.DataFrame'>\n",
            "(398, 32)\n",
            "<class 'pandas.core.frame.DataFrame'>\n",
            "RangeIndex: 398 entries, 0 to 397\n",
            "Data columns (total 32 columns):\n",
            " #   Column                   Non-Null Count  Dtype  \n",
            "---  ------                   --------------  -----  \n",
            " 0   diagnosis                398 non-null    int64  \n",
            " 1   radius_mean              398 non-null    float64\n",
            " 2   texture_mean             398 non-null    float64\n",
            " 3   perimeter_mean           398 non-null    float64\n",
            " 4   area_mean                398 non-null    float64\n",
            " 5   smoothness_mean          398 non-null    float64\n",
            " 6   compactness_mean         398 non-null    float64\n",
            " 7   concavity_mean           398 non-null    float64\n",
            " 8   concave points_mean      398 non-null    float64\n",
            " 9   symmetry_mean            398 non-null    float64\n",
            " 10  fractal_dimension_mean   398 non-null    float64\n",
            " 11  radius_se                398 non-null    float64\n",
            " 12  texture_se               398 non-null    float64\n",
            " 13  perimeter_se             398 non-null    float64\n",
            " 14  area_se                  398 non-null    float64\n",
            " 15  smoothness_se            398 non-null    float64\n",
            " 16  compactness_se           398 non-null    float64\n",
            " 17  concavity_se             398 non-null    float64\n",
            " 18  concave points_se        398 non-null    float64\n",
            " 19  symmetry_se              398 non-null    float64\n",
            " 20  fractal_dimension_se     398 non-null    float64\n",
            " 21  radius_worst             398 non-null    float64\n",
            " 22  texture_worst            398 non-null    float64\n",
            " 23  perimeter_worst          398 non-null    float64\n",
            " 24  area_worst               398 non-null    float64\n",
            " 25  smoothness_worst         398 non-null    float64\n",
            " 26  compactness_worst        398 non-null    float64\n",
            " 27  concavity_worst          398 non-null    float64\n",
            " 28  concave points_worst     398 non-null    float64\n",
            " 29  symmetry_worst           398 non-null    float64\n",
            " 30  fractal_dimension_worst  398 non-null    float64\n",
            " 31  Unnamed: 32              0 non-null      float64\n",
            "dtypes: float64(31), int64(1)\n",
            "memory usage: 99.6 KB\n",
            "None\n",
            "     radius_mean  texture_mean  ...  fractal_dimension_worst  Unnamed: 32\n",
            "0         11.670         20.02  ...                  0.08950          NaN\n",
            "1         10.800          9.71  ...                  0.07699          NaN\n",
            "2         12.450         16.41  ...                  0.10340          NaN\n",
            "3          9.465         21.01  ...                  0.09211          NaN\n",
            "4         13.650         13.16  ...                  0.08718          NaN\n",
            "..           ...           ...  ...                      ...          ...\n",
            "166       11.600         24.49  ...                  0.06745          NaN\n",
            "167       14.050         27.15  ...                  0.08321          NaN\n",
            "168       12.580         18.40  ...                  0.06431          NaN\n",
            "169       12.560         19.07  ...                  0.07188          NaN\n",
            "170       16.260         21.88  ...                  0.07953          NaN\n",
            "\n",
            "[171 rows x 31 columns]\n",
            "<class 'pandas.core.frame.DataFrame'>\n",
            "(171, 31)\n",
            "<class 'pandas.core.frame.DataFrame'>\n",
            "RangeIndex: 171 entries, 0 to 170\n",
            "Data columns (total 31 columns):\n",
            " #   Column                   Non-Null Count  Dtype  \n",
            "---  ------                   --------------  -----  \n",
            " 0   radius_mean              171 non-null    float64\n",
            " 1   texture_mean             171 non-null    float64\n",
            " 2   perimeter_mean           171 non-null    float64\n",
            " 3   area_mean                171 non-null    float64\n",
            " 4   smoothness_mean          171 non-null    float64\n",
            " 5   compactness_mean         171 non-null    float64\n",
            " 6   concavity_mean           171 non-null    float64\n",
            " 7   concave points_mean      171 non-null    float64\n",
            " 8   symmetry_mean            171 non-null    float64\n",
            " 9   fractal_dimension_mean   171 non-null    float64\n",
            " 10  radius_se                171 non-null    float64\n",
            " 11  texture_se               171 non-null    float64\n",
            " 12  perimeter_se             171 non-null    float64\n",
            " 13  area_se                  171 non-null    float64\n",
            " 14  smoothness_se            171 non-null    float64\n",
            " 15  compactness_se           171 non-null    float64\n",
            " 16  concavity_se             171 non-null    float64\n",
            " 17  concave points_se        171 non-null    float64\n",
            " 18  symmetry_se              171 non-null    float64\n",
            " 19  fractal_dimension_se     171 non-null    float64\n",
            " 20  radius_worst             171 non-null    float64\n",
            " 21  texture_worst            171 non-null    float64\n",
            " 22  perimeter_worst          171 non-null    float64\n",
            " 23  area_worst               171 non-null    float64\n",
            " 24  smoothness_worst         171 non-null    float64\n",
            " 25  compactness_worst        171 non-null    float64\n",
            " 26  concavity_worst          171 non-null    float64\n",
            " 27  concave points_worst     171 non-null    float64\n",
            " 28  symmetry_worst           171 non-null    float64\n",
            " 29  fractal_dimension_worst  171 non-null    float64\n",
            " 30  Unnamed: 32              0 non-null      float64\n",
            "dtypes: float64(31)\n",
            "memory usage: 41.5 KB\n",
            "None\n"
          ],
          "name": "stdout"
        }
      ]
    },
    {
      "cell_type": "markdown",
      "metadata": {
        "id": "p29shxYaEjDD"
      },
      "source": [
        "train, test 셋 나누기"
      ]
    },
    {
      "cell_type": "code",
      "metadata": {
        "colab": {
          "base_uri": "https://localhost:8080/"
        },
        "id": "66KlDHq-Csg6",
        "outputId": "711752e1-3dd1-49c6-d558-af4042c15c3b"
      },
      "source": [
        "x_train = train_data.iloc[:,1:31]\r\n",
        "y_train = train_data.iloc[:,0]\r\n",
        "x_test = test_data.iloc[:,:30]\r\n",
        "\r\n",
        "print(x_train)\r\n",
        "print(type(x_train))\r\n",
        "print(x_train.shape)\r\n",
        "\r\n",
        "print(y_train)\r\n",
        "print(type(y_train))\r\n",
        "print(y_train.shape)"
      ],
      "execution_count": null,
      "outputs": [
        {
          "output_type": "stream",
          "text": [
            "     radius_mean  texture_mean  ...  symmetry_worst  fractal_dimension_worst\n",
            "0          8.734         16.84  ...          0.2445                  0.08865\n",
            "1         11.360         17.57  ...          0.2973                  0.07745\n",
            "2         14.950         17.57  ...          0.3414                  0.07147\n",
            "3         17.350         23.06  ...          0.2452                  0.06515\n",
            "4         11.060         17.12  ...          0.2780                  0.11680\n",
            "..           ...           ...  ...             ...                      ...\n",
            "393       13.850         15.18  ...          0.2955                  0.06912\n",
            "394       21.370         15.10  ...          0.2730                  0.08666\n",
            "395       12.470         18.60  ...          0.3014                  0.08750\n",
            "396       18.220         18.70  ...          0.3021                  0.07987\n",
            "397       12.720         13.78  ...          0.2369                  0.06922\n",
            "\n",
            "[398 rows x 30 columns]\n",
            "<class 'pandas.core.frame.DataFrame'>\n",
            "(398, 30)\n",
            "0      0\n",
            "1      0\n",
            "2      1\n",
            "3      1\n",
            "4      0\n",
            "      ..\n",
            "393    0\n",
            "394    1\n",
            "395    0\n",
            "396    1\n",
            "397    0\n",
            "Name: diagnosis, Length: 398, dtype: int64\n",
            "<class 'pandas.core.series.Series'>\n",
            "(398,)\n"
          ],
          "name": "stdout"
        }
      ]
    },
    {
      "cell_type": "markdown",
      "metadata": {
        "id": "Sg31eVAEMnTZ"
      },
      "source": [
        "#### Scaling"
      ]
    },
    {
      "cell_type": "code",
      "metadata": {
        "colab": {
          "base_uri": "https://localhost:8080/"
        },
        "id": "AxqAR_WcMqeN",
        "outputId": "e58a5773-964e-4363-80b9-076128bf341c"
      },
      "source": [
        "from sklearn.preprocessing import StandardScaler\r\n",
        "scaler = StandardScaler()\r\n",
        "print(scaler.fit(x_train))\r\n",
        "\r\n",
        "print(scaler.mean_)\r\n",
        "\r\n",
        "x_train_scale = scaler.transform(x_train)\r\n",
        "print(x_train_scale)\r\n",
        "\r\n",
        "x_test_scale = scaler.transform(x_test)\r\n",
        "print(x_test_scale)\r\n",
        "\r\n",
        "\r\n",
        "\r\n",
        "\r\n"
      ],
      "execution_count": null,
      "outputs": [
        {
          "output_type": "stream",
          "text": [
            "StandardScaler(copy=True, with_mean=True, with_std=True)\n",
            "[1.41795754e+01 1.92324623e+01 9.23254774e+01 6.59959548e+02\n",
            " 9.65730905e-02 1.04460000e-01 8.93133719e-02 4.92847839e-02\n",
            " 1.81842462e-01 6.27404774e-02 4.07342714e-01 1.22598116e+00\n",
            " 2.90013945e+00 4.05816055e+01 7.04384171e-03 2.53254146e-02\n",
            " 3.12511181e-02 1.16257764e-02 2.03310251e-02 3.71814648e-03\n",
            " 1.63349095e+01 2.57447990e+01 1.07894899e+02 8.86740704e+02\n",
            " 1.33202186e-01 2.58636533e-01 2.78853686e-01 1.15684143e-01\n",
            " 2.91799749e-01 8.44083668e-02]\n",
            "[[-1.53753797 -0.55554819 -1.51985982 ... -1.73344373 -0.77142494\n",
            "   0.22129607]\n",
            " [-0.79609663 -0.38603656 -0.81356785 ... -0.43011095  0.08970515\n",
            "  -0.36303452]\n",
            " [ 0.21752653 -0.38603656  0.18557689 ...  0.76443594  0.80894448\n",
            "  -0.67502531]\n",
            " ...\n",
            " [-0.48269225 -0.14686262 -0.46083202 ... -0.21253919  0.1565732\n",
            "   0.16129784]\n",
            " [ 1.14079887 -0.12364185  1.14739725 ...  0.25197353  0.1679897\n",
            "  -0.23677737]\n",
            " [-0.41210568 -1.26610378 -0.43253113 ... -0.78299078 -0.89537548\n",
            "  -0.79241315]]\n",
            "[[-0.70856928  0.18287232 -0.70200489 ... -0.5167201   0.46971142\n",
            "   0.26564259]\n",
            " [-0.95421055 -2.21118915 -0.9661466  ... -1.04371727 -1.35040445\n",
            "  -0.38703381]\n",
            " [-0.48833918 -0.6553975  -0.38864423 ...  0.27744681  0.51048462\n",
            "   0.99083859]\n",
            " ...\n",
            " [-0.45163416 -0.19330417 -0.51251192 ... -1.60200162 -0.67356925\n",
            "  -1.04857951]\n",
            " [-0.45728109 -0.037725   -0.42678891 ... -0.34515008 -1.29984567\n",
            "  -0.65363464]\n",
            " [ 0.58740016  0.61477866  0.62239509 ... -0.16458949 -0.29682483\n",
            "  -0.25451598]]\n"
          ],
          "name": "stdout"
        }
      ]
    },
    {
      "cell_type": "markdown",
      "metadata": {
        "id": "nJ0xCoVUEhiT"
      },
      "source": [
        "#### 모델 학습"
      ]
    },
    {
      "cell_type": "code",
      "metadata": {
        "colab": {
          "base_uri": "https://localhost:8080/"
        },
        "id": "hpg1p6z7EDW3",
        "outputId": "0229dc27-12a9-46bf-9fdc-4fae3bd456d7"
      },
      "source": [
        "from sklearn.neighbors import KNeighborsClassifier\r\n",
        "neigh = KNeighborsClassifier(n_neighbors=3, weights='uniform')\r\n",
        "neigh.fit(x_train, y_train)\r\n",
        "\r\n",
        "y_train_pred = neigh.predict(x_train)\r\n",
        "y_test_pred = neigh.predict(x_test)\r\n",
        "\r\n",
        "from sklearn.metrics import mean_squared_error\r\n",
        "print(mean_squared_error(y_train, y_train_pred))"
      ],
      "execution_count": null,
      "outputs": [
        {
          "output_type": "stream",
          "text": [
            "0.04773869346733668\n"
          ],
          "name": "stdout"
        }
      ]
    },
    {
      "cell_type": "code",
      "metadata": {
        "colab": {
          "base_uri": "https://localhost:8080/"
        },
        "id": "qmMZ67WGF9dZ",
        "outputId": "b374fc39-6558-4fa0-ccc7-18d8bce65643"
      },
      "source": [
        "from sklearn.linear_model import LogisticRegression\r\n",
        "clf = LogisticRegression(random_state=1).fit(x_train, y_train)\r\n",
        "\r\n",
        "y_train_pred2 = clf.predict(x_train)\r\n",
        "y_test_pred2 = clf.predict(x_test)\r\n",
        "\r\n",
        "from sklearn.metrics import mean_squared_error\r\n",
        "print(mean_squared_error(y_train, y_train_pred2))"
      ],
      "execution_count": null,
      "outputs": [
        {
          "output_type": "stream",
          "text": [
            "0.04773869346733668\n"
          ],
          "name": "stdout"
        },
        {
          "output_type": "stream",
          "text": [
            "/usr/local/lib/python3.7/dist-packages/sklearn/linear_model/_logistic.py:940: ConvergenceWarning: lbfgs failed to converge (status=1):\n",
            "STOP: TOTAL NO. of ITERATIONS REACHED LIMIT.\n",
            "\n",
            "Increase the number of iterations (max_iter) or scale the data as shown in:\n",
            "    https://scikit-learn.org/stable/modules/preprocessing.html\n",
            "Please also refer to the documentation for alternative solver options:\n",
            "    https://scikit-learn.org/stable/modules/linear_model.html#logistic-regression\n",
            "  extra_warning_msg=_LOGISTIC_SOLVER_CONVERGENCE_MSG)\n"
          ],
          "name": "stderr"
        }
      ]
    },
    {
      "cell_type": "code",
      "metadata": {
        "colab": {
          "base_uri": "https://localhost:8080/"
        },
        "id": "gR-CRMeqHFDN",
        "outputId": "de2ce55b-f45d-4022-c109-f147b9cc051c"
      },
      "source": [
        "import numpy as np\r\n",
        "from sklearn.discriminant_analysis import LinearDiscriminantAnalysis\r\n",
        "\r\n",
        "clf = LinearDiscriminantAnalysis()\r\n",
        "clf.fit(x_train, y_train)\r\n",
        "\r\n",
        "\r\n",
        "y_train_pred3 = clf.predict(x_train)\r\n",
        "y_test_pred3 = clf.predict(x_test)\r\n",
        "\r\n",
        "from sklearn.metrics import mean_squared_error\r\n",
        "print(mean_squared_error(y_train, y_train_pred3))"
      ],
      "execution_count": null,
      "outputs": [
        {
          "output_type": "stream",
          "text": [
            "0.03015075376884422\n"
          ],
          "name": "stdout"
        }
      ]
    },
    {
      "cell_type": "code",
      "metadata": {
        "colab": {
          "base_uri": "https://localhost:8080/"
        },
        "id": "XuU7Ll0ZH9fu",
        "outputId": "d3e80294-dd42-482c-b141-300678d77a5d"
      },
      "source": [
        "from sklearn.discriminant_analysis import QuadraticDiscriminantAnalysis\r\n",
        "\r\n",
        "clf = QuadraticDiscriminantAnalysis()\r\n",
        "clf.fit(x_train, y_train)\r\n",
        "\r\n",
        "\r\n",
        "y_train_pred4 = clf.predict(x_train)\r\n",
        "y_test_pred4 = clf.predict(x_test)\r\n",
        "\r\n",
        "from sklearn.metrics import mean_squared_error\r\n",
        "print(mean_squared_error(y_train, y_train_pred4))"
      ],
      "execution_count": null,
      "outputs": [
        {
          "output_type": "stream",
          "text": [
            "0.020100502512562814\n"
          ],
          "name": "stdout"
        }
      ]
    },
    {
      "cell_type": "markdown",
      "metadata": {
        "id": "tDEXHKh70yS9"
      },
      "source": [
        "#### scaling 한 QDA"
      ]
    },
    {
      "cell_type": "code",
      "metadata": {
        "colab": {
          "base_uri": "https://localhost:8080/"
        },
        "id": "3vIG6ZY2NXgu",
        "outputId": "678878b8-797e-42e3-a409-1ad976c110af"
      },
      "source": [
        "from sklearn.discriminant_analysis import QuadraticDiscriminantAnalysis\r\n",
        "\r\n",
        "clf = QuadraticDiscriminantAnalysis()\r\n",
        "#clf.fit(x_train, y_train)\r\n",
        "clf.fit(x_train_scale, y_train)\r\n",
        "\r\n",
        "y_train_pred4_scale = clf.predict(x_train_scale)\r\n",
        "y_test_pred4_scale = clf.predict(x_test_scale)\r\n",
        "\r\n",
        "from sklearn.metrics import mean_squared_error\r\n",
        "print(mean_squared_error(y_train, y_train_pred4_scale))"
      ],
      "execution_count": null,
      "outputs": [
        {
          "output_type": "stream",
          "text": [
            "0.020100502512562814\n"
          ],
          "name": "stdout"
        }
      ]
    },
    {
      "cell_type": "code",
      "metadata": {
        "colab": {
          "base_uri": "https://localhost:8080/"
        },
        "id": "jE_iWGXxIRkJ",
        "outputId": "1c1c4b98-7576-4eb1-9d5a-447082ca2903"
      },
      "source": [
        "from sklearn.model_selection import cross_val_score\r\n",
        "from sklearn.tree import DecisionTreeClassifier\r\n",
        "clf = DecisionTreeClassifier(criterion='entropy', random_state=1)\r\n",
        "\r\n",
        "clf.fit(x_train, y_train)\r\n",
        "\r\n",
        "y_train_pred5 = clf.predict(x_train)\r\n",
        "y_test_pred5 = clf.predict(x_test)\r\n",
        "\r\n",
        "from sklearn.metrics import mean_squared_error\r\n",
        "print(mean_squared_error(y_train, y_train_pred5))\r\n",
        "\r\n",
        "# cross_val_score(clf, iris.data, iris.target, cv=10)\r\n",
        "    "
      ],
      "execution_count": null,
      "outputs": [
        {
          "output_type": "stream",
          "text": [
            "0.0\n"
          ],
          "name": "stdout"
        }
      ]
    },
    {
      "cell_type": "markdown",
      "metadata": {
        "id": "9c8C5V7jJcLm"
      },
      "source": [
        "## 제출 데이터 생성"
      ]
    },
    {
      "cell_type": "code",
      "metadata": {
        "colab": {
          "base_uri": "https://localhost:8080/"
        },
        "id": "00eulryJJF8t",
        "outputId": "35fb3768-554f-4a7b-cb7a-50562fb9fefb"
      },
      "source": [
        "submit_data = pd.read_csv('sampleSubmission.csv')\r\n",
        "\r\n",
        "print(submit_data)\r\n",
        "print(type(submit_data))\r\n",
        "print(submit_data.shape)\r\n",
        "print(submit_data.info())"
      ],
      "execution_count": null,
      "outputs": [
        {
          "output_type": "stream",
          "text": [
            "      id  diagnosis\n",
            "0      0          1\n",
            "1      1          1\n",
            "2      2          1\n",
            "3      3          1\n",
            "4      4          1\n",
            "..   ...        ...\n",
            "166  166          1\n",
            "167  167          1\n",
            "168  168          1\n",
            "169  169          1\n",
            "170  170          1\n",
            "\n",
            "[171 rows x 2 columns]\n",
            "<class 'pandas.core.frame.DataFrame'>\n",
            "(171, 2)\n",
            "<class 'pandas.core.frame.DataFrame'>\n",
            "RangeIndex: 171 entries, 0 to 170\n",
            "Data columns (total 2 columns):\n",
            " #   Column     Non-Null Count  Dtype\n",
            "---  ------     --------------  -----\n",
            " 0   id         171 non-null    int64\n",
            " 1   diagnosis  171 non-null    int64\n",
            "dtypes: int64(2)\n",
            "memory usage: 2.8 KB\n",
            "None\n"
          ],
          "name": "stdout"
        }
      ]
    },
    {
      "cell_type": "code",
      "metadata": {
        "colab": {
          "base_uri": "https://localhost:8080/"
        },
        "id": "ymypWkYQJrbj",
        "outputId": "685517f2-480d-4abf-b7ae-79f7148ef65c"
      },
      "source": [
        "submit_data['diagnosis'] = y_test_pred\r\n",
        "\r\n",
        "print(submit_data)\r\n",
        "\r\n",
        "submit_data.to_csv('submit1.csv',index=None)"
      ],
      "execution_count": null,
      "outputs": [
        {
          "output_type": "stream",
          "text": [
            "      id  diagnosis\n",
            "0      0          0\n",
            "1      1          0\n",
            "2      2          0\n",
            "3      3          0\n",
            "4      4          0\n",
            "..   ...        ...\n",
            "166  166          0\n",
            "167  167          0\n",
            "168  168          0\n",
            "169  169          0\n",
            "170  170          0\n",
            "\n",
            "[171 rows x 2 columns]\n"
          ],
          "name": "stdout"
        }
      ]
    },
    {
      "cell_type": "code",
      "metadata": {
        "colab": {
          "base_uri": "https://localhost:8080/"
        },
        "id": "f54MGAL1Klia",
        "outputId": "6d94248d-cfe1-46e7-fb58-987efa5cf711"
      },
      "source": [
        "submit_data['diagnosis'] = y_test_pred2\r\n",
        "\r\n",
        "print(submit_data)\r\n",
        "\r\n",
        "submit_data.to_csv('submit2.csv',index=None)"
      ],
      "execution_count": null,
      "outputs": [
        {
          "output_type": "stream",
          "text": [
            "      id  diagnosis\n",
            "0      0          0\n",
            "1      1          0\n",
            "2      2          0\n",
            "3      3          0\n",
            "4      4          0\n",
            "..   ...        ...\n",
            "166  166          0\n",
            "167  167          0\n",
            "168  168          0\n",
            "169  169          0\n",
            "170  170          0\n",
            "\n",
            "[171 rows x 2 columns]\n"
          ],
          "name": "stdout"
        }
      ]
    },
    {
      "cell_type": "code",
      "metadata": {
        "colab": {
          "base_uri": "https://localhost:8080/"
        },
        "id": "xfFJKLDNLpdK",
        "outputId": "4c53740c-a73d-4440-ffe9-a4b67c5dbf8b"
      },
      "source": [
        "submit_data['diagnosis'] = y_test_pred3\r\n",
        "\r\n",
        "print(submit_data)\r\n",
        "\r\n",
        "submit_data.to_csv('submit3.csv',index=None)"
      ],
      "execution_count": null,
      "outputs": [
        {
          "output_type": "stream",
          "text": [
            "      id  diagnosis\n",
            "0      0          0\n",
            "1      1          0\n",
            "2      2          0\n",
            "3      3          0\n",
            "4      4          0\n",
            "..   ...        ...\n",
            "166  166          0\n",
            "167  167          0\n",
            "168  168          0\n",
            "169  169          0\n",
            "170  170          1\n",
            "\n",
            "[171 rows x 2 columns]\n"
          ],
          "name": "stdout"
        }
      ]
    },
    {
      "cell_type": "code",
      "metadata": {
        "colab": {
          "base_uri": "https://localhost:8080/"
        },
        "id": "CGwnxJzZLvyU",
        "outputId": "62edf906-2fdf-490a-ab44-911e886f2072"
      },
      "source": [
        "submit_data['diagnosis'] = y_test_pred4_scale\r\n",
        "\r\n",
        "print(submit_data)\r\n",
        "\r\n",
        "submit_data.to_csv('submit4.csv',index=None)"
      ],
      "execution_count": null,
      "outputs": [
        {
          "output_type": "stream",
          "text": [
            "      id  diagnosis\n",
            "0      0          0\n",
            "1      1          0\n",
            "2      2          0\n",
            "3      3          0\n",
            "4      4          0\n",
            "..   ...        ...\n",
            "166  166          0\n",
            "167  167          0\n",
            "168  168          0\n",
            "169  169          0\n",
            "170  170          1\n",
            "\n",
            "[171 rows x 2 columns]\n"
          ],
          "name": "stdout"
        }
      ]
    },
    {
      "cell_type": "code",
      "metadata": {
        "colab": {
          "base_uri": "https://localhost:8080/"
        },
        "id": "VeXDnJQLLzWB",
        "outputId": "c96d3563-a73c-47fd-d4d8-b5410da01601"
      },
      "source": [
        "submit_data['diagnosis'] = y_test_pred5\r\n",
        "\r\n",
        "print(submit_data)\r\n",
        "\r\n",
        "submit_data.to_csv('submit5.csv',index=None)"
      ],
      "execution_count": null,
      "outputs": [
        {
          "output_type": "stream",
          "text": [
            "      id  diagnosis\n",
            "0      0          0\n",
            "1      1          0\n",
            "2      2          0\n",
            "3      3          0\n",
            "4      4          0\n",
            "..   ...        ...\n",
            "166  166          0\n",
            "167  167          1\n",
            "168  168          0\n",
            "169  169          0\n",
            "170  170          0\n",
            "\n",
            "[171 rows x 2 columns]\n"
          ],
          "name": "stdout"
        }
      ]
    },
    {
      "cell_type": "code",
      "metadata": {
        "colab": {
          "base_uri": "https://localhost:8080/"
        },
        "id": "Y_hXy4RHL4OH",
        "outputId": "0476ca8f-ce2b-40a0-de83-4393db61038b"
      },
      "source": [
        "print(type(x_train))\r\n",
        "print(x_train.shape)\r\n",
        "print(x_train)"
      ],
      "execution_count": null,
      "outputs": [
        {
          "output_type": "stream",
          "text": [
            "<class 'pandas.core.frame.DataFrame'>\n",
            "(398, 30)\n",
            "     radius_mean  texture_mean  ...  symmetry_worst  fractal_dimension_worst\n",
            "0          8.734         16.84  ...          0.2445                  0.08865\n",
            "1         11.360         17.57  ...          0.2973                  0.07745\n",
            "2         14.950         17.57  ...          0.3414                  0.07147\n",
            "3         17.350         23.06  ...          0.2452                  0.06515\n",
            "4         11.060         17.12  ...          0.2780                  0.11680\n",
            "..           ...           ...  ...             ...                      ...\n",
            "393       13.850         15.18  ...          0.2955                  0.06912\n",
            "394       21.370         15.10  ...          0.2730                  0.08666\n",
            "395       12.470         18.60  ...          0.3014                  0.08750\n",
            "396       18.220         18.70  ...          0.3021                  0.07987\n",
            "397       12.720         13.78  ...          0.2369                  0.06922\n",
            "\n",
            "[398 rows x 30 columns]\n"
          ],
          "name": "stdout"
        }
      ]
    },
    {
      "cell_type": "code",
      "metadata": {
        "id": "RXm_s_JfPLze"
      },
      "source": [
        ""
      ],
      "execution_count": null,
      "outputs": []
    }
  ]
}