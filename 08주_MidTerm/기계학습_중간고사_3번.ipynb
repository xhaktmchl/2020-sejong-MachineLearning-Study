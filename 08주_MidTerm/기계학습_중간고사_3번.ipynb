{
  "nbformat": 4,
  "nbformat_minor": 0,
  "metadata": {
    "colab": {
      "name": "기계학습 중간고사 3번.ipynb",
      "provenance": [],
      "collapsed_sections": []
    },
    "kernelspec": {
      "name": "python3",
      "display_name": "Python 3"
    }
  },
  "cells": [
    {
      "cell_type": "markdown",
      "metadata": {
        "id": "k2TnBNjoEgPo"
      },
      "source": [
        "# mnist 숫자 분류 문제\r\n",
        "- 데이터 8x8 데이터를 1차원 1x64 데이터로 나타낸 것 \r\n",
        "- knn 성능 베스트"
      ]
    },
    {
      "cell_type": "code",
      "metadata": {
        "id": "Fasye0AVBBvV"
      },
      "source": [
        ""
      ],
      "execution_count": null,
      "outputs": []
    },
    {
      "cell_type": "code",
      "metadata": {
        "id": "zlrIamcZrISt"
      },
      "source": [
        "import pandas as pd\r\n"
      ],
      "execution_count": null,
      "outputs": []
    },
    {
      "cell_type": "code",
      "metadata": {
        "colab": {
          "base_uri": "https://localhost:8080/"
        },
        "id": "X_UTKBOerWBT",
        "outputId": "e0cb2634-40dc-4bb6-b899-c5cb01e92fcb"
      },
      "source": [
        "train_data = pd.read_csv('train.csv')\r\n",
        "test_data = pd.read_csv('test.csv')\r\n",
        "\r\n",
        "print(train_data)\r\n",
        "print(type(train_data))\r\n",
        "print(train_data.shape)\r\n",
        "print(train_data.info())\r\n",
        "\r\n",
        "print(test_data)\r\n",
        "print(type(test_data))\r\n",
        "print(test_data.shape)\r\n",
        "print(test_data.info())"
      ],
      "execution_count": null,
      "outputs": [
        {
          "output_type": "stream",
          "text": [
            "      index  0  1   2   3   4   5  6  7  ...  56  57  58  59  60  61  62  63  label\n",
            "0         0  0  0   5  13   9   1  0  0  ...   0   0   6  13  10   0   0   0      0\n",
            "1         1  0  0   0  12  13   5  0  0  ...   0   0   0  11  16  10   0   0      1\n",
            "2         2  0  0   0   4  15  12  0  0  ...   0   0   0   3  11  16   9   0      2\n",
            "3         3  0  0   7  15  13   1  0  0  ...   0   0   7  13  13   9   0   0      3\n",
            "4         4  0  0   0   1  11   0  0  0  ...   0   0   0   2  16   4   0   0      4\n",
            "...     ... .. ..  ..  ..  ..  .. .. ..  ...  ..  ..  ..  ..  ..  ..  ..  ..    ...\n",
            "1432   1792  0  0   4  10  13   6  0  0  ...   0   0   2  14  15   9   0   0      9\n",
            "1433   1793  0  0   6  16  13  11  1  0  ...   0   0   6  16  14   6   0   0      0\n",
            "1434   1794  0  0   1  11  15   1  0  0  ...   0   0   2   9  13   6   0   0      8\n",
            "1435   1795  0  0   2  10   7   0  0  0  ...   0   0   5  12  16  12   0   0      9\n",
            "1436   1796  0  0  10  14   8   1  0  0  ...   0   1   8  12  14  12   1   0      8\n",
            "\n",
            "[1437 rows x 66 columns]\n",
            "<class 'pandas.core.frame.DataFrame'>\n",
            "(1437, 66)\n",
            "<class 'pandas.core.frame.DataFrame'>\n",
            "RangeIndex: 1437 entries, 0 to 1436\n",
            "Data columns (total 66 columns):\n",
            " #   Column  Non-Null Count  Dtype\n",
            "---  ------  --------------  -----\n",
            " 0   index   1437 non-null   int64\n",
            " 1   0       1437 non-null   int64\n",
            " 2   1       1437 non-null   int64\n",
            " 3   2       1437 non-null   int64\n",
            " 4   3       1437 non-null   int64\n",
            " 5   4       1437 non-null   int64\n",
            " 6   5       1437 non-null   int64\n",
            " 7   6       1437 non-null   int64\n",
            " 8   7       1437 non-null   int64\n",
            " 9   8       1437 non-null   int64\n",
            " 10  9       1437 non-null   int64\n",
            " 11  10      1437 non-null   int64\n",
            " 12  11      1437 non-null   int64\n",
            " 13  12      1437 non-null   int64\n",
            " 14  13      1437 non-null   int64\n",
            " 15  14      1437 non-null   int64\n",
            " 16  15      1437 non-null   int64\n",
            " 17  16      1437 non-null   int64\n",
            " 18  17      1437 non-null   int64\n",
            " 19  18      1437 non-null   int64\n",
            " 20  19      1437 non-null   int64\n",
            " 21  20      1437 non-null   int64\n",
            " 22  21      1437 non-null   int64\n",
            " 23  22      1437 non-null   int64\n",
            " 24  23      1437 non-null   int64\n",
            " 25  24      1437 non-null   int64\n",
            " 26  25      1437 non-null   int64\n",
            " 27  26      1437 non-null   int64\n",
            " 28  27      1437 non-null   int64\n",
            " 29  28      1437 non-null   int64\n",
            " 30  29      1437 non-null   int64\n",
            " 31  30      1437 non-null   int64\n",
            " 32  31      1437 non-null   int64\n",
            " 33  32      1437 non-null   int64\n",
            " 34  33      1437 non-null   int64\n",
            " 35  34      1437 non-null   int64\n",
            " 36  35      1437 non-null   int64\n",
            " 37  36      1437 non-null   int64\n",
            " 38  37      1437 non-null   int64\n",
            " 39  38      1437 non-null   int64\n",
            " 40  39      1437 non-null   int64\n",
            " 41  40      1437 non-null   int64\n",
            " 42  41      1437 non-null   int64\n",
            " 43  42      1437 non-null   int64\n",
            " 44  43      1437 non-null   int64\n",
            " 45  44      1437 non-null   int64\n",
            " 46  45      1437 non-null   int64\n",
            " 47  46      1437 non-null   int64\n",
            " 48  47      1437 non-null   int64\n",
            " 49  48      1437 non-null   int64\n",
            " 50  49      1437 non-null   int64\n",
            " 51  50      1437 non-null   int64\n",
            " 52  51      1437 non-null   int64\n",
            " 53  52      1437 non-null   int64\n",
            " 54  53      1437 non-null   int64\n",
            " 55  54      1437 non-null   int64\n",
            " 56  55      1437 non-null   int64\n",
            " 57  56      1437 non-null   int64\n",
            " 58  57      1437 non-null   int64\n",
            " 59  58      1437 non-null   int64\n",
            " 60  59      1437 non-null   int64\n",
            " 61  60      1437 non-null   int64\n",
            " 62  61      1437 non-null   int64\n",
            " 63  62      1437 non-null   int64\n",
            " 64  63      1437 non-null   int64\n",
            " 65  label   1437 non-null   int64\n",
            "dtypes: int64(66)\n",
            "memory usage: 741.1 KB\n",
            "None\n",
            "     index    0    1     2     3     4  ...    58    59    60    61    62   63\n",
            "0       23  0.0  1.0   8.0  12.0  15.0  ...  14.0  15.0  11.0   2.0   0.0  0.0\n",
            "1       29  0.0  0.0   9.0  13.0   7.0  ...   7.0  12.0  12.0  12.0  11.0  0.0\n",
            "2       30  0.0  0.0  10.0  14.0  11.0  ...  11.0  16.0  12.0   3.0   0.0  0.0\n",
            "3       32  0.0  2.0  13.0  16.0  16.0  ...  16.0  15.0   8.0   0.0   0.0  0.0\n",
            "4       44  0.0  0.0   9.0  16.0  16.0  ...  13.0  10.0   0.0   0.0   0.0  0.0\n",
            "..     ...  ...  ...   ...   ...   ...  ...   ...   ...   ...   ...   ...  ...\n",
            "355   1774  0.0  0.0   6.0  12.0  12.0  ...   2.0  11.0  10.0   4.0   0.0  0.0\n",
            "356   1784  0.0  0.0   1.0  10.0  14.0  ...   0.0  12.0  14.0   4.0   0.0  0.0\n",
            "357   1785  0.0  1.0  10.0  16.0  15.0  ...  10.0  15.0   2.0   0.0   0.0  0.0\n",
            "358   1786  0.0  0.0   4.0  14.0  15.0  ...   4.0  13.0  15.0   9.0   0.0  0.0\n",
            "359   1790  0.0  0.0   5.0  12.0   8.0  ...   6.0  12.0  12.0   3.0   0.0  0.0\n",
            "\n",
            "[360 rows x 65 columns]\n",
            "<class 'pandas.core.frame.DataFrame'>\n",
            "(360, 65)\n",
            "<class 'pandas.core.frame.DataFrame'>\n",
            "RangeIndex: 360 entries, 0 to 359\n",
            "Data columns (total 65 columns):\n",
            " #   Column  Non-Null Count  Dtype  \n",
            "---  ------  --------------  -----  \n",
            " 0   index   360 non-null    int64  \n",
            " 1   0       360 non-null    float64\n",
            " 2   1       360 non-null    float64\n",
            " 3   2       360 non-null    float64\n",
            " 4   3       360 non-null    float64\n",
            " 5   4       360 non-null    float64\n",
            " 6   5       360 non-null    float64\n",
            " 7   6       360 non-null    float64\n",
            " 8   7       360 non-null    float64\n",
            " 9   8       360 non-null    float64\n",
            " 10  9       360 non-null    float64\n",
            " 11  10      360 non-null    float64\n",
            " 12  11      360 non-null    float64\n",
            " 13  12      360 non-null    float64\n",
            " 14  13      360 non-null    float64\n",
            " 15  14      360 non-null    float64\n",
            " 16  15      360 non-null    float64\n",
            " 17  16      360 non-null    float64\n",
            " 18  17      360 non-null    float64\n",
            " 19  18      360 non-null    float64\n",
            " 20  19      360 non-null    float64\n",
            " 21  20      360 non-null    float64\n",
            " 22  21      360 non-null    float64\n",
            " 23  22      360 non-null    float64\n",
            " 24  23      360 non-null    float64\n",
            " 25  24      360 non-null    float64\n",
            " 26  25      360 non-null    float64\n",
            " 27  26      360 non-null    float64\n",
            " 28  27      360 non-null    float64\n",
            " 29  28      360 non-null    float64\n",
            " 30  29      360 non-null    float64\n",
            " 31  30      360 non-null    float64\n",
            " 32  31      360 non-null    float64\n",
            " 33  32      360 non-null    float64\n",
            " 34  33      360 non-null    float64\n",
            " 35  34      360 non-null    float64\n",
            " 36  35      360 non-null    float64\n",
            " 37  36      360 non-null    float64\n",
            " 38  37      360 non-null    float64\n",
            " 39  38      360 non-null    float64\n",
            " 40  39      360 non-null    float64\n",
            " 41  40      360 non-null    float64\n",
            " 42  41      360 non-null    float64\n",
            " 43  42      360 non-null    float64\n",
            " 44  43      360 non-null    float64\n",
            " 45  44      360 non-null    float64\n",
            " 46  45      360 non-null    float64\n",
            " 47  46      360 non-null    float64\n",
            " 48  47      360 non-null    float64\n",
            " 49  48      360 non-null    float64\n",
            " 50  49      360 non-null    float64\n",
            " 51  50      360 non-null    float64\n",
            " 52  51      360 non-null    float64\n",
            " 53  52      360 non-null    float64\n",
            " 54  53      360 non-null    float64\n",
            " 55  54      360 non-null    float64\n",
            " 56  55      360 non-null    float64\n",
            " 57  56      360 non-null    float64\n",
            " 58  57      360 non-null    float64\n",
            " 59  58      360 non-null    float64\n",
            " 60  59      360 non-null    float64\n",
            " 61  60      360 non-null    float64\n",
            " 62  61      360 non-null    float64\n",
            " 63  62      360 non-null    float64\n",
            " 64  63      360 non-null    float64\n",
            "dtypes: float64(64), int64(1)\n",
            "memory usage: 182.9 KB\n",
            "None\n"
          ],
          "name": "stdout"
        }
      ]
    },
    {
      "cell_type": "code",
      "metadata": {
        "id": "3FwnJPrzB2hW"
      },
      "source": [
        ""
      ],
      "execution_count": null,
      "outputs": []
    },
    {
      "cell_type": "code",
      "metadata": {
        "colab": {
          "base_uri": "https://localhost:8080/"
        },
        "id": "66KlDHq-Csg6",
        "outputId": "05ae4db6-2127-42c3-9401-4c985cf5b64c"
      },
      "source": [
        "'''x_train = train_data.iloc[:,1:10]\r\n",
        "y_train = train_data.iloc[:,10]\r\n",
        "x_test = test_data.iloc[:,1:10]'''\r\n",
        "\r\n",
        "x_train = train_data.drop(['index','label'],axis=1)\r\n",
        "y_train = train_data['label'] \r\n",
        "x_test = test_data.drop(['index'],axis=1)\r\n",
        "\r\n",
        "print(x_train)\r\n",
        "print(type(x_train))\r\n",
        "print(x_train.shape)\r\n",
        "\r\n",
        "print(y_train)\r\n",
        "print(type(y_train))\r\n",
        "print(y_train.shape)\r\n",
        "\r\n",
        "print(x_test)\r\n",
        "print(type(x_test))\r\n",
        "print(x_test.shape)"
      ],
      "execution_count": null,
      "outputs": [
        {
          "output_type": "stream",
          "text": [
            "      0  1   2   3   4   5  6  7  8  9  ...  54  55  56  57  58  59  60  61  62  63\n",
            "0     0  0   5  13   9   1  0  0  0  0  ...   0   0   0   0   6  13  10   0   0   0\n",
            "1     0  0   0  12  13   5  0  0  0  0  ...   0   0   0   0   0  11  16  10   0   0\n",
            "2     0  0   0   4  15  12  0  0  0  0  ...   5   0   0   0   0   3  11  16   9   0\n",
            "3     0  0   7  15  13   1  0  0  0  8  ...   9   0   0   0   7  13  13   9   0   0\n",
            "4     0  0   0   1  11   0  0  0  0  0  ...   0   0   0   0   0   2  16   4   0   0\n",
            "...  .. ..  ..  ..  ..  .. .. .. .. ..  ...  ..  ..  ..  ..  ..  ..  ..  ..  ..  ..\n",
            "1432  0  0   4  10  13   6  0  0  0  1  ...   4   0   0   0   2  14  15   9   0   0\n",
            "1433  0  0   6  16  13  11  1  0  0  0  ...   1   0   0   0   6  16  14   6   0   0\n",
            "1434  0  0   1  11  15   1  0  0  0  0  ...   0   0   0   0   2   9  13   6   0   0\n",
            "1435  0  0   2  10   7   0  0  0  0  0  ...   2   0   0   0   5  12  16  12   0   0\n",
            "1436  0  0  10  14   8   1  0  0  0  2  ...   8   0   0   1   8  12  14  12   1   0\n",
            "\n",
            "[1437 rows x 64 columns]\n",
            "<class 'pandas.core.frame.DataFrame'>\n",
            "(1437, 64)\n",
            "0       0\n",
            "1       1\n",
            "2       2\n",
            "3       3\n",
            "4       4\n",
            "       ..\n",
            "1432    9\n",
            "1433    0\n",
            "1434    8\n",
            "1435    9\n",
            "1436    8\n",
            "Name: label, Length: 1437, dtype: int64\n",
            "<class 'pandas.core.series.Series'>\n",
            "(1437,)\n",
            "       0    1     2     3     4     5  ...    58    59    60    61    62   63\n",
            "0    0.0  1.0   8.0  12.0  15.0  14.0  ...  14.0  15.0  11.0   2.0   0.0  0.0\n",
            "1    0.0  0.0   9.0  13.0   7.0   0.0  ...   7.0  12.0  12.0  12.0  11.0  0.0\n",
            "2    0.0  0.0  10.0  14.0  11.0   3.0  ...  11.0  16.0  12.0   3.0   0.0  0.0\n",
            "3    0.0  2.0  13.0  16.0  16.0  16.0  ...  16.0  15.0   8.0   0.0   0.0  0.0\n",
            "4    0.0  0.0   9.0  16.0  16.0  16.0  ...  13.0  10.0   0.0   0.0   0.0  0.0\n",
            "..   ...  ...   ...   ...   ...   ...  ...   ...   ...   ...   ...   ...  ...\n",
            "355  0.0  0.0   6.0  12.0  12.0   6.0  ...   2.0  11.0  10.0   4.0   0.0  0.0\n",
            "356  0.0  0.0   1.0  10.0  14.0  13.0  ...   0.0  12.0  14.0   4.0   0.0  0.0\n",
            "357  0.0  1.0  10.0  16.0  15.0   2.0  ...  10.0  15.0   2.0   0.0   0.0  0.0\n",
            "358  0.0  0.0   4.0  14.0  15.0   6.0  ...   4.0  13.0  15.0   9.0   0.0  0.0\n",
            "359  0.0  0.0   5.0  12.0   8.0   0.0  ...   6.0  12.0  12.0   3.0   0.0  0.0\n",
            "\n",
            "[360 rows x 64 columns]\n",
            "<class 'pandas.core.frame.DataFrame'>\n",
            "(360, 64)\n"
          ],
          "name": "stdout"
        }
      ]
    },
    {
      "cell_type": "markdown",
      "metadata": {
        "id": "nJ0xCoVUEhiT"
      },
      "source": [
        "#### 모델 학습"
      ]
    },
    {
      "cell_type": "code",
      "metadata": {
        "id": "n1wDONfVDvIn"
      },
      "source": [
        ""
      ],
      "execution_count": null,
      "outputs": []
    },
    {
      "cell_type": "code",
      "metadata": {
        "colab": {
          "base_uri": "https://localhost:8080/"
        },
        "id": "hpg1p6z7EDW3",
        "outputId": "df8f2d2b-42a7-404e-e971-fc86b8fdf8cf"
      },
      "source": [
        "from sklearn.neighbors import KNeighborsClassifier\r\n",
        "neigh = KNeighborsClassifier(n_neighbors=5, weights='distance') # weights=uniform 디폴트 값\r\n",
        "neigh.fit(x_train, y_train)\r\n",
        "\r\n",
        "y_train_pred = neigh.predict(x_train)\r\n",
        "y_test_pred = neigh.predict(x_test)\r\n",
        "\r\n",
        "from sklearn.metrics import mean_squared_error\r\n",
        "print(mean_squared_error(y_train, y_train_pred))"
      ],
      "execution_count": null,
      "outputs": [
        {
          "output_type": "stream",
          "text": [
            "0.0\n"
          ],
          "name": "stdout"
        }
      ]
    },
    {
      "cell_type": "code",
      "metadata": {
        "colab": {
          "base_uri": "https://localhost:8080/"
        },
        "id": "qmMZ67WGF9dZ",
        "outputId": "9ffe089f-b759-44c8-be50-07a094552330"
      },
      "source": [
        "from sklearn.linear_model import LogisticRegression\r\n",
        "clf = LogisticRegression(random_state=1).fit(x_train, y_train)\r\n",
        "\r\n",
        "y_train_pred2 = clf.predict(x_train)\r\n",
        "y_test_pred2 = clf.predict(x_test)\r\n",
        "\r\n",
        "from sklearn.metrics import mean_squared_error\r\n",
        "print(mean_squared_error(y_train, y_train_pred2))"
      ],
      "execution_count": null,
      "outputs": [
        {
          "output_type": "stream",
          "text": [
            "0.0\n"
          ],
          "name": "stdout"
        },
        {
          "output_type": "stream",
          "text": [
            "/usr/local/lib/python3.7/dist-packages/sklearn/linear_model/_logistic.py:940: ConvergenceWarning: lbfgs failed to converge (status=1):\n",
            "STOP: TOTAL NO. of ITERATIONS REACHED LIMIT.\n",
            "\n",
            "Increase the number of iterations (max_iter) or scale the data as shown in:\n",
            "    https://scikit-learn.org/stable/modules/preprocessing.html\n",
            "Please also refer to the documentation for alternative solver options:\n",
            "    https://scikit-learn.org/stable/modules/linear_model.html#logistic-regression\n",
            "  extra_warning_msg=_LOGISTIC_SOLVER_CONVERGENCE_MSG)\n"
          ],
          "name": "stderr"
        }
      ]
    },
    {
      "cell_type": "code",
      "metadata": {
        "colab": {
          "base_uri": "https://localhost:8080/"
        },
        "id": "gR-CRMeqHFDN",
        "outputId": "8df988ea-eb57-4f75-f96f-9870b59d63ca"
      },
      "source": [
        "import numpy as np\r\n",
        "from sklearn.discriminant_analysis import LinearDiscriminantAnalysis\r\n",
        "\r\n",
        "clf = LinearDiscriminantAnalysis()\r\n",
        "clf.fit(x_train, y_train)\r\n",
        "\r\n",
        "\r\n",
        "y_train_pred3 = clf.predict(x_train)\r\n",
        "y_test_pred3 = clf.predict(x_test)\r\n",
        "\r\n",
        "from sklearn.metrics import mean_squared_error\r\n",
        "print(mean_squared_error(y_train, y_train_pred3))"
      ],
      "execution_count": null,
      "outputs": [
        {
          "output_type": "stream",
          "text": [
            "0.8009742519137091\n"
          ],
          "name": "stdout"
        }
      ]
    },
    {
      "cell_type": "code",
      "metadata": {
        "colab": {
          "base_uri": "https://localhost:8080/"
        },
        "id": "XuU7Ll0ZH9fu",
        "outputId": "926cbea0-c1bf-49a5-8199-9d5f38649731"
      },
      "source": [
        "from sklearn.discriminant_analysis import QuadraticDiscriminantAnalysis\r\n",
        "\r\n",
        "clf = QuadraticDiscriminantAnalysis()\r\n",
        "clf.fit(x_train, y_train)\r\n",
        "\r\n",
        "\r\n",
        "y_train_pred4 = clf.predict(x_train)\r\n",
        "y_test_pred4 = clf.predict(x_test)\r\n",
        "\r\n",
        "from sklearn.metrics import mean_squared_error\r\n",
        "print(mean_squared_error(y_train, y_train_pred4))"
      ],
      "execution_count": null,
      "outputs": [
        {
          "output_type": "stream",
          "text": [
            "0.6986778009742519\n"
          ],
          "name": "stdout"
        },
        {
          "output_type": "stream",
          "text": [
            "/usr/local/lib/python3.7/dist-packages/sklearn/discriminant_analysis.py:691: UserWarning: Variables are collinear\n",
            "  warnings.warn(\"Variables are collinear\")\n"
          ],
          "name": "stderr"
        }
      ]
    },
    {
      "cell_type": "code",
      "metadata": {
        "id": "jE_iWGXxIRkJ",
        "colab": {
          "base_uri": "https://localhost:8080/"
        },
        "outputId": "3eb17e88-918c-4824-e25c-96411f48a180"
      },
      "source": [
        "from sklearn.model_selection import cross_val_score\r\n",
        "from sklearn.tree import DecisionTreeClassifier\r\n",
        "clf = DecisionTreeClassifier(criterion='entropy', random_state=1)\r\n",
        "\r\n",
        "clf.fit(x_train, y_train)\r\n",
        "\r\n",
        "y_train_pred5 = clf.predict(x_train)\r\n",
        "y_test_pred5 = clf.predict(x_test)\r\n",
        "\r\n",
        "from sklearn.metrics import mean_squared_error\r\n",
        "print(mean_squared_error(y_train, y_train_pred5))\r\n",
        "\r\n",
        "# cross_val_score(clf, iris.data, iris.target, cv=10)\r\n",
        "    "
      ],
      "execution_count": null,
      "outputs": [
        {
          "output_type": "stream",
          "text": [
            "0.0\n"
          ],
          "name": "stdout"
        }
      ]
    },
    {
      "cell_type": "code",
      "metadata": {
        "colab": {
          "base_uri": "https://localhost:8080/"
        },
        "id": "lkC5vDyN46Mb",
        "outputId": "8b71faf4-c3bb-4742-f681-d40b03ea8924"
      },
      "source": [
        "\r\n",
        "from sklearn.linear_model import LinearRegression\r\n",
        "\r\n",
        "\r\n",
        "reg = LinearRegression().fit(x_train, y_train)\r\n",
        "#reg.score(x_train, x_train)\r\n",
        "\r\n",
        "y_train_pred6 = reg.predict(x_train)\r\n",
        "y_test_pred6 = reg.predict(x_test)\r\n",
        "\r\n",
        "from sklearn.metrics import mean_squared_error\r\n",
        "print(mean_squared_error(y_train, y_train_pred6))"
      ],
      "execution_count": null,
      "outputs": [
        {
          "output_type": "stream",
          "text": [
            "3.335295304938824\n"
          ],
          "name": "stdout"
        }
      ]
    },
    {
      "cell_type": "code",
      "metadata": {
        "id": "Paw6AxshHNku"
      },
      "source": [
        ""
      ],
      "execution_count": null,
      "outputs": []
    },
    {
      "cell_type": "markdown",
      "metadata": {
        "id": "9c8C5V7jJcLm"
      },
      "source": [
        "## 제출 데이터 생성"
      ]
    },
    {
      "cell_type": "code",
      "metadata": {
        "colab": {
          "base_uri": "https://localhost:8080/"
        },
        "id": "00eulryJJF8t",
        "outputId": "b77a33d4-a7d1-4ef5-8652-03505f8af47c"
      },
      "source": [
        "submit_data = pd.read_csv('sample_submission.csv')\r\n",
        "\r\n",
        "print(submit_data)\r\n",
        "print(type(submit_data))\r\n",
        "print(submit_data.shape)\r\n",
        "print(submit_data.info())"
      ],
      "execution_count": null,
      "outputs": [
        {
          "output_type": "stream",
          "text": [
            "     index  label\n",
            "0       23      1\n",
            "1       29      1\n",
            "2       30      1\n",
            "3       32      1\n",
            "4       44      1\n",
            "..     ...    ...\n",
            "355   1774      1\n",
            "356   1784      1\n",
            "357   1785      1\n",
            "358   1786      1\n",
            "359   1790      1\n",
            "\n",
            "[360 rows x 2 columns]\n",
            "<class 'pandas.core.frame.DataFrame'>\n",
            "(360, 2)\n",
            "<class 'pandas.core.frame.DataFrame'>\n",
            "RangeIndex: 360 entries, 0 to 359\n",
            "Data columns (total 2 columns):\n",
            " #   Column  Non-Null Count  Dtype\n",
            "---  ------  --------------  -----\n",
            " 0   index   360 non-null    int64\n",
            " 1   label   360 non-null    int64\n",
            "dtypes: int64(2)\n",
            "memory usage: 5.8 KB\n",
            "None\n"
          ],
          "name": "stdout"
        }
      ]
    },
    {
      "cell_type": "code",
      "metadata": {
        "colab": {
          "base_uri": "https://localhost:8080/"
        },
        "id": "ymypWkYQJrbj",
        "outputId": "7382347a-4bfe-4f10-b125-0d5246c8582f"
      },
      "source": [
        "submit_data['label'] = y_test_pred\r\n",
        "\r\n",
        "print(submit_data)\r\n",
        "\r\n",
        "submit_data.to_csv('submit1_distance.csv',index=None)"
      ],
      "execution_count": null,
      "outputs": [
        {
          "output_type": "stream",
          "text": [
            "     index  label\n",
            "0       23      3\n",
            "1       29      9\n",
            "2       30      0\n",
            "3       32      5\n",
            "4       44      7\n",
            "..     ...    ...\n",
            "355   1774      1\n",
            "356   1784      5\n",
            "357   1785      7\n",
            "358   1786      9\n",
            "359   1790      8\n",
            "\n",
            "[360 rows x 2 columns]\n"
          ],
          "name": "stdout"
        }
      ]
    },
    {
      "cell_type": "code",
      "metadata": {
        "colab": {
          "base_uri": "https://localhost:8080/"
        },
        "id": "f54MGAL1Klia",
        "outputId": "a2d1433d-3ed9-4161-829b-3bc9e79cfe0c"
      },
      "source": [
        "submit_data['label'] = y_test_pred2\r\n",
        "\r\n",
        "print(submit_data)\r\n",
        "\r\n",
        "submit_data.to_csv('submit2.csv',index=None)"
      ],
      "execution_count": null,
      "outputs": [
        {
          "output_type": "stream",
          "text": [
            "     index  label\n",
            "0       23      3\n",
            "1       29      9\n",
            "2       30      0\n",
            "3       32      5\n",
            "4       44      7\n",
            "..     ...    ...\n",
            "355   1774      1\n",
            "356   1784      5\n",
            "357   1785      7\n",
            "358   1786      9\n",
            "359   1790      8\n",
            "\n",
            "[360 rows x 2 columns]\n"
          ],
          "name": "stdout"
        }
      ]
    },
    {
      "cell_type": "code",
      "metadata": {
        "colab": {
          "base_uri": "https://localhost:8080/"
        },
        "id": "xfFJKLDNLpdK",
        "outputId": "ca554b06-5536-48e6-b65a-d9adc798482f"
      },
      "source": [
        "submit_data['label'] = y_test_pred3\r\n",
        "\r\n",
        "print(submit_data)\r\n",
        "\r\n",
        "submit_data.to_csv('submit3.csv',index=None)"
      ],
      "execution_count": null,
      "outputs": [
        {
          "output_type": "stream",
          "text": [
            "     index  label\n",
            "0       23      3\n",
            "1       29      9\n",
            "2       30      0\n",
            "3       32      5\n",
            "4       44      7\n",
            "..     ...    ...\n",
            "355   1774      1\n",
            "356   1784      5\n",
            "357   1785      7\n",
            "358   1786      9\n",
            "359   1790      8\n",
            "\n",
            "[360 rows x 2 columns]\n"
          ],
          "name": "stdout"
        }
      ]
    },
    {
      "cell_type": "code",
      "metadata": {
        "colab": {
          "base_uri": "https://localhost:8080/"
        },
        "id": "CGwnxJzZLvyU",
        "outputId": "512a10d5-9da6-4d44-f30b-fc8467ba7319"
      },
      "source": [
        "submit_data['label'] = y_test_pred4\r\n",
        "\r\n",
        "print(submit_data)\r\n",
        "\r\n",
        "submit_data.to_csv('submit4.csv',index=None)"
      ],
      "execution_count": null,
      "outputs": [
        {
          "output_type": "stream",
          "text": [
            "     index  label\n",
            "0       23      3\n",
            "1       29      9\n",
            "2       30      0\n",
            "3       32      5\n",
            "4       44      7\n",
            "..     ...    ...\n",
            "355   1774      1\n",
            "356   1784      5\n",
            "357   1785      7\n",
            "358   1786      9\n",
            "359   1790      8\n",
            "\n",
            "[360 rows x 2 columns]\n"
          ],
          "name": "stdout"
        }
      ]
    },
    {
      "cell_type": "code",
      "metadata": {
        "colab": {
          "base_uri": "https://localhost:8080/"
        },
        "id": "VeXDnJQLLzWB",
        "outputId": "2bc9c4bd-c410-45d2-a816-5be95b3fc2f7"
      },
      "source": [
        "submit_data['label'] = y_test_pred5\r\n",
        "\r\n",
        "print(submit_data)\r\n",
        "\r\n",
        "submit_data.to_csv('submit5.csv',index=None)"
      ],
      "execution_count": null,
      "outputs": [
        {
          "output_type": "stream",
          "text": [
            "     index  label\n",
            "0       23      3\n",
            "1       29      9\n",
            "2       30      0\n",
            "3       32      5\n",
            "4       44      7\n",
            "..     ...    ...\n",
            "355   1774      1\n",
            "356   1784      5\n",
            "357   1785      7\n",
            "358   1786      9\n",
            "359   1790      2\n",
            "\n",
            "[360 rows x 2 columns]\n"
          ],
          "name": "stdout"
        }
      ]
    },
    {
      "cell_type": "code",
      "metadata": {
        "colab": {
          "base_uri": "https://localhost:8080/"
        },
        "id": "HgSFvC1arrPr",
        "outputId": "0b2300ee-7e2f-4222-d33b-8e08a34ec680"
      },
      "source": [
        "submit_data['label'] = y_test_pred6\r\n",
        "\r\n",
        "print(submit_data)\r\n",
        "\r\n",
        "submit_data.to_csv('submit6.csv',index=None)"
      ],
      "execution_count": null,
      "outputs": [
        {
          "output_type": "stream",
          "text": [
            "     index     label\n",
            "0       23  3.551552\n",
            "1       29  4.707770\n",
            "2       30  2.422931\n",
            "3       32  4.446456\n",
            "4       44  6.703805\n",
            "..     ...       ...\n",
            "355   1774  4.730243\n",
            "356   1784  7.570154\n",
            "357   1785  5.342711\n",
            "358   1786  4.002829\n",
            "359   1790  4.138255\n",
            "\n",
            "[360 rows x 2 columns]\n"
          ],
          "name": "stdout"
        }
      ]
    },
    {
      "cell_type": "markdown",
      "metadata": {
        "id": "FW_bGP3jJ2x1"
      },
      "source": [
        "## 결과\r\n",
        "- 숫자데이터를 분류하는 분류문제\r\n",
        "- knn이 가장 성능 잘 나옴"
      ]
    },
    {
      "cell_type": "code",
      "metadata": {
        "id": "1wMsdFs7Ivos"
      },
      "source": [
        ""
      ],
      "execution_count": null,
      "outputs": []
    }
  ]
}