{
  "nbformat": 4,
  "nbformat_minor": 0,
  "metadata": {
    "colab": {
      "name": "기계학습 중간고사 2번.ipynb",
      "provenance": [],
      "collapsed_sections": []
    },
    "kernelspec": {
      "name": "python3",
      "display_name": "Python 3"
    }
  },
  "cells": [
    {
      "cell_type": "markdown",
      "metadata": {
        "id": "OedWjt-tBFQX"
      },
      "source": [
        "# 따릉이 사용자 수 예측 문제(회귀)\r\n",
        "- linearReg 성능 베스트"
      ]
    },
    {
      "cell_type": "code",
      "metadata": {
        "id": "zlrIamcZrISt"
      },
      "source": [
        "import pandas as pd\r\n"
      ],
      "execution_count": null,
      "outputs": []
    },
    {
      "cell_type": "markdown",
      "metadata": {
        "id": "qX_mZXJ895_B"
      },
      "source": [
        "판다스 불러올 때 원하는 열 제외하고 불러 올 수 있음  \r\n",
        "train_data = pd.read_csv('train.csv',index_col=0) # 0열 제외하고 불러옴"
      ]
    },
    {
      "cell_type": "code",
      "metadata": {
        "colab": {
          "base_uri": "https://localhost:8080/"
        },
        "id": "X_UTKBOerWBT",
        "outputId": "2a44cc2e-6943-4896-b2bf-a4eb0f0f719e"
      },
      "source": [
        "train_data = pd.read_csv('train.csv')\r\n",
        "test_data = pd.read_csv('test.csv')\r\n",
        "\r\n",
        "print(train_data)\r\n",
        "print(type(train_data))\r\n",
        "print(train_data.shape)\r\n",
        "print(train_data.info())\r\n",
        "\r\n",
        "print(test_data)\r\n",
        "print(type(test_data))\r\n",
        "print(test_data.shape)\r\n",
        "print(test_data.info())"
      ],
      "execution_count": null,
      "outputs": [
        {
          "output_type": "stream",
          "text": [
            "       id  hour  hour_bef_temperature  ...  hour_bef_pm10  hour_bef_pm2.5  count\n",
            "0       3    20                  16.3  ...           76.0            33.0   49.0\n",
            "1       6    13                  20.1  ...           73.0            40.0  159.0\n",
            "2       7     6                  13.9  ...           32.0            19.0   26.0\n",
            "3       8    23                   8.1  ...           75.0            64.0   57.0\n",
            "4       9    18                  29.5  ...           27.0            11.0  431.0\n",
            "..    ...   ...                   ...  ...            ...             ...    ...\n",
            "995  1647    14                  20.4  ...           23.0            13.0  108.0\n",
            "996  1649    15                  18.5  ...           92.0            83.0   78.0\n",
            "997  1650     4                  16.1  ...           39.0            28.0   27.0\n",
            "998  1652    16                  17.7  ...           64.0            22.0  118.0\n",
            "999  1653     6                  10.7  ...           32.0            28.0    5.0\n",
            "\n",
            "[1000 rows x 11 columns]\n",
            "<class 'pandas.core.frame.DataFrame'>\n",
            "(1000, 11)\n",
            "<class 'pandas.core.frame.DataFrame'>\n",
            "RangeIndex: 1000 entries, 0 to 999\n",
            "Data columns (total 11 columns):\n",
            " #   Column                  Non-Null Count  Dtype  \n",
            "---  ------                  --------------  -----  \n",
            " 0   id                      1000 non-null   int64  \n",
            " 1   hour                    1000 non-null   int64  \n",
            " 2   hour_bef_temperature    1000 non-null   float64\n",
            " 3   hour_bef_precipitation  1000 non-null   float64\n",
            " 4   hour_bef_windspeed      1000 non-null   float64\n",
            " 5   hour_bef_humidity       1000 non-null   float64\n",
            " 6   hour_bef_visibility     1000 non-null   float64\n",
            " 7   hour_bef_ozone          1000 non-null   float64\n",
            " 8   hour_bef_pm10           1000 non-null   float64\n",
            " 9   hour_bef_pm2.5          1000 non-null   float64\n",
            " 10  count                   1000 non-null   float64\n",
            "dtypes: float64(9), int64(2)\n",
            "memory usage: 86.1 KB\n",
            "None\n",
            "       id  hour  ...  hour_bef_pm10  hour_bef_pm2.5\n",
            "0    1655     4  ...           41.0            27.0\n",
            "1    1657    20  ...           35.0            19.0\n",
            "2    1660    22  ...          169.0            38.0\n",
            "3    1662     7  ...           50.0            39.0\n",
            "4    1663     8  ...           82.0            40.0\n",
            "..    ...   ...  ...            ...             ...\n",
            "322  2174     4  ...           37.0            27.0\n",
            "323  2175     3  ...           34.0            19.0\n",
            "324  2176     5  ...           30.0            21.0\n",
            "325  2178    21  ...           71.0            36.0\n",
            "326  2179    17  ...           38.0            17.0\n",
            "\n",
            "[327 rows x 10 columns]\n",
            "<class 'pandas.core.frame.DataFrame'>\n",
            "(327, 10)\n",
            "<class 'pandas.core.frame.DataFrame'>\n",
            "RangeIndex: 327 entries, 0 to 326\n",
            "Data columns (total 10 columns):\n",
            " #   Column                  Non-Null Count  Dtype  \n",
            "---  ------                  --------------  -----  \n",
            " 0   id                      327 non-null    int64  \n",
            " 1   hour                    327 non-null    int64  \n",
            " 2   hour_bef_temperature    327 non-null    float64\n",
            " 3   hour_bef_precipitation  327 non-null    float64\n",
            " 4   hour_bef_windspeed      327 non-null    float64\n",
            " 5   hour_bef_humidity       327 non-null    float64\n",
            " 6   hour_bef_visibility     327 non-null    float64\n",
            " 7   hour_bef_ozone          327 non-null    float64\n",
            " 8   hour_bef_pm10           327 non-null    float64\n",
            " 9   hour_bef_pm2.5          327 non-null    float64\n",
            "dtypes: float64(8), int64(2)\n",
            "memory usage: 25.7 KB\n",
            "None\n"
          ],
          "name": "stdout"
        }
      ]
    },
    {
      "cell_type": "markdown",
      "metadata": {
        "id": "DnxTt7Pa_w74"
      },
      "source": [
        "#### x,y 데이터 나누기\r\n",
        "- 판다스 iloc\r\n",
        "- drop('열이름',axis=1) 로 열 제거 가능"
      ]
    },
    {
      "cell_type": "code",
      "metadata": {
        "colab": {
          "base_uri": "https://localhost:8080/"
        },
        "id": "66KlDHq-Csg6",
        "outputId": "ebee084f-7cab-429d-955f-9e8d93bed479"
      },
      "source": [
        "x_train = train_data.iloc[:,1:10]\r\n",
        "y_train = train_data.iloc[:,10]\r\n",
        "x_test = test_data.iloc[:,1:10]\r\n",
        "\r\n",
        "''' x_train = train_data.drop('id',axis=1)\r\n",
        "    y_train =train_data['count'] 로 대체 가능'''\r\n",
        "\r\n",
        "print(x_train)\r\n",
        "print(type(x_train))\r\n",
        "print(x_train.shape)\r\n",
        "\r\n",
        "print(y_train)\r\n",
        "print(type(y_train))\r\n",
        "print(y_train.shape)"
      ],
      "execution_count": null,
      "outputs": [
        {
          "output_type": "stream",
          "text": [
            "     hour  hour_bef_temperature  ...  hour_bef_pm10  hour_bef_pm2.5\n",
            "0      20                  16.3  ...           76.0            33.0\n",
            "1      13                  20.1  ...           73.0            40.0\n",
            "2       6                  13.9  ...           32.0            19.0\n",
            "3      23                   8.1  ...           75.0            64.0\n",
            "4      18                  29.5  ...           27.0            11.0\n",
            "..    ...                   ...  ...            ...             ...\n",
            "995    14                  20.4  ...           23.0            13.0\n",
            "996    15                  18.5  ...           92.0            83.0\n",
            "997     4                  16.1  ...           39.0            28.0\n",
            "998    16                  17.7  ...           64.0            22.0\n",
            "999     6                  10.7  ...           32.0            28.0\n",
            "\n",
            "[1000 rows x 9 columns]\n",
            "<class 'pandas.core.frame.DataFrame'>\n",
            "(1000, 9)\n",
            "0       49.0\n",
            "1      159.0\n",
            "2       26.0\n",
            "3       57.0\n",
            "4      431.0\n",
            "       ...  \n",
            "995    108.0\n",
            "996     78.0\n",
            "997     27.0\n",
            "998    118.0\n",
            "999      5.0\n",
            "Name: count, Length: 1000, dtype: float64\n",
            "<class 'pandas.core.series.Series'>\n",
            "(1000,)\n"
          ],
          "name": "stdout"
        }
      ]
    },
    {
      "cell_type": "markdown",
      "metadata": {
        "id": "nJ0xCoVUEhiT"
      },
      "source": [
        "#### 모델 학습"
      ]
    },
    {
      "cell_type": "code",
      "metadata": {
        "colab": {
          "base_uri": "https://localhost:8080/"
        },
        "id": "hpg1p6z7EDW3",
        "outputId": "0bdf3a91-c857-44d1-a929-f8d7cbbd97b1"
      },
      "source": [
        "from sklearn.neighbors import KNeighborsClassifier\r\n",
        "neigh = KNeighborsClassifier(n_neighbors=3, weights='uniform')\r\n",
        "neigh.fit(x_train, y_train)\r\n",
        "\r\n",
        "y_train_pred = neigh.predict(x_train)\r\n",
        "y_test_pred = neigh.predict(x_test)\r\n",
        "\r\n",
        "from sklearn.metrics import mean_squared_error\r\n",
        "print(mean_squared_error(y_train, y_train_pred))"
      ],
      "execution_count": null,
      "outputs": [
        {
          "output_type": "stream",
          "text": [
            "5010.128\n"
          ],
          "name": "stdout"
        }
      ]
    },
    {
      "cell_type": "code",
      "metadata": {
        "colab": {
          "base_uri": "https://localhost:8080/"
        },
        "id": "aFK-_D7Luk4B",
        "outputId": "c135995e-b84d-4fb4-acc2-338ff96e5437"
      },
      "source": [
        "from sklearn.metrics import f1_score\r\n",
        "\r\n",
        "print(f1_score(y_train, y_train_pred, average='macro'))\r\n",
        "\r\n",
        "print(f1_score(y_train, y_train_pred, average='micro'))\r\n",
        "\r\n",
        "print(f1_score(y_train, y_train_pred, average='weighted'))\r\n",
        "\r\n",
        "print(f1_score(y_train, y_train_pred, average=None))\r\n",
        "\r\n",
        "\r\n",
        "# f1_score(y_true, y_pred, zero_division=1)"
      ],
      "execution_count": null,
      "outputs": [
        {
          "output_type": "stream",
          "text": [
            "0.21341080053220918\n",
            "0.34\n",
            "0.2831012860778576\n",
            "[0.5        0.625      0.26666667 0.66666667 0.4        0.46153846\n",
            " 0.5        0.52631579 0.51612903 0.53846154 0.43478261 0.51851852\n",
            " 0.36363636 0.46153846 0.42307692 0.34482759 0.45454545 0.13333333\n",
            " 0.38709677 0.46666667 0.31578947 0.31578947 0.4375     0.4\n",
            " 0.44444444 0.33333333 0.4        0.33333333 0.4        0.28571429\n",
            " 0.33333333 0.         0.33333333 0.375      0.5        0.22222222\n",
            " 0.44444444 0.         0.22222222 0.57142857 0.28571429 0.\n",
            " 0.         0.         0.         0.36363636 0.         0.\n",
            " 0.         0.66666667 0.         0.28571429 1.         0.\n",
            " 0.66666667 0.33333333 0.66666667 0.4        0.44444444 0.4\n",
            " 0.         0.8        0.76923077 0.5        0.36363636 0.\n",
            " 0.         1.         0.22222222 0.5        0.25       0.4\n",
            " 0.22222222 0.23529412 0.22222222 0.57142857 0.5        0.375\n",
            " 0.         0.44444444 0.4        0.4        0.66666667 0.4\n",
            " 0.         0.42857143 0.31578947 0.         0.28571429 0.31578947\n",
            " 0.4        0.33333333 0.57142857 0.52173913 0.4        0.57142857\n",
            " 0.25       0.         0.         0.5        0.28571429 0.\n",
            " 0.44444444 0.46153846 0.5        0.42105263 0.47619048 0.33333333\n",
            " 0.         0.33333333 0.57142857 0.36363636 0.33333333 0.\n",
            " 0.         0.         0.18181818 0.22222222 0.         0.19047619\n",
            " 0.44444444 0.5        0.4        0.22222222 0.30769231 0.75\n",
            " 0.         0.28571429 0.28571429 0.5        0.4        0.\n",
            " 0.33333333 0.33333333 0.25       0.28571429 0.2        0.\n",
            " 0.5        0.33333333 0.28571429 0.4        0.         0.4\n",
            " 0.         0.33333333 0.         0.         0.22222222 0.4\n",
            " 0.33333333 0.66666667 0.         0.         0.66666667 0.5\n",
            " 0.33333333 0.         0.5        0.         0.         0.\n",
            " 0.         0.4        0.4        0.         0.         0.\n",
            " 0.         0.         0.         0.         0.         0.\n",
            " 0.         0.         0.         0.         0.         0.\n",
            " 0.         0.         0.         0.         0.4        0.5\n",
            " 0.         0.         0.5        0.         0.66666667 0.5\n",
            " 0.         0.5        0.         0.         0.         0.\n",
            " 0.5        0.         0.         0.66666667 0.         0.\n",
            " 0.22222222 0.         0.         0.         0.         0.\n",
            " 0.         0.5        0.         0.         0.25       0.\n",
            " 0.         0.         0.         1.         0.         0.\n",
            " 0.         0.         0.         0.         0.         0.\n",
            " 0.         0.         0.         0.4        0.33333333 0.\n",
            " 0.66666667 0.         0.         0.         0.         0.\n",
            " 0.         0.         0.         0.         0.         0.4\n",
            " 0.         0.         1.         0.         0.         0.\n",
            " 0.5        0.         0.         0.         0.         0.\n",
            " 0.         0.         0.         0.         0.         0.\n",
            " 0.         0.         0.         0.         0.         0.\n",
            " 0.         0.         0.         0.         0.         0.\n",
            " 0.         0.         0.         0.         0.         0.\n",
            " 0.         0.         0.         0.         0.         0.\n",
            " 0.         0.         0.        ]\n"
          ],
          "name": "stdout"
        }
      ]
    },
    {
      "cell_type": "code",
      "metadata": {
        "colab": {
          "base_uri": "https://localhost:8080/"
        },
        "id": "qmMZ67WGF9dZ",
        "outputId": "972ff471-2593-40bc-ae45-a4cb97de2b47"
      },
      "source": [
        "from sklearn.linear_model import LogisticRegression\r\n",
        "clf = LogisticRegression(random_state=1).fit(x_train, y_train)\r\n",
        "\r\n",
        "y_train_pred2 = clf.predict(x_train)\r\n",
        "y_test_pred2 = clf.predict(x_test)\r\n",
        "\r\n",
        "from sklearn.metrics import mean_squared_error\r\n",
        "print(mean_squared_error(y_train, y_train_pred2))"
      ],
      "execution_count": null,
      "outputs": [
        {
          "output_type": "stream",
          "text": [
            "7076.346\n"
          ],
          "name": "stdout"
        },
        {
          "output_type": "stream",
          "text": [
            "/usr/local/lib/python3.7/dist-packages/sklearn/linear_model/_logistic.py:940: ConvergenceWarning: lbfgs failed to converge (status=1):\n",
            "STOP: TOTAL NO. of ITERATIONS REACHED LIMIT.\n",
            "\n",
            "Increase the number of iterations (max_iter) or scale the data as shown in:\n",
            "    https://scikit-learn.org/stable/modules/preprocessing.html\n",
            "Please also refer to the documentation for alternative solver options:\n",
            "    https://scikit-learn.org/stable/modules/linear_model.html#logistic-regression\n",
            "  extra_warning_msg=_LOGISTIC_SOLVER_CONVERGENCE_MSG)\n"
          ],
          "name": "stderr"
        }
      ]
    },
    {
      "cell_type": "code",
      "metadata": {
        "colab": {
          "base_uri": "https://localhost:8080/"
        },
        "id": "CQjunvQHvABA",
        "outputId": "6ba080e6-ea27-4131-97a7-b783ee9ca141"
      },
      "source": [
        "from sklearn.metrics import f1_score\r\n",
        "\r\n",
        "print(f1_score(y_train, y_train_pred2, average='macro'))\r\n",
        "\r\n",
        "print(f1_score(y_train, y_train_pred2, average='micro'))\r\n",
        "\r\n",
        "print(f1_score(y_train, y_train_pred2, average='weighted'))\r\n"
      ],
      "execution_count": null,
      "outputs": [
        {
          "output_type": "stream",
          "text": [
            "0.007710012478092307\n",
            "0.039\n",
            "0.014233374939936422\n",
            "[0.28571429 0.         0.         0.         0.         0.\n",
            " 0.         0.         0.         0.         0.         0.\n",
            " 0.         0.         0.09716599 0.03846154 0.         0.\n",
            " 0.         0.         0.         0.10526316 0.05633803 0.\n",
            " 0.         0.         0.         0.         0.         0.16666667\n",
            " 0.         0.         0.         0.         0.         0.\n",
            " 0.13333333 0.         0.         0.07407407 0.         0.\n",
            " 0.         0.         0.         0.         0.         0.\n",
            " 0.         0.         0.         0.         0.         0.\n",
            " 0.         0.         0.         0.33333333 0.28571429 0.\n",
            " 0.         0.         0.         0.         0.         0.\n",
            " 0.         0.         0.         0.         0.         0.\n",
            " 0.         0.         0.06666667 0.         0.         0.\n",
            " 0.         0.         0.         0.         0.         0.\n",
            " 0.         0.         0.         0.         0.         0.\n",
            " 0.         0.         0.         0.         0.         0.\n",
            " 0.         0.         0.         0.         0.         0.\n",
            " 0.         0.14285714 0.         0.04651163 0.         0.\n",
            " 0.         0.         0.         0.02061856 0.         0.\n",
            " 0.         0.         0.         0.         0.         0.04878049\n",
            " 0.0610687  0.         0.         0.         0.         0.\n",
            " 0.         0.         0.         0.         0.         0.\n",
            " 0.         0.         0.         0.         0.         0.\n",
            " 0.         0.         0.         0.         0.         0.\n",
            " 0.         0.         0.         0.         0.         0.\n",
            " 0.         0.         0.         0.         0.         0.\n",
            " 0.         0.         0.         0.         0.         0.\n",
            " 0.         0.         0.         0.         0.         0.\n",
            " 0.         0.         0.         0.         0.         0.\n",
            " 0.         0.         0.         0.         0.         0.\n",
            " 0.         0.         0.         0.         0.         0.\n",
            " 0.         0.         0.         0.         0.         0.\n",
            " 0.         0.         0.         0.         0.         0.\n",
            " 0.         0.         0.         0.         0.         0.\n",
            " 0.05882353 0.         0.         0.         0.         0.\n",
            " 0.         0.         0.         0.         0.         0.\n",
            " 0.         0.         0.         0.         0.         0.\n",
            " 0.         0.         0.         0.         0.         0.\n",
            " 0.         0.         0.         0.         0.         0.\n",
            " 0.         0.         0.         0.         0.         0.\n",
            " 0.         0.         0.         0.         0.         0.\n",
            " 0.         0.         0.         0.         0.         0.\n",
            " 0.         0.         0.         0.         0.         0.\n",
            " 0.         0.         0.         0.         0.         0.\n",
            " 0.         0.         0.         0.         0.         0.\n",
            " 0.         0.         0.         0.22222222 0.         0.\n",
            " 0.         0.         0.         0.         0.         0.\n",
            " 0.         0.         0.         0.         0.         0.\n",
            " 0.         0.         0.        ]\n"
          ],
          "name": "stdout"
        }
      ]
    },
    {
      "cell_type": "code",
      "metadata": {
        "colab": {
          "base_uri": "https://localhost:8080/"
        },
        "id": "gR-CRMeqHFDN",
        "outputId": "8d4d1329-3fcc-4e7f-e853-3f3b90f8e24c"
      },
      "source": [
        "import numpy as np\r\n",
        "from sklearn.discriminant_analysis import LinearDiscriminantAnalysis\r\n",
        "\r\n",
        "clf = LinearDiscriminantAnalysis()\r\n",
        "clf.fit(x_train, y_train)\r\n",
        "\r\n",
        "\r\n",
        "y_train_pred3 = clf.predict(x_train)\r\n",
        "y_test_pred3 = clf.predict(x_test)\r\n",
        "\r\n",
        "from sklearn.metrics import mean_squared_error\r\n",
        "print(mean_squared_error(y_train, y_train_pred3))"
      ],
      "execution_count": null,
      "outputs": [
        {
          "output_type": "stream",
          "text": [
            "3915.96\n"
          ],
          "name": "stdout"
        }
      ]
    },
    {
      "cell_type": "code",
      "metadata": {
        "colab": {
          "base_uri": "https://localhost:8080/"
        },
        "id": "1U5uGQ9BvF5w",
        "outputId": "d6afe649-5e10-404f-830d-8824a49e8067"
      },
      "source": [
        "from sklearn.metrics import f1_score\r\n",
        "\r\n",
        "print(f1_score(y_train, y_train_pred3, average='macro'))\r\n",
        "\r\n",
        "print(f1_score(y_train, y_train_pred3, average='micro'))\r\n",
        "\r\n",
        "print(f1_score(y_train, y_train_pred3, average='weighted'))\r\n",
        "\r\n"
      ],
      "execution_count": null,
      "outputs": [
        {
          "output_type": "stream",
          "text": [
            "0.13807733751195275\n",
            "0.128\n",
            "0.09478641968358759\n",
            "[0.30769231 0.25       0.         0.66666667 0.         0.\n",
            " 0.66666667 0.10526316 0.         0.         0.         0.13333333\n",
            " 0.29411765 0.13333333 0.18604651 0.07142857 0.         0.\n",
            " 0.         0.5        0.         0.         0.17857143 0.\n",
            " 1.         0.         0.22222222 0.09090909 0.         0.\n",
            " 0.         0.         0.         0.         0.         0.16666667\n",
            " 0.         0.         0.         0.3        0.         0.\n",
            " 0.         0.         0.         0.22222222 0.         0.\n",
            " 0.         0.         0.         0.         0.5        0.44444444\n",
            " 0.         0.         0.         0.15384615 0.23529412 0.\n",
            " 0.         0.         0.         0.15384615 0.         0.\n",
            " 0.         0.66666667 0.         0.         0.         0.33333333\n",
            " 0.18181818 0.         0.         0.22222222 0.         0.06666667\n",
            " 0.         0.         0.25       0.         0.         0.\n",
            " 0.         0.         0.         0.         0.18181818 0.21052632\n",
            " 0.22222222 0.         0.25       0.21052632 0.         0.\n",
            " 0.         0.         0.         0.         0.         0.\n",
            " 0.         0.         0.         0.10526316 0.15384615 0.15384615\n",
            " 0.         0.         0.         0.10526316 0.         0.\n",
            " 0.         0.         0.         0.         0.         0.0952381\n",
            " 0.03846154 0.         0.         0.18181818 0.         0.25\n",
            " 0.         0.         0.         0.         0.44444444 0.\n",
            " 0.33333333 0.         0.125      0.         0.         0.\n",
            " 0.25       0.         0.         0.         0.         0.\n",
            " 0.4        0.         0.         0.25       0.         0.\n",
            " 0.2        1.         0.         0.         0.5        0.\n",
            " 0.66666667 0.         0.28571429 0.         0.         0.\n",
            " 0.         0.         0.28571429 0.66666667 0.         0.\n",
            " 0.         0.16       0.         1.         1.         1.\n",
            " 0.         0.         0.         0.         0.         0.\n",
            " 0.5        0.         0.         0.         0.28571429 0.\n",
            " 0.         0.         0.         0.         0.         0.\n",
            " 0.         0.         0.66666667 0.         0.         0.\n",
            " 0.         1.         0.66666667 0.         0.         0.\n",
            " 0.         0.         0.15384615 0.         0.         0.\n",
            " 0.11111111 0.         0.         0.         0.28571429 0.66666667\n",
            " 0.         0.         0.66666667 0.         0.         0.\n",
            " 0.         0.         0.         0.         0.4        0.\n",
            " 0.         0.66666667 0.66666667 0.         0.         1.\n",
            " 0.         0.         0.         0.         0.         1.\n",
            " 1.         0.         0.         0.         0.28571429 0.66666667\n",
            " 0.         0.         0.         0.         0.         0.\n",
            " 0.         0.         0.         1.         0.5        0.\n",
            " 0.         0.         0.         0.         0.         0.\n",
            " 0.         0.         0.11764706 0.         1.         0.\n",
            " 0.         0.         0.         0.44444444 0.         0.\n",
            " 0.         0.         0.66666667 0.66666667 0.         0.\n",
            " 0.         0.66666667 0.         0.         1.         1.\n",
            " 1.         1.         1.        ]\n"
          ],
          "name": "stdout"
        }
      ]
    },
    {
      "cell_type": "code",
      "metadata": {
        "colab": {
          "base_uri": "https://localhost:8080/",
          "height": 398
        },
        "id": "XuU7Ll0ZH9fu",
        "outputId": "55aa1619-4f5e-417a-aee8-9c17cdc7fbb1"
      },
      "source": [
        "from sklearn.discriminant_analysis import QuadraticDiscriminantAnalysis\r\n",
        "\r\n",
        "clf = QuadraticDiscriminantAnalysis()\r\n",
        "clf.fit(x_train, y_train)\r\n",
        "\r\n",
        "\r\n",
        "y_train_pred4 = clf.predict(x_train)\r\n",
        "y_test_pred4 = clf.predict(x_test)\r\n",
        "\r\n",
        "from sklearn.metrics import mean_squared_error\r\n",
        "print(mean_squared_error(y_train, y_train_pred4))"
      ],
      "execution_count": null,
      "outputs": [
        {
          "output_type": "stream",
          "text": [
            "/usr/local/lib/python3.7/dist-packages/sklearn/discriminant_analysis.py:691: UserWarning: Variables are collinear\n",
            "  warnings.warn(\"Variables are collinear\")\n"
          ],
          "name": "stderr"
        },
        {
          "output_type": "error",
          "ename": "ValueError",
          "evalue": "ignored",
          "traceback": [
            "\u001b[0;31m---------------------------------------------------------------------------\u001b[0m",
            "\u001b[0;31mValueError\u001b[0m                                Traceback (most recent call last)",
            "\u001b[0;32m<ipython-input-63-d050be9a05bb>\u001b[0m in \u001b[0;36m<module>\u001b[0;34m()\u001b[0m\n\u001b[1;32m      2\u001b[0m \u001b[0;34m\u001b[0m\u001b[0m\n\u001b[1;32m      3\u001b[0m \u001b[0mclf\u001b[0m \u001b[0;34m=\u001b[0m \u001b[0mQuadraticDiscriminantAnalysis\u001b[0m\u001b[0;34m(\u001b[0m\u001b[0;34m)\u001b[0m\u001b[0;34m\u001b[0m\u001b[0;34m\u001b[0m\u001b[0m\n\u001b[0;32m----> 4\u001b[0;31m \u001b[0mclf\u001b[0m\u001b[0;34m.\u001b[0m\u001b[0mfit\u001b[0m\u001b[0;34m(\u001b[0m\u001b[0mx_train\u001b[0m\u001b[0;34m,\u001b[0m \u001b[0my_train\u001b[0m\u001b[0;34m)\u001b[0m\u001b[0;34m\u001b[0m\u001b[0;34m\u001b[0m\u001b[0m\n\u001b[0m\u001b[1;32m      5\u001b[0m \u001b[0;34m\u001b[0m\u001b[0m\n\u001b[1;32m      6\u001b[0m \u001b[0;34m\u001b[0m\u001b[0m\n",
            "\u001b[0;32m/usr/local/lib/python3.7/dist-packages/sklearn/discriminant_analysis.py\u001b[0m in \u001b[0;36mfit\u001b[0;34m(self, X, y)\u001b[0m\n\u001b[1;32m    683\u001b[0m             \u001b[0;32mif\u001b[0m \u001b[0mlen\u001b[0m\u001b[0;34m(\u001b[0m\u001b[0mXg\u001b[0m\u001b[0;34m)\u001b[0m \u001b[0;34m==\u001b[0m \u001b[0;36m1\u001b[0m\u001b[0;34m:\u001b[0m\u001b[0;34m\u001b[0m\u001b[0;34m\u001b[0m\u001b[0m\n\u001b[1;32m    684\u001b[0m                 raise ValueError('y has only 1 sample in class %s, covariance '\n\u001b[0;32m--> 685\u001b[0;31m                                  'is ill defined.' % str(self.classes_[ind]))\n\u001b[0m\u001b[1;32m    686\u001b[0m             \u001b[0mXgc\u001b[0m \u001b[0;34m=\u001b[0m \u001b[0mXg\u001b[0m \u001b[0;34m-\u001b[0m \u001b[0mmeang\u001b[0m\u001b[0;34m\u001b[0m\u001b[0;34m\u001b[0m\u001b[0m\n\u001b[1;32m    687\u001b[0m             \u001b[0;31m# Xgc = U * S * V.T\u001b[0m\u001b[0;34m\u001b[0m\u001b[0;34m\u001b[0m\u001b[0;34m\u001b[0m\u001b[0m\n",
            "\u001b[0;31mValueError\u001b[0m: y has only 1 sample in class 4.0, covariance is ill defined."
          ]
        }
      ]
    },
    {
      "cell_type": "code",
      "metadata": {
        "id": "Yg3XFokkvIkv"
      },
      "source": [
        "from sklearn.metrics import f1_score\r\n",
        "\r\n",
        "print(f1_score(y_train, y_train_pred4, average='macro'))\r\n",
        "\r\n",
        "print(f1_score(y_train, y_train_pred4, average='micro'))\r\n",
        "\r\n",
        "print(f1_score(y_train, y_train_pred4, average='weighted'))\r\n",
        "\r\n"
      ],
      "execution_count": null,
      "outputs": []
    },
    {
      "cell_type": "markdown",
      "metadata": {
        "id": "yzae2EGC-W-K"
      },
      "source": [
        "#### 회귀문제로 DT 사용 안함"
      ]
    },
    {
      "cell_type": "code",
      "metadata": {
        "id": "jE_iWGXxIRkJ"
      },
      "source": [
        "from sklearn.model_selection import cross_val_score\r\n",
        "from sklearn.tree import DecisionTreeClassifier\r\n",
        "clf = DecisionTreeClassifier(criterion='entropy', random_state=1)\r\n",
        "\r\n",
        "clf.fit(x_train, y_train)\r\n",
        "\r\n",
        "y_train_pred5 = clf.predict(x_train)\r\n",
        "y_test_pred5 = clf.predict(x_test)\r\n",
        "\r\n",
        "from sklearn.metrics import mean_squared_error\r\n",
        "print(mean_squared_error(y_train, y_train_pred5))\r\n",
        "\r\n",
        "# cross_val_score(clf, iris.data, iris.target, cv=10)\r\n",
        "    "
      ],
      "execution_count": null,
      "outputs": []
    },
    {
      "cell_type": "code",
      "metadata": {
        "id": "YIxsuJDvvMUg"
      },
      "source": [
        "from sklearn.metrics import f1_score\r\n",
        "\r\n",
        "print(f1_score(y_train, y_train_pred5, average='macro'))\r\n",
        "\r\n",
        "print(f1_score(y_train, y_train_pred5, average='micro'))\r\n",
        "\r\n",
        "print(f1_score(y_train, y_train_pred5, average='weighted'))\r\n",
        "\r\n"
      ],
      "execution_count": null,
      "outputs": []
    },
    {
      "cell_type": "markdown",
      "metadata": {
        "id": "0-XJg53x-gMt"
      },
      "source": [
        "#### 회귀 문제로 선형회귀 모델 추가"
      ]
    },
    {
      "cell_type": "code",
      "metadata": {
        "colab": {
          "base_uri": "https://localhost:8080/"
        },
        "id": "lkC5vDyN46Mb",
        "outputId": "57f0cc1d-94cb-404b-8ba0-3e9c35c4886d"
      },
      "source": [
        "\r\n",
        "from sklearn.linear_model import LinearRegression\r\n",
        "\r\n",
        "\r\n",
        "reg = LinearRegression().fit(x_train, y_train)\r\n",
        "#reg.score(x_train, x_train)\r\n",
        "\r\n",
        "y_train_pred6 = reg.predict(x_train)\r\n",
        "y_test_pred6 = reg.predict(x_test)\r\n",
        "\r\n",
        "from sklearn.metrics import mean_squared_error\r\n",
        "print(mean_squared_error(y_train, y_train_pred6))"
      ],
      "execution_count": null,
      "outputs": [
        {
          "output_type": "stream",
          "text": [
            "2921.406384231424\n"
          ],
          "name": "stdout"
        }
      ]
    },
    {
      "cell_type": "markdown",
      "metadata": {
        "id": "9c8C5V7jJcLm"
      },
      "source": [
        "## 제출 데이터 생성"
      ]
    },
    {
      "cell_type": "code",
      "metadata": {
        "colab": {
          "base_uri": "https://localhost:8080/"
        },
        "id": "00eulryJJF8t",
        "outputId": "10249a4a-7b89-4f33-8e27-17b894f5d61e"
      },
      "source": [
        "submit_data = pd.read_csv('/content/sampleSubmissin.csv')\r\n",
        "\r\n",
        "print(submit_data)\r\n",
        "print(type(submit_data))\r\n",
        "print(submit_data.shape)\r\n",
        "print(submit_data.info())"
      ],
      "execution_count": null,
      "outputs": [
        {
          "output_type": "stream",
          "text": [
            "      id  count\n",
            "0      0      0\n",
            "1      1      0\n",
            "2      2      0\n",
            "3      3      0\n",
            "4      4      0\n",
            "..   ...    ...\n",
            "322  322      0\n",
            "323  323      0\n",
            "324  324      0\n",
            "325  325      0\n",
            "326  326      0\n",
            "\n",
            "[327 rows x 2 columns]\n",
            "<class 'pandas.core.frame.DataFrame'>\n",
            "(327, 2)\n",
            "<class 'pandas.core.frame.DataFrame'>\n",
            "RangeIndex: 327 entries, 0 to 326\n",
            "Data columns (total 2 columns):\n",
            " #   Column  Non-Null Count  Dtype\n",
            "---  ------  --------------  -----\n",
            " 0   id      327 non-null    int64\n",
            " 1   count   327 non-null    int64\n",
            "dtypes: int64(2)\n",
            "memory usage: 5.2 KB\n",
            "None\n"
          ],
          "name": "stdout"
        }
      ]
    },
    {
      "cell_type": "code",
      "metadata": {
        "colab": {
          "base_uri": "https://localhost:8080/"
        },
        "id": "ymypWkYQJrbj",
        "outputId": "cc42bbc8-4929-4c5a-a4f9-539310459b09"
      },
      "source": [
        "submit_data['count'] = y_test_pred\r\n",
        "\r\n",
        "print(submit_data)\r\n",
        "\r\n",
        "submit_data.to_csv('submit1.csv',index=None)"
      ],
      "execution_count": null,
      "outputs": [
        {
          "output_type": "stream",
          "text": [
            "      id  count\n",
            "0      0   11.0\n",
            "1      1  199.0\n",
            "2      2    8.0\n",
            "3      3   11.0\n",
            "4      4   18.0\n",
            "..   ...    ...\n",
            "322  322   11.0\n",
            "323  323    8.0\n",
            "324  324   17.0\n",
            "325  325  132.0\n",
            "326  326  221.0\n",
            "\n",
            "[327 rows x 2 columns]\n"
          ],
          "name": "stdout"
        }
      ]
    },
    {
      "cell_type": "code",
      "metadata": {
        "colab": {
          "base_uri": "https://localhost:8080/"
        },
        "id": "f54MGAL1Klia",
        "outputId": "5461b9e0-ccb6-48ab-8b10-0165bd116e1c"
      },
      "source": [
        "submit_data['count'] = y_test_pred2\r\n",
        "\r\n",
        "print(submit_data)\r\n",
        "\r\n",
        "submit_data.to_csv('submit2.csv',index=None)"
      ],
      "execution_count": null,
      "outputs": [
        {
          "output_type": "stream",
          "text": [
            "      id  count\n",
            "0      0   23.0\n",
            "1      1  107.0\n",
            "2      2   91.0\n",
            "3      3   15.0\n",
            "4      4   15.0\n",
            "..   ...    ...\n",
            "322  322   23.0\n",
            "323  323  107.0\n",
            "324  324  107.0\n",
            "325  325  113.0\n",
            "326  326  107.0\n",
            "\n",
            "[327 rows x 2 columns]\n"
          ],
          "name": "stdout"
        }
      ]
    },
    {
      "cell_type": "code",
      "metadata": {
        "colab": {
          "base_uri": "https://localhost:8080/"
        },
        "id": "xfFJKLDNLpdK",
        "outputId": "f3a41d78-f0ec-4bc9-8b24-f2606ebbfb2d"
      },
      "source": [
        "submit_data['count'] = y_test_pred3\r\n",
        "\r\n",
        "print(submit_data)\r\n",
        "\r\n",
        "submit_data.to_csv('submit3.csv',index=None)"
      ],
      "execution_count": null,
      "outputs": [
        {
          "output_type": "stream",
          "text": [
            "      id  count\n",
            "0      0   19.0\n",
            "1      1  215.0\n",
            "2      2  187.0\n",
            "3      3   13.0\n",
            "4      4    8.0\n",
            "..   ...    ...\n",
            "322  322   30.0\n",
            "323  323   21.0\n",
            "324  324   94.0\n",
            "325  325  229.0\n",
            "326  326  215.0\n",
            "\n",
            "[327 rows x 2 columns]\n"
          ],
          "name": "stdout"
        }
      ]
    },
    {
      "cell_type": "code",
      "metadata": {
        "colab": {
          "base_uri": "https://localhost:8080/",
          "height": 239
        },
        "id": "CGwnxJzZLvyU",
        "outputId": "19dfbb7c-9be4-4052-a15f-c0e899accdf2"
      },
      "source": [
        "submit_data['count'] = y_test_pred4\r\n",
        "\r\n",
        "print(submit_data)\r\n",
        "\r\n",
        "submit_data.to_csv('submit4.csv',index=None)"
      ],
      "execution_count": null,
      "outputs": [
        {
          "output_type": "error",
          "ename": "NameError",
          "evalue": "ignored",
          "traceback": [
            "\u001b[0;31m---------------------------------------------------------------------------\u001b[0m",
            "\u001b[0;31mNameError\u001b[0m                                 Traceback (most recent call last)",
            "\u001b[0;32m<ipython-input-56-1cca9480aa59>\u001b[0m in \u001b[0;36m<module>\u001b[0;34m()\u001b[0m\n\u001b[0;32m----> 1\u001b[0;31m \u001b[0msubmit_data\u001b[0m\u001b[0;34m[\u001b[0m\u001b[0;34m'count'\u001b[0m\u001b[0;34m]\u001b[0m \u001b[0;34m=\u001b[0m \u001b[0my_test_pred4_scale\u001b[0m\u001b[0;34m\u001b[0m\u001b[0;34m\u001b[0m\u001b[0m\n\u001b[0m\u001b[1;32m      2\u001b[0m \u001b[0;34m\u001b[0m\u001b[0m\n\u001b[1;32m      3\u001b[0m \u001b[0mprint\u001b[0m\u001b[0;34m(\u001b[0m\u001b[0msubmit_data\u001b[0m\u001b[0;34m)\u001b[0m\u001b[0;34m\u001b[0m\u001b[0;34m\u001b[0m\u001b[0m\n\u001b[1;32m      4\u001b[0m \u001b[0;34m\u001b[0m\u001b[0m\n\u001b[1;32m      5\u001b[0m \u001b[0msubmit_data\u001b[0m\u001b[0;34m.\u001b[0m\u001b[0mto_csv\u001b[0m\u001b[0;34m(\u001b[0m\u001b[0;34m'submit4.csv'\u001b[0m\u001b[0;34m,\u001b[0m\u001b[0mindex\u001b[0m\u001b[0;34m=\u001b[0m\u001b[0;32mNone\u001b[0m\u001b[0;34m)\u001b[0m\u001b[0;34m\u001b[0m\u001b[0;34m\u001b[0m\u001b[0m\n",
            "\u001b[0;31mNameError\u001b[0m: name 'y_test_pred4_scale' is not defined"
          ]
        }
      ]
    },
    {
      "cell_type": "code",
      "metadata": {
        "colab": {
          "base_uri": "https://localhost:8080/"
        },
        "id": "VeXDnJQLLzWB",
        "outputId": "58659d26-ebb7-4dd7-da7f-cd19cdf99426"
      },
      "source": [
        "submit_data['count'] = y_test_pred5\r\n",
        "\r\n",
        "print(submit_data)\r\n",
        "\r\n",
        "submit_data.to_csv('submit5.csv',index=None)"
      ],
      "execution_count": null,
      "outputs": [
        {
          "output_type": "stream",
          "text": [
            "      id  count\n",
            "0      0   11.0\n",
            "1      1  250.0\n",
            "2      2  144.0\n",
            "3      3   23.0\n",
            "4      4   36.0\n",
            "..   ...    ...\n",
            "322  322   11.0\n",
            "323  323   26.0\n",
            "324  324   11.0\n",
            "325  325  165.0\n",
            "326  326  218.0\n",
            "\n",
            "[327 rows x 2 columns]\n"
          ],
          "name": "stdout"
        }
      ]
    },
    {
      "cell_type": "markdown",
      "metadata": {
        "id": "gOhXZipZ--aX"
      },
      "source": [
        ""
      ]
    },
    {
      "cell_type": "code",
      "metadata": {
        "colab": {
          "base_uri": "https://localhost:8080/"
        },
        "id": "HgSFvC1arrPr",
        "outputId": "ec7037b6-7f0d-4129-fe5a-07f233b77df2"
      },
      "source": [
        "submit_data['count'] = y_test_pred6\r\n",
        "\r\n",
        "print(submit_data)\r\n",
        "\r\n",
        "submit_data.to_csv('submit6.csv',index=None)"
      ],
      "execution_count": null,
      "outputs": [
        {
          "output_type": "stream",
          "text": [
            "      id       count\n",
            "0      0   57.249606\n",
            "1      1  205.389221\n",
            "2      2  119.541726\n",
            "3      3   43.515739\n",
            "4      4   14.812792\n",
            "..   ...         ...\n",
            "322  322   78.884962\n",
            "323  323   59.683650\n",
            "324  324   90.484201\n",
            "325  325  192.966029\n",
            "326  326  175.757327\n",
            "\n",
            "[327 rows x 2 columns]\n"
          ],
          "name": "stdout"
        }
      ]
    },
    {
      "cell_type": "markdown",
      "metadata": {
        "id": "nrjaPKq2_ADn"
      },
      "source": [
        "##결과\r\n",
        ": 따릉이 사용자 수 예측 문제로 회귀문제이다 linearReg 모델이 성능이 제일 잘 나옴"
      ]
    }
  ]
}