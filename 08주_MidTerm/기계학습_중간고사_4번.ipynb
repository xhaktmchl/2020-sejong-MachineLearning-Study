{
  "nbformat": 4,
  "nbformat_minor": 0,
  "metadata": {
    "colab": {
      "name": "기계학습 중간고사 4번.ipynb",
      "provenance": [],
      "collapsed_sections": []
    },
    "kernelspec": {
      "name": "python3",
      "display_name": "Python 3"
    }
  },
  "cells": [
    {
      "cell_type": "markdown",
      "metadata": {
        "id": "RGIB40xmaLkM"
      },
      "source": [
        "# 심리테스트를 통한 선거투표 분류 문제\r\n",
        "- 선거투표의 유무를 분류하는 분류문제\r\n",
        "- 데이터에서 object 형 처리가 관건\r\n",
        "- object형 drop 보다는 lableencoding 한 것이 점수 높음\r\n",
        "- 성능은 LDA 가 가장 뛰어남"
      ]
    },
    {
      "cell_type": "code",
      "metadata": {
        "id": "DwpOCP_gN3fM"
      },
      "source": [
        ""
      ],
      "execution_count": null,
      "outputs": []
    },
    {
      "cell_type": "code",
      "metadata": {
        "id": "zlrIamcZrISt"
      },
      "source": [
        "import pandas as pd\r\n"
      ],
      "execution_count": null,
      "outputs": []
    },
    {
      "cell_type": "code",
      "metadata": {
        "colab": {
          "base_uri": "https://localhost:8080/"
        },
        "id": "X_UTKBOerWBT",
        "outputId": "d65a83e4-7e7d-4166-d81a-f7f15a4d368b"
      },
      "source": [
        "train_data = pd.read_csv('train.csv')\r\n",
        "test_data = pd.read_csv('test.csv')\r\n",
        "\r\n",
        "print(train_data)\r\n",
        "print(type(train_data))\r\n",
        "print(train_data.shape)\r\n",
        "print(train_data.info())\r\n",
        "\r\n",
        "print(test_data)\r\n",
        "print(type(test_data))\r\n",
        "print(test_data.shape)\r\n",
        "print(test_data.info())"
      ],
      "execution_count": null,
      "outputs": [
        {
          "output_type": "stream",
          "text": [
            "       index  QaA   QaE  QbA   QbE  ...  wr_10  wr_11  wr_12  wr_13  voted\n",
            "0          2  4.0  1623  1.0  1480  ...      1      0      1      1      1\n",
            "1          3  3.0   504  3.0  2311  ...      1      0      1      1      1\n",
            "2          5  2.0   834  1.0  1769  ...      0      0      0      0      2\n",
            "3          8  5.0   795  2.0  3469  ...      0      0      1      1      1\n",
            "4          9  2.0  1668  1.0   866  ...      1      1      1      1      1\n",
            "...      ...  ...   ...  ...   ...  ...    ...    ...    ...    ...    ...\n",
            "22305  45525  1.0   549  4.0  2383  ...      1      0      1      1      1\n",
            "22306  45526  4.0   454  5.0  1007  ...      1      0      1      1      2\n",
            "22307  45527  2.0  1050  5.0   619  ...      1      0      1      1      2\n",
            "22308  45530  1.0   747  3.0  1331  ...      1      0      1      1      1\n",
            "22309  45531  3.0   496  5.0  1827  ...      1      0      1      1      1\n",
            "\n",
            "[22310 rows x 78 columns]\n",
            "<class 'pandas.core.frame.DataFrame'>\n",
            "(22310, 78)\n",
            "<class 'pandas.core.frame.DataFrame'>\n",
            "RangeIndex: 22310 entries, 0 to 22309\n",
            "Data columns (total 78 columns):\n",
            " #   Column      Non-Null Count  Dtype  \n",
            "---  ------      --------------  -----  \n",
            " 0   index       22310 non-null  int64  \n",
            " 1   QaA         22310 non-null  float64\n",
            " 2   QaE         22310 non-null  int64  \n",
            " 3   QbA         22310 non-null  float64\n",
            " 4   QbE         22310 non-null  int64  \n",
            " 5   QcA         22310 non-null  float64\n",
            " 6   QcE         22310 non-null  int64  \n",
            " 7   QdA         22310 non-null  float64\n",
            " 8   QdE         22310 non-null  int64  \n",
            " 9   QeA         22310 non-null  float64\n",
            " 10  QeE         22310 non-null  int64  \n",
            " 11  QfA         22310 non-null  float64\n",
            " 12  QfE         22310 non-null  int64  \n",
            " 13  QgA         22310 non-null  float64\n",
            " 14  QgE         22310 non-null  int64  \n",
            " 15  QhA         22310 non-null  float64\n",
            " 16  QhE         22310 non-null  int64  \n",
            " 17  QiA         22310 non-null  float64\n",
            " 18  QiE         22310 non-null  int64  \n",
            " 19  QjA         22310 non-null  float64\n",
            " 20  QjE         22310 non-null  int64  \n",
            " 21  QkA         22310 non-null  float64\n",
            " 22  QkE         22310 non-null  int64  \n",
            " 23  QlA         22310 non-null  float64\n",
            " 24  QlE         22310 non-null  int64  \n",
            " 25  QmA         22310 non-null  float64\n",
            " 26  QmE         22310 non-null  int64  \n",
            " 27  QnA         22310 non-null  float64\n",
            " 28  QnE         22310 non-null  int64  \n",
            " 29  QoA         22310 non-null  float64\n",
            " 30  QoE         22310 non-null  int64  \n",
            " 31  QpA         22310 non-null  float64\n",
            " 32  QpE         22310 non-null  int64  \n",
            " 33  QqA         22310 non-null  float64\n",
            " 34  QqE         22310 non-null  int64  \n",
            " 35  QrA         22310 non-null  float64\n",
            " 36  QrE         22310 non-null  int64  \n",
            " 37  QsA         22310 non-null  float64\n",
            " 38  QsE         22310 non-null  int64  \n",
            " 39  QtA         22310 non-null  float64\n",
            " 40  QtE         22310 non-null  int64  \n",
            " 41  age_group   22310 non-null  object \n",
            " 42  education   22310 non-null  int64  \n",
            " 43  engnat      22310 non-null  int64  \n",
            " 44  familysize  22310 non-null  int64  \n",
            " 45  gender      22310 non-null  object \n",
            " 46  hand        22310 non-null  int64  \n",
            " 47  married     22310 non-null  int64  \n",
            " 48  race        22310 non-null  object \n",
            " 49  religion    22310 non-null  object \n",
            " 50  tp01        22310 non-null  int64  \n",
            " 51  tp02        22310 non-null  int64  \n",
            " 52  tp03        22310 non-null  int64  \n",
            " 53  tp04        22310 non-null  int64  \n",
            " 54  tp05        22310 non-null  int64  \n",
            " 55  tp06        22310 non-null  int64  \n",
            " 56  tp07        22310 non-null  int64  \n",
            " 57  tp08        22310 non-null  int64  \n",
            " 58  tp09        22310 non-null  int64  \n",
            " 59  tp10        22310 non-null  int64  \n",
            " 60  urban       22310 non-null  int64  \n",
            " 61  wf_01       22310 non-null  int64  \n",
            " 62  wf_02       22310 non-null  int64  \n",
            " 63  wf_03       22310 non-null  int64  \n",
            " 64  wr_01       22310 non-null  int64  \n",
            " 65  wr_02       22310 non-null  int64  \n",
            " 66  wr_03       22310 non-null  int64  \n",
            " 67  wr_04       22310 non-null  int64  \n",
            " 68  wr_05       22310 non-null  int64  \n",
            " 69  wr_06       22310 non-null  int64  \n",
            " 70  wr_07       22310 non-null  int64  \n",
            " 71  wr_08       22310 non-null  int64  \n",
            " 72  wr_09       22310 non-null  int64  \n",
            " 73  wr_10       22310 non-null  int64  \n",
            " 74  wr_11       22310 non-null  int64  \n",
            " 75  wr_12       22310 non-null  int64  \n",
            " 76  wr_13       22310 non-null  int64  \n",
            " 77  voted       22310 non-null  int64  \n",
            "dtypes: float64(20), int64(54), object(4)\n",
            "memory usage: 13.3+ MB\n",
            "None\n",
            "      index  QaA   QaE  QbA   QbE  ...  wr_09  wr_10  wr_11  wr_12  wr_13\n",
            "0         6  1.0  1382  1.0  1473  ...      0      1      0      1      1\n",
            "1        10  1.0  1465  1.0  7581  ...      0      1      1      1      1\n",
            "2        12  2.0   466  4.0  1650  ...      0      1      1      1      1\n",
            "3        14  1.0   739  4.0  2544  ...      0      1      0      1      1\n",
            "4        25  3.0   483  2.0   871  ...      0      1      0      1      1\n",
            "...     ...  ...   ...  ...   ...  ...    ...    ...    ...    ...    ...\n",
            "9557  45506  1.0   511  5.0   705  ...      0      1      0      1      1\n",
            "9558  45509  1.0   544  5.0  1052  ...      0      1      0      1      1\n",
            "9559  45512  2.0   681  1.0  1701  ...      0      1      0      1      1\n",
            "9560  45516  2.0   314  2.0  1286  ...      0      1      0      1      1\n",
            "9561  45529  4.0   593  1.0   857  ...      0      1      0      1      1\n",
            "\n",
            "[9562 rows x 77 columns]\n",
            "<class 'pandas.core.frame.DataFrame'>\n",
            "(9562, 77)\n",
            "<class 'pandas.core.frame.DataFrame'>\n",
            "RangeIndex: 9562 entries, 0 to 9561\n",
            "Data columns (total 77 columns):\n",
            " #   Column      Non-Null Count  Dtype  \n",
            "---  ------      --------------  -----  \n",
            " 0   index       9562 non-null   int64  \n",
            " 1   QaA         9562 non-null   float64\n",
            " 2   QaE         9562 non-null   int64  \n",
            " 3   QbA         9562 non-null   float64\n",
            " 4   QbE         9562 non-null   int64  \n",
            " 5   QcA         9562 non-null   float64\n",
            " 6   QcE         9562 non-null   int64  \n",
            " 7   QdA         9562 non-null   float64\n",
            " 8   QdE         9562 non-null   int64  \n",
            " 9   QeA         9562 non-null   float64\n",
            " 10  QeE         9562 non-null   int64  \n",
            " 11  QfA         9562 non-null   float64\n",
            " 12  QfE         9562 non-null   int64  \n",
            " 13  QgA         9562 non-null   float64\n",
            " 14  QgE         9562 non-null   int64  \n",
            " 15  QhA         9562 non-null   float64\n",
            " 16  QhE         9562 non-null   int64  \n",
            " 17  QiA         9562 non-null   float64\n",
            " 18  QiE         9562 non-null   int64  \n",
            " 19  QjA         9562 non-null   float64\n",
            " 20  QjE         9562 non-null   int64  \n",
            " 21  QkA         9562 non-null   float64\n",
            " 22  QkE         9562 non-null   int64  \n",
            " 23  QlA         9562 non-null   float64\n",
            " 24  QlE         9562 non-null   int64  \n",
            " 25  QmA         9562 non-null   float64\n",
            " 26  QmE         9562 non-null   int64  \n",
            " 27  QnA         9562 non-null   float64\n",
            " 28  QnE         9562 non-null   int64  \n",
            " 29  QoA         9562 non-null   float64\n",
            " 30  QoE         9562 non-null   int64  \n",
            " 31  QpA         9562 non-null   float64\n",
            " 32  QpE         9562 non-null   int64  \n",
            " 33  QqA         9562 non-null   float64\n",
            " 34  QqE         9562 non-null   int64  \n",
            " 35  QrA         9562 non-null   float64\n",
            " 36  QrE         9562 non-null   int64  \n",
            " 37  QsA         9562 non-null   float64\n",
            " 38  QsE         9562 non-null   int64  \n",
            " 39  QtA         9562 non-null   float64\n",
            " 40  QtE         9562 non-null   int64  \n",
            " 41  age_group   9562 non-null   object \n",
            " 42  education   9562 non-null   int64  \n",
            " 43  engnat      9562 non-null   int64  \n",
            " 44  familysize  9562 non-null   int64  \n",
            " 45  gender      9562 non-null   object \n",
            " 46  hand        9562 non-null   int64  \n",
            " 47  married     9562 non-null   int64  \n",
            " 48  race        9562 non-null   object \n",
            " 49  religion    9562 non-null   object \n",
            " 50  tp01        9562 non-null   int64  \n",
            " 51  tp02        9562 non-null   int64  \n",
            " 52  tp03        9562 non-null   int64  \n",
            " 53  tp04        9562 non-null   int64  \n",
            " 54  tp05        9562 non-null   int64  \n",
            " 55  tp06        9562 non-null   int64  \n",
            " 56  tp07        9562 non-null   int64  \n",
            " 57  tp08        9562 non-null   int64  \n",
            " 58  tp09        9562 non-null   int64  \n",
            " 59  tp10        9562 non-null   int64  \n",
            " 60  urban       9562 non-null   int64  \n",
            " 61  wf_01       9562 non-null   int64  \n",
            " 62  wf_02       9562 non-null   int64  \n",
            " 63  wf_03       9562 non-null   int64  \n",
            " 64  wr_01       9562 non-null   int64  \n",
            " 65  wr_02       9562 non-null   int64  \n",
            " 66  wr_03       9562 non-null   int64  \n",
            " 67  wr_04       9562 non-null   int64  \n",
            " 68  wr_05       9562 non-null   int64  \n",
            " 69  wr_06       9562 non-null   int64  \n",
            " 70  wr_07       9562 non-null   int64  \n",
            " 71  wr_08       9562 non-null   int64  \n",
            " 72  wr_09       9562 non-null   int64  \n",
            " 73  wr_10       9562 non-null   int64  \n",
            " 74  wr_11       9562 non-null   int64  \n",
            " 75  wr_12       9562 non-null   int64  \n",
            " 76  wr_13       9562 non-null   int64  \n",
            "dtypes: float64(20), int64(53), object(4)\n",
            "memory usage: 5.6+ MB\n",
            "None\n"
          ],
          "name": "stdout"
        }
      ]
    },
    {
      "cell_type": "markdown",
      "metadata": {
        "id": "O7TH-BoFPR2A"
      },
      "source": [
        "- age_group,gender ,race ,religion   속성이 object형이라 drop 또는 라벨인코딩 해야 함          "
      ]
    },
    {
      "cell_type": "code",
      "metadata": {
        "id": "tFOwbKtKO03n"
      },
      "source": [
        ""
      ],
      "execution_count": null,
      "outputs": []
    },
    {
      "cell_type": "markdown",
      "metadata": {
        "id": "EsRIq-dSQVnB"
      },
      "source": [
        "#### 전처리 방법1: object 형 데이터 drop"
      ]
    },
    {
      "cell_type": "code",
      "metadata": {
        "colab": {
          "base_uri": "https://localhost:8080/"
        },
        "id": "66KlDHq-Csg6",
        "outputId": "6a40685d-ae7f-4ad6-f847-dfc5d4c42589"
      },
      "source": [
        "'''x_train = train_data.iloc[:,1:10]\r\n",
        "y_train = train_data.iloc[:,10]\r\n",
        "x_test = test_data.iloc[:,1:10]'''\r\n",
        "\r\n",
        "x_train = train_data.drop(['index','age_group','gender','race','religion','voted'],axis=1)\r\n",
        "y_train = train_data['voted'] \r\n",
        "x_test = test_data.drop(['index','age_group','gender','race','religion'],axis=1)\r\n",
        "\r\n",
        "print(x_train)\r\n",
        "print(type(x_train))\r\n",
        "print(x_train.shape)\r\n",
        "\r\n",
        "print(y_train)\r\n",
        "print(type(y_train))\r\n",
        "print(y_train.shape)\r\n",
        "\r\n",
        "print(x_test)\r\n",
        "print(type(x_test))\r\n",
        "print(x_test.shape)"
      ],
      "execution_count": null,
      "outputs": [
        {
          "output_type": "stream",
          "text": [
            "       QaA   QaE  QbA   QbE  QcA  ...  wr_09  wr_10  wr_11  wr_12  wr_13\n",
            "0      4.0  1623  1.0  1480  1.0  ...      1      1      0      1      1\n",
            "1      3.0   504  3.0  2311  4.0  ...      0      1      0      1      1\n",
            "2      2.0   834  1.0  1769  4.0  ...      0      0      0      0      0\n",
            "3      5.0   795  2.0  3469  4.0  ...      0      0      0      1      1\n",
            "4      2.0  1668  1.0   866  1.0  ...      0      1      1      1      1\n",
            "...    ...   ...  ...   ...  ...  ...    ...    ...    ...    ...    ...\n",
            "22305  1.0   549  4.0  2383  5.0  ...      1      1      0      1      1\n",
            "22306  4.0   454  5.0  1007  4.0  ...      0      1      0      1      1\n",
            "22307  2.0  1050  5.0   619  4.0  ...      1      1      0      1      1\n",
            "22308  1.0   747  3.0  1331  4.0  ...      1      1      0      1      1\n",
            "22309  3.0   496  5.0  1827  5.0  ...      0      1      0      1      1\n",
            "\n",
            "[22310 rows x 72 columns]\n",
            "<class 'pandas.core.frame.DataFrame'>\n",
            "(22310, 72)\n",
            "0        1\n",
            "1        1\n",
            "2        2\n",
            "3        1\n",
            "4        1\n",
            "        ..\n",
            "22305    1\n",
            "22306    2\n",
            "22307    2\n",
            "22308    1\n",
            "22309    1\n",
            "Name: voted, Length: 22310, dtype: int64\n",
            "<class 'pandas.core.series.Series'>\n",
            "(22310,)\n",
            "      QaA   QaE  QbA   QbE  QcA   QcE  ...  wr_08  wr_09  wr_10  wr_11  wr_12  wr_13\n",
            "0     1.0  1382  1.0  1473  5.0  1479  ...      1      0      1      0      1      1\n",
            "1     1.0  1465  1.0  7581  4.0  1345  ...      1      0      1      1      1      1\n",
            "2     2.0   466  4.0  1650  4.0   655  ...      1      0      1      1      1      1\n",
            "3     1.0   739  4.0  2544  5.0   880  ...      1      0      1      0      1      1\n",
            "4     3.0   483  2.0   871  2.0   849  ...      1      0      1      0      1      1\n",
            "...   ...   ...  ...   ...  ...   ...  ...    ...    ...    ...    ...    ...    ...\n",
            "9557  1.0   511  5.0   705  5.0  1141  ...      1      0      1      0      1      1\n",
            "9558  1.0   544  5.0  1052  5.0   872  ...      1      0      1      0      1      1\n",
            "9559  2.0   681  1.0  1701  2.0  1147  ...      1      0      1      0      1      1\n",
            "9560  2.0   314  2.0  1286  4.0   544  ...      1      0      1      0      1      1\n",
            "9561  4.0   593  1.0   857  1.0  1047  ...      1      0      1      0      1      1\n",
            "\n",
            "[9562 rows x 72 columns]\n",
            "<class 'pandas.core.frame.DataFrame'>\n",
            "(9562, 72)\n"
          ],
          "name": "stdout"
        }
      ]
    },
    {
      "cell_type": "markdown",
      "metadata": {
        "id": "NXFCABe-XLqq"
      },
      "source": [
        "#### 전처리방법 2: object 형 피쳐 라벨 인코딩 시킨 방법\r\n",
        "- 인코딩 한 것이 점수 더 잘 나옴"
      ]
    },
    {
      "cell_type": "code",
      "metadata": {
        "colab": {
          "base_uri": "https://localhost:8080/"
        },
        "id": "rQXbSZHvY09u",
        "outputId": "9fbb4475-5047-49b7-9f5a-25a89f807193"
      },
      "source": [
        "from sklearn import preprocessing\r\n",
        "le = preprocessing.LabelEncoder()\r\n",
        "train_data['age_group'] = le.fit_transform(train_data['age_group'])\r\n",
        "train_data['gender'] = le.fit_transform(train_data['gender'])\r\n",
        "train_data['race'] = le.fit_transform(train_data['race'])\r\n",
        "train_data['religion'] = le.fit_transform(train_data['religion'])\r\n",
        "\r\n",
        "test_data['age_group'] = le.fit_transform(test_data['age_group'])\r\n",
        "test_data['gender'] = le.fit_transform(test_data['gender'])\r\n",
        "test_data['race'] = le.fit_transform(test_data['race'])\r\n",
        "test_data['religion'] = le.fit_transform(test_data['religion'])\r\n",
        "le.classes_\r\n"
      ],
      "execution_count": null,
      "outputs": [
        {
          "output_type": "execute_result",
          "data": {
            "text/plain": [
              "array(['Agnostic', 'Atheist', 'Buddhist', 'Christian_Catholic',\n",
              "       'Christian_Mormon', 'Christian_Other', 'Christian_Protestant',\n",
              "       'Hindu', 'Jewish', 'Muslim', 'Other', 'Sikh'], dtype=object)"
            ]
          },
          "metadata": {
            "tags": []
          },
          "execution_count": 40
        }
      ]
    },
    {
      "cell_type": "code",
      "metadata": {
        "id": "3Fh-4HXxcCMq"
      },
      "source": [
        ""
      ],
      "execution_count": null,
      "outputs": []
    },
    {
      "cell_type": "code",
      "metadata": {
        "colab": {
          "base_uri": "https://localhost:8080/"
        },
        "id": "Q08VULD3XKM6",
        "outputId": "9e84b50c-5ba0-4880-879d-5357b3a300f0"
      },
      "source": [
        "'''x_train = train_data.iloc[:,1:10]\r\n",
        "y_train = train_data.iloc[:,10]\r\n",
        "x_test = test_data.iloc[:,1:10]'''\r\n",
        "\r\n",
        "x_train = train_data.drop(['index','voted'],axis=1)\r\n",
        "y_train = train_data['voted'] \r\n",
        "x_test = test_data.drop(['index'],axis=1)\r\n",
        "\r\n",
        "print(x_train)\r\n",
        "print(type(x_train))\r\n",
        "print(x_train.shape)\r\n",
        "print(x_train.info())\r\n",
        "\r\n",
        "print(y_train)\r\n",
        "print(type(y_train))\r\n",
        "print(y_train.shape)\r\n",
        "\r\n",
        "print(x_test)\r\n",
        "print(type(x_test))\r\n",
        "print(x_test.shape)\r\n",
        "print(x_test.info())"
      ],
      "execution_count": null,
      "outputs": [
        {
          "output_type": "stream",
          "text": [
            "       QaA   QaE  QbA   QbE  QcA  ...  wr_09  wr_10  wr_11  wr_12  wr_13\n",
            "0      4.0  1623  1.0  1480  1.0  ...      1      1      0      1      1\n",
            "1      3.0   504  3.0  2311  4.0  ...      0      1      0      1      1\n",
            "2      2.0   834  1.0  1769  4.0  ...      0      0      0      0      0\n",
            "3      5.0   795  2.0  3469  4.0  ...      0      0      0      1      1\n",
            "4      2.0  1668  1.0   866  1.0  ...      0      1      1      1      1\n",
            "...    ...   ...  ...   ...  ...  ...    ...    ...    ...    ...    ...\n",
            "22305  1.0   549  4.0  2383  5.0  ...      1      1      0      1      1\n",
            "22306  4.0   454  5.0  1007  4.0  ...      0      1      0      1      1\n",
            "22307  2.0  1050  5.0   619  4.0  ...      1      1      0      1      1\n",
            "22308  1.0   747  3.0  1331  4.0  ...      1      1      0      1      1\n",
            "22309  3.0   496  5.0  1827  5.0  ...      0      1      0      1      1\n",
            "\n",
            "[22310 rows x 76 columns]\n",
            "<class 'pandas.core.frame.DataFrame'>\n",
            "(22310, 76)\n",
            "<class 'pandas.core.frame.DataFrame'>\n",
            "RangeIndex: 22310 entries, 0 to 22309\n",
            "Data columns (total 76 columns):\n",
            " #   Column      Non-Null Count  Dtype  \n",
            "---  ------      --------------  -----  \n",
            " 0   QaA         22310 non-null  float64\n",
            " 1   QaE         22310 non-null  int64  \n",
            " 2   QbA         22310 non-null  float64\n",
            " 3   QbE         22310 non-null  int64  \n",
            " 4   QcA         22310 non-null  float64\n",
            " 5   QcE         22310 non-null  int64  \n",
            " 6   QdA         22310 non-null  float64\n",
            " 7   QdE         22310 non-null  int64  \n",
            " 8   QeA         22310 non-null  float64\n",
            " 9   QeE         22310 non-null  int64  \n",
            " 10  QfA         22310 non-null  float64\n",
            " 11  QfE         22310 non-null  int64  \n",
            " 12  QgA         22310 non-null  float64\n",
            " 13  QgE         22310 non-null  int64  \n",
            " 14  QhA         22310 non-null  float64\n",
            " 15  QhE         22310 non-null  int64  \n",
            " 16  QiA         22310 non-null  float64\n",
            " 17  QiE         22310 non-null  int64  \n",
            " 18  QjA         22310 non-null  float64\n",
            " 19  QjE         22310 non-null  int64  \n",
            " 20  QkA         22310 non-null  float64\n",
            " 21  QkE         22310 non-null  int64  \n",
            " 22  QlA         22310 non-null  float64\n",
            " 23  QlE         22310 non-null  int64  \n",
            " 24  QmA         22310 non-null  float64\n",
            " 25  QmE         22310 non-null  int64  \n",
            " 26  QnA         22310 non-null  float64\n",
            " 27  QnE         22310 non-null  int64  \n",
            " 28  QoA         22310 non-null  float64\n",
            " 29  QoE         22310 non-null  int64  \n",
            " 30  QpA         22310 non-null  float64\n",
            " 31  QpE         22310 non-null  int64  \n",
            " 32  QqA         22310 non-null  float64\n",
            " 33  QqE         22310 non-null  int64  \n",
            " 34  QrA         22310 non-null  float64\n",
            " 35  QrE         22310 non-null  int64  \n",
            " 36  QsA         22310 non-null  float64\n",
            " 37  QsE         22310 non-null  int64  \n",
            " 38  QtA         22310 non-null  float64\n",
            " 39  QtE         22310 non-null  int64  \n",
            " 40  age_group   22310 non-null  int64  \n",
            " 41  education   22310 non-null  int64  \n",
            " 42  engnat      22310 non-null  int64  \n",
            " 43  familysize  22310 non-null  int64  \n",
            " 44  gender      22310 non-null  int64  \n",
            " 45  hand        22310 non-null  int64  \n",
            " 46  married     22310 non-null  int64  \n",
            " 47  race        22310 non-null  int64  \n",
            " 48  religion    22310 non-null  int64  \n",
            " 49  tp01        22310 non-null  int64  \n",
            " 50  tp02        22310 non-null  int64  \n",
            " 51  tp03        22310 non-null  int64  \n",
            " 52  tp04        22310 non-null  int64  \n",
            " 53  tp05        22310 non-null  int64  \n",
            " 54  tp06        22310 non-null  int64  \n",
            " 55  tp07        22310 non-null  int64  \n",
            " 56  tp08        22310 non-null  int64  \n",
            " 57  tp09        22310 non-null  int64  \n",
            " 58  tp10        22310 non-null  int64  \n",
            " 59  urban       22310 non-null  int64  \n",
            " 60  wf_01       22310 non-null  int64  \n",
            " 61  wf_02       22310 non-null  int64  \n",
            " 62  wf_03       22310 non-null  int64  \n",
            " 63  wr_01       22310 non-null  int64  \n",
            " 64  wr_02       22310 non-null  int64  \n",
            " 65  wr_03       22310 non-null  int64  \n",
            " 66  wr_04       22310 non-null  int64  \n",
            " 67  wr_05       22310 non-null  int64  \n",
            " 68  wr_06       22310 non-null  int64  \n",
            " 69  wr_07       22310 non-null  int64  \n",
            " 70  wr_08       22310 non-null  int64  \n",
            " 71  wr_09       22310 non-null  int64  \n",
            " 72  wr_10       22310 non-null  int64  \n",
            " 73  wr_11       22310 non-null  int64  \n",
            " 74  wr_12       22310 non-null  int64  \n",
            " 75  wr_13       22310 non-null  int64  \n",
            "dtypes: float64(20), int64(56)\n",
            "memory usage: 12.9 MB\n",
            "None\n",
            "0        1\n",
            "1        1\n",
            "2        2\n",
            "3        1\n",
            "4        1\n",
            "        ..\n",
            "22305    1\n",
            "22306    2\n",
            "22307    2\n",
            "22308    1\n",
            "22309    1\n",
            "Name: voted, Length: 22310, dtype: int64\n",
            "<class 'pandas.core.series.Series'>\n",
            "(22310,)\n",
            "      QaA   QaE  QbA   QbE  QcA   QcE  ...  wr_08  wr_09  wr_10  wr_11  wr_12  wr_13\n",
            "0     1.0  1382  1.0  1473  5.0  1479  ...      1      0      1      0      1      1\n",
            "1     1.0  1465  1.0  7581  4.0  1345  ...      1      0      1      1      1      1\n",
            "2     2.0   466  4.0  1650  4.0   655  ...      1      0      1      1      1      1\n",
            "3     1.0   739  4.0  2544  5.0   880  ...      1      0      1      0      1      1\n",
            "4     3.0   483  2.0   871  2.0   849  ...      1      0      1      0      1      1\n",
            "...   ...   ...  ...   ...  ...   ...  ...    ...    ...    ...    ...    ...    ...\n",
            "9557  1.0   511  5.0   705  5.0  1141  ...      1      0      1      0      1      1\n",
            "9558  1.0   544  5.0  1052  5.0   872  ...      1      0      1      0      1      1\n",
            "9559  2.0   681  1.0  1701  2.0  1147  ...      1      0      1      0      1      1\n",
            "9560  2.0   314  2.0  1286  4.0   544  ...      1      0      1      0      1      1\n",
            "9561  4.0   593  1.0   857  1.0  1047  ...      1      0      1      0      1      1\n",
            "\n",
            "[9562 rows x 76 columns]\n",
            "<class 'pandas.core.frame.DataFrame'>\n",
            "(9562, 76)\n",
            "<class 'pandas.core.frame.DataFrame'>\n",
            "RangeIndex: 9562 entries, 0 to 9561\n",
            "Data columns (total 76 columns):\n",
            " #   Column      Non-Null Count  Dtype  \n",
            "---  ------      --------------  -----  \n",
            " 0   QaA         9562 non-null   float64\n",
            " 1   QaE         9562 non-null   int64  \n",
            " 2   QbA         9562 non-null   float64\n",
            " 3   QbE         9562 non-null   int64  \n",
            " 4   QcA         9562 non-null   float64\n",
            " 5   QcE         9562 non-null   int64  \n",
            " 6   QdA         9562 non-null   float64\n",
            " 7   QdE         9562 non-null   int64  \n",
            " 8   QeA         9562 non-null   float64\n",
            " 9   QeE         9562 non-null   int64  \n",
            " 10  QfA         9562 non-null   float64\n",
            " 11  QfE         9562 non-null   int64  \n",
            " 12  QgA         9562 non-null   float64\n",
            " 13  QgE         9562 non-null   int64  \n",
            " 14  QhA         9562 non-null   float64\n",
            " 15  QhE         9562 non-null   int64  \n",
            " 16  QiA         9562 non-null   float64\n",
            " 17  QiE         9562 non-null   int64  \n",
            " 18  QjA         9562 non-null   float64\n",
            " 19  QjE         9562 non-null   int64  \n",
            " 20  QkA         9562 non-null   float64\n",
            " 21  QkE         9562 non-null   int64  \n",
            " 22  QlA         9562 non-null   float64\n",
            " 23  QlE         9562 non-null   int64  \n",
            " 24  QmA         9562 non-null   float64\n",
            " 25  QmE         9562 non-null   int64  \n",
            " 26  QnA         9562 non-null   float64\n",
            " 27  QnE         9562 non-null   int64  \n",
            " 28  QoA         9562 non-null   float64\n",
            " 29  QoE         9562 non-null   int64  \n",
            " 30  QpA         9562 non-null   float64\n",
            " 31  QpE         9562 non-null   int64  \n",
            " 32  QqA         9562 non-null   float64\n",
            " 33  QqE         9562 non-null   int64  \n",
            " 34  QrA         9562 non-null   float64\n",
            " 35  QrE         9562 non-null   int64  \n",
            " 36  QsA         9562 non-null   float64\n",
            " 37  QsE         9562 non-null   int64  \n",
            " 38  QtA         9562 non-null   float64\n",
            " 39  QtE         9562 non-null   int64  \n",
            " 40  age_group   9562 non-null   int64  \n",
            " 41  education   9562 non-null   int64  \n",
            " 42  engnat      9562 non-null   int64  \n",
            " 43  familysize  9562 non-null   int64  \n",
            " 44  gender      9562 non-null   int64  \n",
            " 45  hand        9562 non-null   int64  \n",
            " 46  married     9562 non-null   int64  \n",
            " 47  race        9562 non-null   int64  \n",
            " 48  religion    9562 non-null   int64  \n",
            " 49  tp01        9562 non-null   int64  \n",
            " 50  tp02        9562 non-null   int64  \n",
            " 51  tp03        9562 non-null   int64  \n",
            " 52  tp04        9562 non-null   int64  \n",
            " 53  tp05        9562 non-null   int64  \n",
            " 54  tp06        9562 non-null   int64  \n",
            " 55  tp07        9562 non-null   int64  \n",
            " 56  tp08        9562 non-null   int64  \n",
            " 57  tp09        9562 non-null   int64  \n",
            " 58  tp10        9562 non-null   int64  \n",
            " 59  urban       9562 non-null   int64  \n",
            " 60  wf_01       9562 non-null   int64  \n",
            " 61  wf_02       9562 non-null   int64  \n",
            " 62  wf_03       9562 non-null   int64  \n",
            " 63  wr_01       9562 non-null   int64  \n",
            " 64  wr_02       9562 non-null   int64  \n",
            " 65  wr_03       9562 non-null   int64  \n",
            " 66  wr_04       9562 non-null   int64  \n",
            " 67  wr_05       9562 non-null   int64  \n",
            " 68  wr_06       9562 non-null   int64  \n",
            " 69  wr_07       9562 non-null   int64  \n",
            " 70  wr_08       9562 non-null   int64  \n",
            " 71  wr_09       9562 non-null   int64  \n",
            " 72  wr_10       9562 non-null   int64  \n",
            " 73  wr_11       9562 non-null   int64  \n",
            " 74  wr_12       9562 non-null   int64  \n",
            " 75  wr_13       9562 non-null   int64  \n",
            "dtypes: float64(20), int64(56)\n",
            "memory usage: 5.5 MB\n",
            "None\n"
          ],
          "name": "stdout"
        }
      ]
    },
    {
      "cell_type": "markdown",
      "metadata": {
        "id": "nJ0xCoVUEhiT"
      },
      "source": [
        "#### 모델 학습"
      ]
    },
    {
      "cell_type": "markdown",
      "metadata": {
        "id": "XikNgon7QlS4"
      },
      "source": [
        "- 클래스인 voted 가 1,2 중 하나 이므로 분류 문제"
      ]
    },
    {
      "cell_type": "code",
      "metadata": {
        "colab": {
          "base_uri": "https://localhost:8080/"
        },
        "id": "hpg1p6z7EDW3",
        "outputId": "f7b06cb0-b49e-467e-e902-cf0129232eeb"
      },
      "source": [
        "from sklearn.neighbors import KNeighborsClassifier\r\n",
        "neigh = KNeighborsClassifier(n_neighbors=5, weights='distance') # weights=uniform 디폴트 값\r\n",
        "neigh.fit(x_train, y_train)\r\n",
        "\r\n",
        "y_train_pred = neigh.predict(x_train)\r\n",
        "y_test_pred = neigh.predict(x_test)\r\n",
        "\r\n",
        "from sklearn.metrics import mean_squared_error\r\n",
        "print(mean_squared_error(y_train, y_train_pred))"
      ],
      "execution_count": null,
      "outputs": [
        {
          "output_type": "stream",
          "text": [
            "0.0\n"
          ],
          "name": "stdout"
        }
      ]
    },
    {
      "cell_type": "code",
      "metadata": {
        "colab": {
          "base_uri": "https://localhost:8080/"
        },
        "id": "qmMZ67WGF9dZ",
        "outputId": "10524f2a-b19f-43d2-ec2d-958b50d035ce"
      },
      "source": [
        "from sklearn.linear_model import LogisticRegression\r\n",
        "clf = LogisticRegression(random_state=1).fit(x_train, y_train)\r\n",
        "\r\n",
        "y_train_pred2 = clf.predict(x_train)\r\n",
        "y_test_pred2 = clf.predict(x_test)\r\n",
        "\r\n",
        "from sklearn.metrics import mean_squared_error\r\n",
        "print(mean_squared_error(y_train, y_train_pred2))"
      ],
      "execution_count": null,
      "outputs": [
        {
          "output_type": "stream",
          "text": [
            "0.4492155983863738\n"
          ],
          "name": "stdout"
        },
        {
          "output_type": "stream",
          "text": [
            "/usr/local/lib/python3.7/dist-packages/sklearn/linear_model/_logistic.py:940: ConvergenceWarning: lbfgs failed to converge (status=1):\n",
            "STOP: TOTAL NO. of ITERATIONS REACHED LIMIT.\n",
            "\n",
            "Increase the number of iterations (max_iter) or scale the data as shown in:\n",
            "    https://scikit-learn.org/stable/modules/preprocessing.html\n",
            "Please also refer to the documentation for alternative solver options:\n",
            "    https://scikit-learn.org/stable/modules/linear_model.html#logistic-regression\n",
            "  extra_warning_msg=_LOGISTIC_SOLVER_CONVERGENCE_MSG)\n"
          ],
          "name": "stderr"
        }
      ]
    },
    {
      "cell_type": "code",
      "metadata": {
        "colab": {
          "base_uri": "https://localhost:8080/"
        },
        "id": "gR-CRMeqHFDN",
        "outputId": "abf0b2f0-d977-4191-cd1d-e505911d5b47"
      },
      "source": [
        "import numpy as np\r\n",
        "from sklearn.discriminant_analysis import LinearDiscriminantAnalysis\r\n",
        "\r\n",
        "clf = LinearDiscriminantAnalysis(solver='svd')  # solver='svd, ‘lsqr’, ‘eigen'\r\n",
        "clf.fit(x_train, y_train)\r\n",
        "\r\n",
        "\r\n",
        "y_train_pred3 = clf.predict(x_train)\r\n",
        "y_test_pred3 = clf.predict(x_test)\r\n",
        "\r\n",
        "from sklearn.metrics import mean_squared_error\r\n",
        "print(mean_squared_error(y_train, y_train_pred3))"
      ],
      "execution_count": null,
      "outputs": [
        {
          "output_type": "stream",
          "text": [
            "0.3269834155087405\n"
          ],
          "name": "stdout"
        }
      ]
    },
    {
      "cell_type": "code",
      "metadata": {
        "colab": {
          "base_uri": "https://localhost:8080/"
        },
        "id": "XuU7Ll0ZH9fu",
        "outputId": "3f0dc05d-d443-4390-a9fa-03e6b9d5d880"
      },
      "source": [
        "from sklearn.discriminant_analysis import QuadraticDiscriminantAnalysis\r\n",
        "\r\n",
        "clf = QuadraticDiscriminantAnalysis()\r\n",
        "clf.fit(x_train, y_train)\r\n",
        "\r\n",
        "\r\n",
        "y_train_pred4 = clf.predict(x_train)\r\n",
        "y_test_pred4 = clf.predict(x_test)\r\n",
        "\r\n",
        "from sklearn.metrics import mean_squared_error\r\n",
        "print(mean_squared_error(y_train, y_train_pred4))"
      ],
      "execution_count": null,
      "outputs": [
        {
          "output_type": "stream",
          "text": [
            "0.48498431196772745\n"
          ],
          "name": "stdout"
        }
      ]
    },
    {
      "cell_type": "code",
      "metadata": {
        "id": "jE_iWGXxIRkJ",
        "colab": {
          "base_uri": "https://localhost:8080/"
        },
        "outputId": "a33d23fe-2a64-44bb-ea53-1ff102bf878c"
      },
      "source": [
        "from sklearn.model_selection import cross_val_score\r\n",
        "from sklearn.tree import DecisionTreeClassifier\r\n",
        "clf = DecisionTreeClassifier(criterion='entropy', random_state=1)\r\n",
        "\r\n",
        "clf.fit(x_train, y_train)\r\n",
        "\r\n",
        "y_train_pred5 = clf.predict(x_train)\r\n",
        "y_test_pred5 = clf.predict(x_test)\r\n",
        "\r\n",
        "from sklearn.metrics import mean_squared_error\r\n",
        "print(mean_squared_error(y_train, y_train_pred5))\r\n",
        "\r\n",
        "# cross_val_score(clf, iris.data, iris.target, cv=10)\r\n",
        "    "
      ],
      "execution_count": null,
      "outputs": [
        {
          "output_type": "stream",
          "text": [
            "0.0\n"
          ],
          "name": "stdout"
        }
      ]
    },
    {
      "cell_type": "code",
      "metadata": {
        "colab": {
          "base_uri": "https://localhost:8080/"
        },
        "id": "lkC5vDyN46Mb",
        "outputId": "943e9b1e-4f82-4aa4-f248-826b5c533efe"
      },
      "source": [
        "\r\n",
        "from sklearn.linear_model import LinearRegression\r\n",
        "\r\n",
        "\r\n",
        "reg = LinearRegression().fit(x_train, y_train)\r\n",
        "#reg.score(x_train, x_train)\r\n",
        "\r\n",
        "y_train_pred6 = reg.predict(x_train)\r\n",
        "y_test_pred6 = reg.predict(x_test)\r\n",
        "\r\n",
        "from sklearn.metrics import mean_squared_error\r\n",
        "print(mean_squared_error(y_train, y_train_pred6))"
      ],
      "execution_count": null,
      "outputs": [
        {
          "output_type": "stream",
          "text": [
            "0.2112535641387817\n"
          ],
          "name": "stdout"
        }
      ]
    },
    {
      "cell_type": "code",
      "metadata": {
        "id": "qrA4OaDpQOAT"
      },
      "source": [
        ""
      ],
      "execution_count": null,
      "outputs": []
    },
    {
      "cell_type": "markdown",
      "metadata": {
        "id": "9c8C5V7jJcLm"
      },
      "source": [
        "## 제출 데이터 생성"
      ]
    },
    {
      "cell_type": "code",
      "metadata": {
        "colab": {
          "base_uri": "https://localhost:8080/"
        },
        "id": "00eulryJJF8t",
        "outputId": "1568c740-ad39-4a75-8c0e-191e57baf686"
      },
      "source": [
        "submit_data = pd.read_csv('sampleSubmission.csv')\r\n",
        "\r\n",
        "print(submit_data)\r\n",
        "print(type(submit_data))\r\n",
        "print(submit_data.shape)\r\n",
        "print(submit_data.info())"
      ],
      "execution_count": null,
      "outputs": [
        {
          "output_type": "stream",
          "text": [
            "      index  voted\n",
            "0         6      1\n",
            "1        10      1\n",
            "2        12      1\n",
            "3        14      1\n",
            "4        25      1\n",
            "...     ...    ...\n",
            "9557  45506      1\n",
            "9558  45509      1\n",
            "9559  45512      1\n",
            "9560  45516      1\n",
            "9561  45529      1\n",
            "\n",
            "[9562 rows x 2 columns]\n",
            "<class 'pandas.core.frame.DataFrame'>\n",
            "(9562, 2)\n",
            "<class 'pandas.core.frame.DataFrame'>\n",
            "RangeIndex: 9562 entries, 0 to 9561\n",
            "Data columns (total 2 columns):\n",
            " #   Column  Non-Null Count  Dtype\n",
            "---  ------  --------------  -----\n",
            " 0   index   9562 non-null   int64\n",
            " 1   voted   9562 non-null   int64\n",
            "dtypes: int64(2)\n",
            "memory usage: 149.5 KB\n",
            "None\n"
          ],
          "name": "stdout"
        }
      ]
    },
    {
      "cell_type": "code",
      "metadata": {
        "colab": {
          "base_uri": "https://localhost:8080/"
        },
        "id": "ymypWkYQJrbj",
        "outputId": "827d645d-778c-41e1-ab33-ce2759b06ce0"
      },
      "source": [
        "submit_data['voted'] = y_test_pred\r\n",
        "\r\n",
        "print(submit_data)\r\n",
        "\r\n",
        "submit_data.to_csv('submit1.csv',index=None)"
      ],
      "execution_count": null,
      "outputs": [
        {
          "output_type": "stream",
          "text": [
            "      index  voted\n",
            "0         6      1\n",
            "1        10      1\n",
            "2        12      2\n",
            "3        14      2\n",
            "4        25      1\n",
            "...     ...    ...\n",
            "9557  45506      1\n",
            "9558  45509      2\n",
            "9559  45512      2\n",
            "9560  45516      2\n",
            "9561  45529      2\n",
            "\n",
            "[9562 rows x 2 columns]\n"
          ],
          "name": "stdout"
        }
      ]
    },
    {
      "cell_type": "code",
      "metadata": {
        "colab": {
          "base_uri": "https://localhost:8080/"
        },
        "id": "f54MGAL1Klia",
        "outputId": "47da686f-4987-4417-e045-dd91cdcacf50"
      },
      "source": [
        "submit_data['voted'] = y_test_pred2\r\n",
        "\r\n",
        "print(submit_data)\r\n",
        "\r\n",
        "submit_data.to_csv('submit2.csv',index=None)"
      ],
      "execution_count": null,
      "outputs": [
        {
          "output_type": "stream",
          "text": [
            "      index  voted\n",
            "0         6      2\n",
            "1        10      2\n",
            "2        12      2\n",
            "3        14      2\n",
            "4        25      2\n",
            "...     ...    ...\n",
            "9557  45506      2\n",
            "9558  45509      2\n",
            "9559  45512      2\n",
            "9560  45516      2\n",
            "9561  45529      2\n",
            "\n",
            "[9562 rows x 2 columns]\n"
          ],
          "name": "stdout"
        }
      ]
    },
    {
      "cell_type": "code",
      "metadata": {
        "colab": {
          "base_uri": "https://localhost:8080/"
        },
        "id": "xfFJKLDNLpdK",
        "outputId": "bd46a338-2c1d-421a-e1f8-efbb9288758a"
      },
      "source": [
        "submit_data['voted'] = y_test_pred3\r\n",
        "\r\n",
        "print(submit_data)\r\n",
        "\r\n",
        "submit_data.to_csv('submit3_encoding.csv',index=None)"
      ],
      "execution_count": null,
      "outputs": [
        {
          "output_type": "stream",
          "text": [
            "      index  voted\n",
            "0         6      2\n",
            "1        10      2\n",
            "2        12      2\n",
            "3        14      1\n",
            "4        25      1\n",
            "...     ...    ...\n",
            "9557  45506      2\n",
            "9558  45509      2\n",
            "9559  45512      2\n",
            "9560  45516      1\n",
            "9561  45529      2\n",
            "\n",
            "[9562 rows x 2 columns]\n"
          ],
          "name": "stdout"
        }
      ]
    },
    {
      "cell_type": "code",
      "metadata": {
        "colab": {
          "base_uri": "https://localhost:8080/"
        },
        "id": "CGwnxJzZLvyU",
        "outputId": "e06d6575-155f-4096-967c-6259266ad398"
      },
      "source": [
        "submit_data['voted'] = y_test_pred4\r\n",
        "\r\n",
        "print(submit_data)\r\n",
        "\r\n",
        "submit_data.to_csv('submit4.csv',index=None)"
      ],
      "execution_count": null,
      "outputs": [
        {
          "output_type": "stream",
          "text": [
            "      index  voted\n",
            "0         6      1\n",
            "1        10      1\n",
            "2        12      1\n",
            "3        14      1\n",
            "4        25      1\n",
            "...     ...    ...\n",
            "9557  45506      1\n",
            "9558  45509      1\n",
            "9559  45512      2\n",
            "9560  45516      1\n",
            "9561  45529      1\n",
            "\n",
            "[9562 rows x 2 columns]\n"
          ],
          "name": "stdout"
        }
      ]
    },
    {
      "cell_type": "code",
      "metadata": {
        "colab": {
          "base_uri": "https://localhost:8080/"
        },
        "id": "VeXDnJQLLzWB",
        "outputId": "46e7a88a-5cbb-419a-8857-a0a64f01d1d6"
      },
      "source": [
        "submit_data['voted'] = y_test_pred5\r\n",
        "\r\n",
        "print(submit_data)\r\n",
        "\r\n",
        "submit_data.to_csv('submit5.csv',index=None)"
      ],
      "execution_count": null,
      "outputs": [
        {
          "output_type": "stream",
          "text": [
            "      index  voted\n",
            "0         6      2\n",
            "1        10      1\n",
            "2        12      1\n",
            "3        14      2\n",
            "4        25      2\n",
            "...     ...    ...\n",
            "9557  45506      2\n",
            "9558  45509      1\n",
            "9559  45512      2\n",
            "9560  45516      2\n",
            "9561  45529      2\n",
            "\n",
            "[9562 rows x 2 columns]\n"
          ],
          "name": "stdout"
        }
      ]
    },
    {
      "cell_type": "code",
      "metadata": {
        "colab": {
          "base_uri": "https://localhost:8080/"
        },
        "id": "HgSFvC1arrPr",
        "outputId": "da26096e-1920-4683-bb20-beffa7807012"
      },
      "source": [
        "submit_data['voted'] = y_test_pred6\r\n",
        "\r\n",
        "print(submit_data)\r\n",
        "\r\n",
        "submit_data.to_csv('submit6.csv',index=None)"
      ],
      "execution_count": null,
      "outputs": [
        {
          "output_type": "stream",
          "text": [
            "      index     voted\n",
            "0         6  1.668984\n",
            "1        10  1.381736\n",
            "2        12  1.509485\n",
            "3        14  1.378120\n",
            "4        25  1.158161\n",
            "...     ...       ...\n",
            "9557  45506  1.653128\n",
            "9558  45509  1.445566\n",
            "9559  45512  1.829845\n",
            "9560  45516  1.437070\n",
            "9561  45529  1.661797\n",
            "\n",
            "[9562 rows x 2 columns]\n"
          ],
          "name": "stdout"
        }
      ]
    },
    {
      "cell_type": "code",
      "metadata": {
        "id": "_65ux4TPSRqb"
      },
      "source": [
        ""
      ],
      "execution_count": null,
      "outputs": []
    },
    {
      "cell_type": "markdown",
      "metadata": {
        "id": "udgIuDPwWQTz"
      },
      "source": [
        "## 결과\r\n",
        "- LDA 가 성능 잘 나옴"
      ]
    }
  ]
}