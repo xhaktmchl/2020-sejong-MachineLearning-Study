{
  "nbformat": 4,
  "nbformat_minor": 0,
  "metadata": {
    "colab": {
      "name": "기계학습 최유경 06주차 LDA 실습.ipynb",
      "provenance": [],
      "collapsed_sections": []
    },
    "kernelspec": {
      "name": "python3",
      "display_name": "Python 3"
    }
  },
  "cells": [
    {
      "cell_type": "markdown",
      "metadata": {
        "id": "WrICEvRCRSvD"
      },
      "source": [
        "# iris 데이터 판별분석"
      ]
    },
    {
      "cell_type": "markdown",
      "metadata": {
        "id": "5_Lna2ymabzi"
      },
      "source": [
        "## 선형 판별 분석LDA"
      ]
    },
    {
      "cell_type": "code",
      "metadata": {
        "colab": {
          "base_uri": "https://localhost:8080/"
        },
        "id": "73gYrvAFRIF6",
        "outputId": "932a5bd6-c44c-41ee-c30b-29d4aace8588"
      },
      "source": [
        "import seaborn as sns\r\n",
        "iris = sns.load_dataset('iris')\r\n",
        "print(iris)\r\n",
        "print(iris.info())\r\n",
        "print(iris.shape)\r\n",
        "print(type(iris))"
      ],
      "execution_count": 2,
      "outputs": [
        {
          "output_type": "stream",
          "text": [
            "     sepal_length  sepal_width  petal_length  petal_width    species\n",
            "0             5.1          3.5           1.4          0.2     setosa\n",
            "1             4.9          3.0           1.4          0.2     setosa\n",
            "2             4.7          3.2           1.3          0.2     setosa\n",
            "3             4.6          3.1           1.5          0.2     setosa\n",
            "4             5.0          3.6           1.4          0.2     setosa\n",
            "..            ...          ...           ...          ...        ...\n",
            "145           6.7          3.0           5.2          2.3  virginica\n",
            "146           6.3          2.5           5.0          1.9  virginica\n",
            "147           6.5          3.0           5.2          2.0  virginica\n",
            "148           6.2          3.4           5.4          2.3  virginica\n",
            "149           5.9          3.0           5.1          1.8  virginica\n",
            "\n",
            "[150 rows x 5 columns]\n",
            "<class 'pandas.core.frame.DataFrame'>\n",
            "RangeIndex: 150 entries, 0 to 149\n",
            "Data columns (total 5 columns):\n",
            " #   Column        Non-Null Count  Dtype  \n",
            "---  ------        --------------  -----  \n",
            " 0   sepal_length  150 non-null    float64\n",
            " 1   sepal_width   150 non-null    float64\n",
            " 2   petal_length  150 non-null    float64\n",
            " 3   petal_width   150 non-null    float64\n",
            " 4   species       150 non-null    object \n",
            "dtypes: float64(4), object(1)\n",
            "memory usage: 6.0+ KB\n",
            "None\n",
            "(150, 5)\n",
            "<class 'pandas.core.frame.DataFrame'>\n"
          ],
          "name": "stdout"
        }
      ]
    },
    {
      "cell_type": "markdown",
      "metadata": {
        "id": "ykAmTTt6R_F1"
      },
      "source": [
        "- 결측치 없고\r\n",
        "- 클래스가 object여서 라벨인코딩 필요"
      ]
    },
    {
      "cell_type": "code",
      "metadata": {
        "colab": {
          "base_uri": "https://localhost:8080/"
        },
        "id": "4clJAydfRvyW",
        "outputId": "998d00fe-23e9-4d33-ae22-e828c0dbb703"
      },
      "source": [
        "x = iris.iloc[:,:4] # iloc 는 인덱스가 마지막 것도 포함\r\n",
        "y = iris.iloc[:,4] \r\n",
        "\r\n",
        "print(x)\r\n",
        "print(x.shape)\r\n",
        "print(type(x))\r\n",
        "\r\n",
        "print(y)\r\n",
        "print(y.shape)\r\n",
        "print(type(y))"
      ],
      "execution_count": 6,
      "outputs": [
        {
          "output_type": "stream",
          "text": [
            "     sepal_length  sepal_width  petal_length  petal_width\n",
            "0             5.1          3.5           1.4          0.2\n",
            "1             4.9          3.0           1.4          0.2\n",
            "2             4.7          3.2           1.3          0.2\n",
            "3             4.6          3.1           1.5          0.2\n",
            "4             5.0          3.6           1.4          0.2\n",
            "..            ...          ...           ...          ...\n",
            "145           6.7          3.0           5.2          2.3\n",
            "146           6.3          2.5           5.0          1.9\n",
            "147           6.5          3.0           5.2          2.0\n",
            "148           6.2          3.4           5.4          2.3\n",
            "149           5.9          3.0           5.1          1.8\n",
            "\n",
            "[150 rows x 4 columns]\n",
            "(150, 4)\n",
            "<class 'pandas.core.frame.DataFrame'>\n",
            "0         setosa\n",
            "1         setosa\n",
            "2         setosa\n",
            "3         setosa\n",
            "4         setosa\n",
            "         ...    \n",
            "145    virginica\n",
            "146    virginica\n",
            "147    virginica\n",
            "148    virginica\n",
            "149    virginica\n",
            "Name: species, Length: 150, dtype: object\n",
            "(150,)\n",
            "<class 'pandas.core.series.Series'>\n"
          ],
          "name": "stdout"
        }
      ]
    },
    {
      "cell_type": "markdown",
      "metadata": {
        "id": "vMVbvH0aVOom"
      },
      "source": [
        "## 클래스 라벨 인코딩"
      ]
    },
    {
      "cell_type": "markdown",
      "metadata": {
        "id": "dBF4_5N3Uv98"
      },
      "source": [
        "## 라벨 인코딩 실행 방법\r\n",
        "- fit 시키고 따로 transform 하거나\r\n",
        "- fit_transform 으로 바로 변환값 반환"
      ]
    },
    {
      "cell_type": "code",
      "metadata": {
        "id": "ud4NVrHPSj9i"
      },
      "source": [
        "from sklearn import preprocessing"
      ],
      "execution_count": 7,
      "outputs": []
    },
    {
      "cell_type": "code",
      "metadata": {
        "colab": {
          "base_uri": "https://localhost:8080/"
        },
        "id": "UtjVlJS9TZSo",
        "outputId": "8beb3966-63c2-43c0-9fba-ece9d2a4b9be"
      },
      "source": [
        "le = preprocessing.LabelEncoder()\r\n",
        "le.fit(y)\r\n",
        "y_en = le.transform(y)\r\n",
        "print(le.classes_)\r\n",
        "print(y_en)\r\n",
        "\r\n",
        "y_en2 = le.fit_transform(y)\r\n",
        "print(le.classes_)\r\n",
        "print(y_en2)"
      ],
      "execution_count": 10,
      "outputs": [
        {
          "output_type": "stream",
          "text": [
            "['setosa' 'versicolor' 'virginica']\n",
            "[0 0 0 0 0 0 0 0 0 0 0 0 0 0 0 0 0 0 0 0 0 0 0 0 0 0 0 0 0 0 0 0 0 0 0 0 0\n",
            " 0 0 0 0 0 0 0 0 0 0 0 0 0 1 1 1 1 1 1 1 1 1 1 1 1 1 1 1 1 1 1 1 1 1 1 1 1\n",
            " 1 1 1 1 1 1 1 1 1 1 1 1 1 1 1 1 1 1 1 1 1 1 1 1 1 1 2 2 2 2 2 2 2 2 2 2 2\n",
            " 2 2 2 2 2 2 2 2 2 2 2 2 2 2 2 2 2 2 2 2 2 2 2 2 2 2 2 2 2 2 2 2 2 2 2 2 2\n",
            " 2 2]\n",
            "['setosa' 'versicolor' 'virginica']\n",
            "[0 0 0 0 0 0 0 0 0 0 0 0 0 0 0 0 0 0 0 0 0 0 0 0 0 0 0 0 0 0 0 0 0 0 0 0 0\n",
            " 0 0 0 0 0 0 0 0 0 0 0 0 0 1 1 1 1 1 1 1 1 1 1 1 1 1 1 1 1 1 1 1 1 1 1 1 1\n",
            " 1 1 1 1 1 1 1 1 1 1 1 1 1 1 1 1 1 1 1 1 1 1 1 1 1 1 2 2 2 2 2 2 2 2 2 2 2\n",
            " 2 2 2 2 2 2 2 2 2 2 2 2 2 2 2 2 2 2 2 2 2 2 2 2 2 2 2 2 2 2 2 2 2 2 2 2 2\n",
            " 2 2]\n"
          ],
          "name": "stdout"
        }
      ]
    },
    {
      "cell_type": "markdown",
      "metadata": {
        "id": "NgxbCMF_VVE_"
      },
      "source": [
        "##  train 셋, test 셋 나누기"
      ]
    },
    {
      "cell_type": "code",
      "metadata": {
        "id": "zKb5SNPaVTfK"
      },
      "source": [
        "from sklearn.model_selection import train_test_split"
      ],
      "execution_count": 11,
      "outputs": []
    },
    {
      "cell_type": "markdown",
      "metadata": {
        "id": "ImJD-q5VWdKG"
      },
      "source": [
        ""
      ]
    },
    {
      "cell_type": "code",
      "metadata": {
        "id": "bMNWToWmUTO8"
      },
      "source": [
        "x_train, x_test, y_train, y_test = train_test_split(x, y_en, test_size=0.3, random_state=123)"
      ],
      "execution_count": 14,
      "outputs": []
    },
    {
      "cell_type": "code",
      "metadata": {
        "colab": {
          "base_uri": "https://localhost:8080/"
        },
        "id": "lPfpsystWnDp",
        "outputId": "194550c7-e391-46d1-eab9-f31d39716906"
      },
      "source": [
        "print(x_train)\r\n",
        "print(y_train)\r\n",
        "print(x_test)\r\n",
        "print(y_test)"
      ],
      "execution_count": 15,
      "outputs": [
        {
          "output_type": "stream",
          "text": [
            "     sepal_length  sepal_width  petal_length  petal_width\n",
            "114           5.8          2.8           5.1          2.4\n",
            "136           6.3          3.4           5.6          2.4\n",
            "53            5.5          2.3           4.0          1.3\n",
            "19            5.1          3.8           1.5          0.3\n",
            "38            4.4          3.0           1.3          0.2\n",
            "..            ...          ...           ...          ...\n",
            "17            5.1          3.5           1.4          0.3\n",
            "98            5.1          2.5           3.0          1.1\n",
            "66            5.6          3.0           4.5          1.5\n",
            "126           6.2          2.8           4.8          1.8\n",
            "109           7.2          3.6           6.1          2.5\n",
            "\n",
            "[105 rows x 4 columns]\n",
            "[2 2 1 0 0 2 0 0 1 1 1 1 2 1 2 0 2 1 0 0 2 1 2 2 0 1 1 2 0 2 1 1 0 2 2 0 0\n",
            " 1 1 2 0 0 1 0 1 2 0 2 0 0 1 0 0 1 2 1 1 1 0 0 1 2 0 0 1 1 1 2 1 1 1 2 0 0\n",
            " 1 2 2 2 2 0 1 0 1 1 0 1 2 1 2 2 0 1 0 2 2 1 1 2 2 1 0 1 1 2 2]\n",
            "     sepal_length  sepal_width  petal_length  petal_width\n",
            "72            6.3          2.5           4.9          1.5\n",
            "112           6.8          3.0           5.5          2.1\n",
            "132           6.4          2.8           5.6          2.2\n",
            "88            5.6          3.0           4.1          1.3\n",
            "37            4.9          3.6           1.4          0.1\n",
            "138           6.0          3.0           4.8          1.8\n",
            "87            6.3          2.3           4.4          1.3\n",
            "42            4.4          3.2           1.3          0.2\n",
            "8             4.4          2.9           1.4          0.2\n",
            "90            5.5          2.6           4.4          1.2\n",
            "141           6.9          3.1           5.1          2.3\n",
            "33            5.5          4.2           1.4          0.2\n",
            "59            5.2          2.7           3.9          1.4\n",
            "116           6.5          3.0           5.5          1.8\n",
            "135           7.7          3.0           6.1          2.3\n",
            "104           6.5          3.0           5.8          2.2\n",
            "36            5.5          3.5           1.3          0.2\n",
            "13            4.3          3.0           1.1          0.1\n",
            "63            6.1          2.9           4.7          1.4\n",
            "45            4.8          3.0           1.4          0.3\n",
            "28            5.2          3.4           1.4          0.2\n",
            "133           6.3          2.8           5.1          1.5\n",
            "24            4.8          3.4           1.9          0.2\n",
            "127           6.1          3.0           4.9          1.8\n",
            "46            5.1          3.8           1.6          0.2\n",
            "20            5.4          3.4           1.7          0.2\n",
            "31            5.4          3.4           1.5          0.4\n",
            "121           5.6          2.8           4.9          2.0\n",
            "117           7.7          3.8           6.7          2.2\n",
            "4             5.0          3.6           1.4          0.2\n",
            "130           7.4          2.8           6.1          1.9\n",
            "119           6.0          2.2           5.0          1.5\n",
            "29            4.7          3.2           1.6          0.2\n",
            "0             5.1          3.5           1.4          0.2\n",
            "62            6.0          2.2           4.0          1.0\n",
            "93            5.0          2.3           3.3          1.0\n",
            "131           7.9          3.8           6.4          2.0\n",
            "5             5.4          3.9           1.7          0.4\n",
            "16            5.4          3.9           1.3          0.4\n",
            "82            5.8          2.7           3.9          1.2\n",
            "60            5.0          2.0           3.5          1.0\n",
            "35            5.0          3.2           1.2          0.2\n",
            "143           6.8          3.2           5.9          2.3\n",
            "145           6.7          3.0           5.2          2.3\n",
            "142           5.8          2.7           5.1          1.9\n",
            "[1 2 2 1 0 2 1 0 0 1 2 0 1 2 2 2 0 0 1 0 0 2 0 2 0 0 0 2 2 0 2 2 0 0 1 1 2\n",
            " 0 0 1 1 0 2 2 2]\n"
          ],
          "name": "stdout"
        }
      ]
    },
    {
      "cell_type": "markdown",
      "metadata": {
        "id": "nKH-y7y1XB_P"
      },
      "source": [
        "## LDA 모델 실행"
      ]
    },
    {
      "cell_type": "code",
      "metadata": {
        "id": "Xjji-85DWvkM"
      },
      "source": [
        "from sklearn.discriminant_analysis import LinearDiscriminantAnalysis\r\n"
      ],
      "execution_count": 16,
      "outputs": []
    },
    {
      "cell_type": "code",
      "metadata": {
        "colab": {
          "base_uri": "https://localhost:8080/"
        },
        "id": "Gb1hHgTqXWAM",
        "outputId": "e29a2a56-1ea2-421b-a506-02a227c037fe"
      },
      "source": [
        "lda = LinearDiscriminantAnalysis()\r\n",
        "lda.fit(x_train, y_train)"
      ],
      "execution_count": 18,
      "outputs": [
        {
          "output_type": "execute_result",
          "data": {
            "text/plain": [
              "LinearDiscriminantAnalysis(n_components=None, priors=None, shrinkage=None,\n",
              "                           solver='svd', store_covariance=False, tol=0.0001)"
            ]
          },
          "metadata": {
            "tags": []
          },
          "execution_count": 18
        }
      ]
    },
    {
      "cell_type": "code",
      "metadata": {
        "colab": {
          "base_uri": "https://localhost:8080/"
        },
        "id": "JLCHnutqYUzH",
        "outputId": "c256a2be-79f6-4e4c-f7ae-0e68eb36bdda"
      },
      "source": [
        "y_train_pred = lda.predict(x_train)\r\n",
        "y_test_pred = lda.predict(x_test)\r\n",
        "\r\n",
        "print(y_train_pred)\r\n",
        "print(y_test_pred)"
      ],
      "execution_count": 19,
      "outputs": [
        {
          "output_type": "stream",
          "text": [
            "[2 2 1 0 0 2 0 0 1 1 1 1 2 1 2 0 2 1 0 0 2 1 2 2 0 1 1 2 0 2 1 1 0 2 2 0 0\n",
            " 1 1 2 0 0 1 0 2 2 0 2 0 0 1 0 0 1 2 1 1 1 0 0 1 2 0 0 1 1 1 2 1 1 1 2 0 0\n",
            " 1 2 2 2 2 0 1 0 1 1 0 1 2 1 2 2 0 1 0 2 2 1 1 2 2 2 0 1 1 2 2]\n",
            "[1 2 2 1 0 2 1 0 0 1 2 0 1 2 2 2 0 0 1 0 0 1 0 2 0 0 0 2 2 0 2 2 0 0 1 1 2\n",
            " 0 0 1 1 0 2 2 2]\n"
          ],
          "name": "stdout"
        }
      ]
    },
    {
      "cell_type": "markdown",
      "metadata": {
        "id": "5s8BQFAuYOcN"
      },
      "source": [
        "## 모델 평가"
      ]
    },
    {
      "cell_type": "markdown",
      "metadata": {
        "id": "w-ZU8IvcZUDX"
      },
      "source": [
        "- 주의: accuracy_score는  결과값 끼리 비교하는 것"
      ]
    },
    {
      "cell_type": "code",
      "metadata": {
        "colab": {
          "base_uri": "https://localhost:8080/"
        },
        "id": "9UlJloMaXo16",
        "outputId": "b98b3065-2238-4eb8-de37-9dff3c1e4c6e"
      },
      "source": [
        "from sklearn.metrics import accuracy_score\r\n",
        "\r\n",
        "print(accuracy_score(y_train, y_train_pred))\r\n",
        "print(accuracy_score(y_test, y_test_pred))\r\n"
      ],
      "execution_count": 21,
      "outputs": [
        {
          "output_type": "stream",
          "text": [
            "0.9809523809523809\n",
            "0.9777777777777777\n"
          ],
          "name": "stdout"
        }
      ]
    },
    {
      "cell_type": "markdown",
      "metadata": {
        "id": "UDwuxTAfZdlM"
      },
      "source": [
        "정확도"
      ]
    },
    {
      "cell_type": "code",
      "metadata": {
        "id": "XrLM9F7xY9Zv"
      },
      "source": [
        ""
      ],
      "execution_count": null,
      "outputs": []
    }
  ]
}