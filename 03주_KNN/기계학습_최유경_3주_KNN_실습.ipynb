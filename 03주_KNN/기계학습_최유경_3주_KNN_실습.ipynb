{
  "nbformat": 4,
  "nbformat_minor": 0,
  "metadata": {
    "colab": {
      "name": "기계학습 최유경 3주 KNN 실습",
      "provenance": [],
      "collapsed_sections": []
    },
    "kernelspec": {
      "name": "python3",
      "display_name": "Python 3"
    }
  },
  "cells": [
    {
      "cell_type": "code",
      "metadata": {
        "id": "cwrsLLgDLUG8"
      },
      "source": [
        "import seaborn as sns"
      ],
      "execution_count": null,
      "outputs": []
    },
    {
      "cell_type": "code",
      "metadata": {
        "colab": {
          "base_uri": "https://localhost:8080/"
        },
        "id": "Tsyq0zblMUJQ",
        "outputId": "d8395d1a-0cab-4006-c324-451a99393126"
      },
      "source": [
        "iris= sns.load_dataset('iris')\r\n",
        "print(iris)"
      ],
      "execution_count": null,
      "outputs": [
        {
          "output_type": "stream",
          "text": [
            "     sepal_length  sepal_width  petal_length  petal_width    species\n",
            "0             5.1          3.5           1.4          0.2     setosa\n",
            "1             4.9          3.0           1.4          0.2     setosa\n",
            "2             4.7          3.2           1.3          0.2     setosa\n",
            "3             4.6          3.1           1.5          0.2     setosa\n",
            "4             5.0          3.6           1.4          0.2     setosa\n",
            "..            ...          ...           ...          ...        ...\n",
            "145           6.7          3.0           5.2          2.3  virginica\n",
            "146           6.3          2.5           5.0          1.9  virginica\n",
            "147           6.5          3.0           5.2          2.0  virginica\n",
            "148           6.2          3.4           5.4          2.3  virginica\n",
            "149           5.9          3.0           5.1          1.8  virginica\n",
            "\n",
            "[150 rows x 5 columns]\n"
          ],
          "name": "stdout"
        }
      ]
    },
    {
      "cell_type": "code",
      "metadata": {
        "colab": {
          "base_uri": "https://localhost:8080/"
        },
        "id": "ZDJMIV7wMdYi",
        "outputId": "bc15f5e2-aa79-44af-96f7-05930a0b034f"
      },
      "source": [
        "iris.info()\r\n",
        "# iris.shape"
      ],
      "execution_count": null,
      "outputs": [
        {
          "output_type": "stream",
          "text": [
            "<class 'pandas.core.frame.DataFrame'>\n",
            "RangeIndex: 150 entries, 0 to 149\n",
            "Data columns (total 5 columns):\n",
            " #   Column        Non-Null Count  Dtype  \n",
            "---  ------        --------------  -----  \n",
            " 0   sepal_length  150 non-null    float64\n",
            " 1   sepal_width   150 non-null    float64\n",
            " 2   petal_length  150 non-null    float64\n",
            " 3   petal_width   150 non-null    float64\n",
            " 4   species       150 non-null    object \n",
            "dtypes: float64(4), object(1)\n",
            "memory usage: 6.0+ KB\n"
          ],
          "name": "stdout"
        }
      ]
    },
    {
      "cell_type": "markdown",
      "metadata": {
        "id": "S3gZje8_PRpU"
      },
      "source": [
        "- 데이터 결측치 없다\r\n",
        "- class가 object라 인코딩 해야 함"
      ]
    },
    {
      "cell_type": "markdown",
      "metadata": {
        "id": "BdO7wTzrOedO"
      },
      "source": [
        "### x,y 데이터 나누기"
      ]
    },
    {
      "cell_type": "code",
      "metadata": {
        "colab": {
          "base_uri": "https://localhost:8080/"
        },
        "id": "77z1UXQqMmeZ",
        "outputId": "b52e4043-9b28-44b7-adce-455523705e5b"
      },
      "source": [
        "x = iris.drop(\"species\",axis=1)\r\n",
        "print(x.shape)\r\n",
        "\r\n",
        "\r\n",
        "y = iris[\"species\"]"
      ],
      "execution_count": null,
      "outputs": [
        {
          "output_type": "stream",
          "text": [
            "(150, 4)\n"
          ],
          "name": "stdout"
        }
      ]
    },
    {
      "cell_type": "markdown",
      "metadata": {
        "id": "d-TEcxDLQHuR"
      },
      "source": [
        "###원핫 인코딩"
      ]
    },
    {
      "cell_type": "code",
      "metadata": {
        "colab": {
          "base_uri": "https://localhost:8080/"
        },
        "id": "SGO1pMGMO8SH",
        "outputId": "622f19dd-ad1f-4f69-8f58-0873c749f6a2"
      },
      "source": [
        "from sklearn.preprocessing import LabelEncoder\r\n",
        "import numpy as np\r\n",
        "\r\n",
        "Enc =   LabelEncoder()\r\n",
        "y = Enc.fit_transform(iris['species'].values)\r\n",
        "print(np.unique(y)) # np.unique() 중복값 빼고 표현"
      ],
      "execution_count": null,
      "outputs": [
        {
          "output_type": "stream",
          "text": [
            "[0 1 2]\n"
          ],
          "name": "stdout"
        }
      ]
    },
    {
      "cell_type": "markdown",
      "metadata": {
        "id": "Ox7Ec7IoRD9w"
      },
      "source": [
        "### 인코딩 된것을 다시 범주화"
      ]
    },
    {
      "cell_type": "code",
      "metadata": {
        "colab": {
          "base_uri": "https://localhost:8080/"
        },
        "id": "CfSQtlaWQ1wD",
        "outputId": "c568ff70-cee5-4ac9-c436-62d78e4f9a4c"
      },
      "source": [
        "yo = Enc.inverse_transform(y)\r\n",
        "print(yo)"
      ],
      "execution_count": null,
      "outputs": [
        {
          "output_type": "stream",
          "text": [
            "['setosa' 'setosa' 'setosa' 'setosa' 'setosa' 'setosa' 'setosa' 'setosa'\n",
            " 'setosa' 'setosa' 'setosa' 'setosa' 'setosa' 'setosa' 'setosa' 'setosa'\n",
            " 'setosa' 'setosa' 'setosa' 'setosa' 'setosa' 'setosa' 'setosa' 'setosa'\n",
            " 'setosa' 'setosa' 'setosa' 'setosa' 'setosa' 'setosa' 'setosa' 'setosa'\n",
            " 'setosa' 'setosa' 'setosa' 'setosa' 'setosa' 'setosa' 'setosa' 'setosa'\n",
            " 'setosa' 'setosa' 'setosa' 'setosa' 'setosa' 'setosa' 'setosa' 'setosa'\n",
            " 'setosa' 'setosa' 'versicolor' 'versicolor' 'versicolor' 'versicolor'\n",
            " 'versicolor' 'versicolor' 'versicolor' 'versicolor' 'versicolor'\n",
            " 'versicolor' 'versicolor' 'versicolor' 'versicolor' 'versicolor'\n",
            " 'versicolor' 'versicolor' 'versicolor' 'versicolor' 'versicolor'\n",
            " 'versicolor' 'versicolor' 'versicolor' 'versicolor' 'versicolor'\n",
            " 'versicolor' 'versicolor' 'versicolor' 'versicolor' 'versicolor'\n",
            " 'versicolor' 'versicolor' 'versicolor' 'versicolor' 'versicolor'\n",
            " 'versicolor' 'versicolor' 'versicolor' 'versicolor' 'versicolor'\n",
            " 'versicolor' 'versicolor' 'versicolor' 'versicolor' 'versicolor'\n",
            " 'versicolor' 'versicolor' 'versicolor' 'versicolor' 'versicolor'\n",
            " 'versicolor' 'virginica' 'virginica' 'virginica' 'virginica' 'virginica'\n",
            " 'virginica' 'virginica' 'virginica' 'virginica' 'virginica' 'virginica'\n",
            " 'virginica' 'virginica' 'virginica' 'virginica' 'virginica' 'virginica'\n",
            " 'virginica' 'virginica' 'virginica' 'virginica' 'virginica' 'virginica'\n",
            " 'virginica' 'virginica' 'virginica' 'virginica' 'virginica' 'virginica'\n",
            " 'virginica' 'virginica' 'virginica' 'virginica' 'virginica' 'virginica'\n",
            " 'virginica' 'virginica' 'virginica' 'virginica' 'virginica' 'virginica'\n",
            " 'virginica' 'virginica' 'virginica' 'virginica' 'virginica' 'virginica'\n",
            " 'virginica' 'virginica' 'virginica']\n"
          ],
          "name": "stdout"
        }
      ]
    },
    {
      "cell_type": "markdown",
      "metadata": {
        "id": "C7ZUvEjDTmNr"
      },
      "source": [
        "### 학습,테스트 셋 나누기"
      ]
    },
    {
      "cell_type": "markdown",
      "metadata": {
        "id": "4dVymZX_Ubeg"
      },
      "source": [
        "train_test_split()\r\n",
        "- random_state : 랜점 시드 설정\r\n",
        "- stratify : 데이터 나눌 때 고루 뽑기 "
      ]
    },
    {
      "cell_type": "code",
      "metadata": {
        "colab": {
          "base_uri": "https://localhost:8080/"
        },
        "id": "qXdJmNsNRWjD",
        "outputId": "6d6eb356-b576-4a71-ee76-bdf19dfd20e0"
      },
      "source": [
        "from sklearn.model_selection import train_test_split\r\n",
        "x_train,x_test,y_train,y_test = train_test_split(x,y, test_size=0.3,random_state=1,stratify=y)\r\n",
        "print(x_train)\r\n",
        "print(x_test)\r\n",
        "print(y_train)\r\n",
        "print(y_test)"
      ],
      "execution_count": null,
      "outputs": [
        {
          "output_type": "stream",
          "text": [
            "     sepal_length  sepal_width  petal_length  petal_width\n",
            "33            5.5          4.2           1.4          0.2\n",
            "20            5.4          3.4           1.7          0.2\n",
            "115           6.4          3.2           5.3          2.3\n",
            "124           6.7          3.3           5.7          2.1\n",
            "35            5.0          3.2           1.2          0.2\n",
            "..            ...          ...           ...          ...\n",
            "41            4.5          2.3           1.3          0.3\n",
            "92            5.8          2.6           4.0          1.2\n",
            "26            5.0          3.4           1.6          0.4\n",
            "3             4.6          3.1           1.5          0.2\n",
            "42            4.4          3.2           1.3          0.2\n",
            "\n",
            "[105 rows x 4 columns]\n",
            "     sepal_length  sepal_width  petal_length  petal_width\n",
            "148           6.2          3.4           5.4          2.3\n",
            "5             5.4          3.9           1.7          0.4\n",
            "6             4.6          3.4           1.4          0.3\n",
            "106           4.9          2.5           4.5          1.7\n",
            "75            6.6          3.0           4.4          1.4\n",
            "71            6.1          2.8           4.0          1.3\n",
            "108           6.7          2.5           5.8          1.8\n",
            "68            6.2          2.2           4.5          1.5\n",
            "111           6.4          2.7           5.3          1.9\n",
            "16            5.4          3.9           1.3          0.4\n",
            "15            5.7          4.4           1.5          0.4\n",
            "127           6.1          3.0           4.9          1.8\n",
            "8             4.4          2.9           1.4          0.2\n",
            "57            4.9          2.4           3.3          1.0\n",
            "47            4.6          3.2           1.4          0.2\n",
            "76            6.8          2.8           4.8          1.4\n",
            "141           6.9          3.1           5.1          2.3\n",
            "66            5.6          3.0           4.5          1.5\n",
            "74            6.4          2.9           4.3          1.3\n",
            "147           6.5          3.0           5.2          2.0\n",
            "102           7.1          3.0           5.9          2.1\n",
            "12            4.8          3.0           1.4          0.1\n",
            "65            6.7          3.1           4.4          1.4\n",
            "121           5.6          2.8           4.9          2.0\n",
            "94            5.6          2.7           4.2          1.3\n",
            "56            6.3          3.3           4.7          1.6\n",
            "98            5.1          2.5           3.0          1.1\n",
            "144           6.7          3.3           5.7          2.5\n",
            "43            5.0          3.5           1.6          0.6\n",
            "113           5.7          2.5           5.0          2.0\n",
            "11            4.8          3.4           1.6          0.2\n",
            "0             5.1          3.5           1.4          0.2\n",
            "62            6.0          2.2           4.0          1.0\n",
            "53            5.5          2.3           4.0          1.3\n",
            "107           7.3          2.9           6.3          1.8\n",
            "112           6.8          3.0           5.5          2.1\n",
            "37            4.9          3.6           1.4          0.1\n",
            "25            5.0          3.0           1.6          0.2\n",
            "1             4.9          3.0           1.4          0.2\n",
            "50            7.0          3.2           4.7          1.4\n",
            "120           6.9          3.2           5.7          2.3\n",
            "149           5.9          3.0           5.1          1.8\n",
            "54            6.5          2.8           4.6          1.5\n",
            "7             5.0          3.4           1.5          0.2\n",
            "9             4.9          3.1           1.5          0.1\n",
            "[0 0 2 2 0 2 2 0 2 1 1 1 0 1 1 2 0 1 1 0 2 2 1 1 1 2 1 2 2 2 1 0 2 2 2 2 1\n",
            " 2 2 0 2 0 2 0 0 1 0 0 2 1 0 1 1 0 0 0 1 2 0 1 0 1 2 0 0 1 2 1 1 1 2 1 1 2\n",
            " 2 1 0 0 2 1 2 2 0 1 2 2 0 0 2 0 2 1 1 1 0 2 1 0 0 1 0 1 0 0 0]\n",
            "[2 0 0 2 1 1 2 1 2 0 0 2 0 1 0 1 2 1 1 2 2 0 1 2 1 1 1 2 0 2 0 0 1 1 2 2 0\n",
            " 0 0 1 2 2 1 0 0]\n"
          ],
          "name": "stdout"
        }
      ]
    },
    {
      "cell_type": "markdown",
      "metadata": {
        "id": "uLtNRAGvU97A"
      },
      "source": [
        "### 모델 설계 및 학습"
      ]
    },
    {
      "cell_type": "code",
      "metadata": {
        "colab": {
          "base_uri": "https://localhost:8080/"
        },
        "id": "D-vu4nY1UOfM",
        "outputId": "1b6de964-2883-4245-f835-c53a4fa01bb4"
      },
      "source": [
        "from sklearn.neighbors import KNeighborsClassifier\r\n",
        "knn = KNeighborsClassifier(n_neighbors=3,p=2) # k개수, 거리특정 기준 2는 유클리드\r\n",
        "knn.fit(x_train, y_train)\r\n",
        "\r\n"
      ],
      "execution_count": null,
      "outputs": [
        {
          "output_type": "execute_result",
          "data": {
            "text/plain": [
              "KNeighborsClassifier(algorithm='auto', leaf_size=30, metric='minkowski',\n",
              "                     metric_params=None, n_jobs=None, n_neighbors=3, p=2,\n",
              "                     weights='uniform')"
            ]
          },
          "metadata": {
            "tags": []
          },
          "execution_count": 9
        }
      ]
    },
    {
      "cell_type": "markdown",
      "metadata": {
        "id": "1i8AOPa3XZby"
      },
      "source": [
        "예측값"
      ]
    },
    {
      "cell_type": "code",
      "metadata": {
        "colab": {
          "base_uri": "https://localhost:8080/"
        },
        "id": "cZsL8MMpW09Q",
        "outputId": "f941acf7-1223-448f-81c7-db1dfc2097d0"
      },
      "source": [
        "y_test_pred = knn.predict(x_test)\r\n",
        "print(knn.predict(x_train))\r\n",
        "print(knn.predict(x_test))"
      ],
      "execution_count": null,
      "outputs": [
        {
          "output_type": "stream",
          "text": [
            "[0 0 2 2 0 2 2 0 2 1 1 1 0 1 1 2 0 1 1 0 2 2 1 1 1 2 1 2 2 2 1 0 2 2 2 2 1\n",
            " 2 2 0 2 0 1 0 0 2 0 0 2 1 0 1 1 0 0 0 1 2 0 1 0 1 2 0 0 1 2 1 1 1 2 1 1 2\n",
            " 2 1 0 0 2 2 2 1 0 1 2 2 0 0 2 0 2 1 1 1 0 2 1 0 0 1 0 1 0 0 0]\n",
            "[2 0 0 1 1 1 2 1 2 0 0 2 0 1 0 1 2 1 1 2 2 0 1 2 1 1 1 2 0 2 0 0 1 1 2 2 0\n",
            " 0 0 1 2 2 1 0 0]\n"
          ],
          "name": "stdout"
        }
      ]
    },
    {
      "cell_type": "markdown",
      "metadata": {
        "id": "0kdUiLnrYqkH"
      },
      "source": [
        "y_test 와 예측값 비교로 모델 정확도 출력"
      ]
    },
    {
      "cell_type": "code",
      "metadata": {
        "colab": {
          "base_uri": "https://localhost:8080/"
        },
        "id": "L-2tuNmqXXoY",
        "outputId": "d742fd43-fa3e-4ac2-f0ec-752a1b615b19"
      },
      "source": [
        "from sklearn.metrics import accuracy_score\r\n",
        "print(accuracy_score(y_test,y_test_pred))"
      ],
      "execution_count": null,
      "outputs": [
        {
          "output_type": "stream",
          "text": [
            "0.9777777777777777\n"
          ],
          "name": "stdout"
        }
      ]
    },
    {
      "cell_type": "markdown",
      "metadata": {
        "id": "juPoZr5NmfAD"
      },
      "source": [
        "### 데이터 표준화(옵션)"
      ]
    },
    {
      "cell_type": "markdown",
      "metadata": {
        "id": "LT30vJeEoJmr"
      },
      "source": [
        "- 표준화 할 땐\r\n",
        "fit() 으로 평균 표준편차 계산 해놓고  \r\n",
        "\r\n",
        "- transform(X) 으로 표준화 할 때는 transform 만 따로 해야 표준화 수행 됨\r\n",
        "\r\n"
      ]
    },
    {
      "cell_type": "code",
      "metadata": {
        "colab": {
          "base_uri": "https://localhost:8080/"
        },
        "id": "Vme2EZDZmer_",
        "outputId": "6619bbc6-062a-4108-e2f5-937b5091d8c0"
      },
      "source": [
        "from sklearn.preprocessing import StandardScaler\r\n",
        "st = StandardScaler()\r\n",
        "st.fit(x_train) # 평균 표준편차 계산 \r\n",
        "x_train_std = st.transform(x_train) # 표준화 할 때는 transform 만 따로\r\n",
        "x_test_std = st.transform(x_test)\r\n",
        "print(x_train)\r\n",
        "print(x_train_std)\r\n",
        "print(x_test_std)"
      ],
      "execution_count": null,
      "outputs": [
        {
          "output_type": "stream",
          "text": [
            "     sepal_length  sepal_width  petal_length  petal_width\n",
            "33            5.5          4.2           1.4          0.2\n",
            "20            5.4          3.4           1.7          0.2\n",
            "115           6.4          3.2           5.3          2.3\n",
            "124           6.7          3.3           5.7          2.1\n",
            "35            5.0          3.2           1.2          0.2\n",
            "..            ...          ...           ...          ...\n",
            "41            4.5          2.3           1.3          0.3\n",
            "92            5.8          2.6           4.0          1.2\n",
            "26            5.0          3.4           1.6          0.4\n",
            "3             4.6          3.1           1.5          0.2\n",
            "42            4.4          3.2           1.3          0.2\n",
            "\n",
            "[105 rows x 4 columns]\n",
            "[[-0.4301064   2.63118533 -1.33269725 -1.30728421]\n",
            " [-0.55053619  0.76918392 -1.16537974 -1.30728421]\n",
            " [ 0.65376173  0.30368356  0.84243039  1.44587881]\n",
            " [ 1.0150511   0.53643374  1.0655204   1.18367281]\n",
            " [-1.03225536  0.30368356 -1.44424226 -1.30728421]\n",
            " [ 1.0150511   0.07093339  1.0097479   1.57698181]\n",
            " [ 2.09891923 -0.16181679  1.56747294  1.18367281]\n",
            " [-0.06881702  2.16568498 -1.44424226 -1.30728421]\n",
            " [ 1.61720006 -0.16181679  1.12129291  0.5281578 ]\n",
            " [ 0.89462131 -0.39456697  0.45202286  0.1348488 ]\n",
            " [-1.03225536 -1.79106803 -0.27301968 -0.2584602 ]\n",
            " [-0.79139578 -0.86006732  0.06161534  0.2659518 ]\n",
            " [-1.39354474  0.30368356 -1.38846976 -1.30728421]\n",
            " [ 0.29247235 -0.62731714  0.50779537  0.0037458 ]\n",
            " [-0.4301064  -1.32556767  0.11738784  0.1348488 ]\n",
            " [-0.06881702 -0.86006732  0.73088538  0.92146681]\n",
            " [-1.27311494  0.76918392 -1.05383474 -1.30728421]\n",
            " [-1.03225536 -2.48931856 -0.16147468 -0.2584602 ]\n",
            " [-0.06881702 -0.86006732  0.06161534  0.0037458 ]\n",
            " [-1.39354474  0.30368356 -1.22115225 -1.30728421]\n",
            " [ 0.41290214 -0.62731714  0.56356787  0.79036381]\n",
            " [ 2.21934902 -1.0928175   1.73479045  1.44587881]\n",
            " [ 0.65376173  0.30368356  0.39625036  0.3970548 ]\n",
            " [-0.18924682 -0.62731714  0.39625036  0.1348488 ]\n",
            " [-0.4301064  -1.55831785  0.00584283 -0.1273572 ]\n",
            " [ 0.53333194  0.76918392  1.0097479   1.57698181]\n",
            " [ 0.29247235 -0.39456697  0.50779537  0.2659518 ]\n",
            " [ 0.29247235 -1.0928175   1.0097479   0.2659518 ]\n",
            " [ 0.77419152 -0.16181679  1.12129291  1.31477581]\n",
            " [-0.06881702 -0.62731714  0.73088538  1.57698181]\n",
            " [-0.18924682 -0.62731714  0.17316034  0.1348488 ]\n",
            " [-0.91182557  1.46743445 -1.27692475 -1.04507821]\n",
            " [ 2.21934902  1.70018463  1.62324544  1.31477581]\n",
            " [ 0.53333194 -1.32556767  0.67511288  0.92146681]\n",
            " [ 0.17204256 -0.16181679  0.56356787  0.79036381]\n",
            " [ 0.65376173 -0.62731714  1.0097479   1.18367281]\n",
            " [ 0.05161277 -0.16181679  0.22893285  0.3970548 ]\n",
            " [ 2.21934902 -0.62731714  1.62324544  1.05256981]\n",
            " [ 0.65376173  0.07093339  0.9539754   0.79036381]\n",
            " [-0.91182557  1.70018463 -1.22115225 -1.30728421]\n",
            " [ 0.53333194 -0.86006732  0.61934037  0.79036381]\n",
            " [-0.79139578  0.76918392 -1.33269725 -1.30728421]\n",
            " [ 0.53333194 -0.62731714  0.73088538  0.3970548 ]\n",
            " [-0.91182557  1.70018463 -1.05383474 -1.04507821]\n",
            " [-1.51397453  1.23468427 -1.55578727 -1.30728421]\n",
            " [ 0.53333194 -1.32556767  0.61934037  0.3970548 ]\n",
            " [-1.15268515  0.07093339 -1.27692475 -1.30728421]\n",
            " [-1.8752639  -0.16181679 -1.50001477 -1.43838721]\n",
            " [ 0.77419152 -0.16181679  0.9539754   0.79036381]\n",
            " [ 1.0150511   0.07093339  0.50779537  0.3970548 ]\n",
            " [-0.18924682  1.70018463 -1.16537974 -1.17618121]\n",
            " [-0.18924682 -1.0928175  -0.16147468 -0.2584602 ]\n",
            " [-0.06881702 -0.86006732  0.17316034 -0.2584602 ]\n",
            " [-0.91182557  0.76918392 -1.27692475 -1.30728421]\n",
            " [-0.55053619  1.46743445 -1.27692475 -1.30728421]\n",
            " [-0.79139578  1.0019341  -1.27692475 -1.30728421]\n",
            " [-0.4301064  -1.55831785 -0.04992967 -0.2584602 ]\n",
            " [ 1.61720006  1.23468427  1.28861042  1.70808482]\n",
            " [-1.03225536  1.0019341  -1.38846976 -1.17618121]\n",
            " [ 1.25591069  0.07093339  0.61934037  0.3970548 ]\n",
            " [-1.75483411 -0.16181679 -1.38846976 -1.30728421]\n",
            " [ 0.17204256  0.76918392  0.39625036  0.5281578 ]\n",
            " [ 1.61720006  0.30368356  1.23283791  0.79036381]\n",
            " [-1.27311494  0.07093339 -1.22115225 -1.30728421]\n",
            " [-1.03225536  0.53643374 -1.33269725 -1.30728421]\n",
            " [-0.4301064  -1.0928175   0.34047786  0.0037458 ]\n",
            " [-0.06881702 -0.86006732  0.73088538  0.92146681]\n",
            " [-0.30967661 -0.39456697 -0.10570217  0.1348488 ]\n",
            " [-0.30967661 -0.16181679  0.17316034  0.1348488 ]\n",
            " [ 0.05161277  0.30368356  0.56356787  0.79036381]\n",
            " [ 2.21934902 -0.16181679  1.28861042  1.44587881]\n",
            " [ 0.17204256 -0.39456697  0.39625036  0.3970548 ]\n",
            " [-0.55053619 -0.16181679  0.39625036  0.3970548 ]\n",
            " [ 1.25591069  0.07093339  0.89820289  1.18367281]\n",
            " [ 0.65376173 -0.62731714  1.0097479   1.31477581]\n",
            " [ 0.29247235 -0.16181679  0.45202286  0.2659518 ]\n",
            " [-0.55053619  0.76918392 -1.27692475 -1.04507821]\n",
            " [-0.91182557  0.53643374 -1.16537974 -0.91397521]\n",
            " [ 1.85805965 -0.62731714  1.28861042  0.92146681]\n",
            " [ 0.17204256 -0.86006732  0.73088538  0.5281578 ]\n",
            " [ 2.46020861  1.70018463  1.45592793  1.05256981]\n",
            " [ 0.17204256 -2.02381821  0.67511288  0.3970548 ]\n",
            " [-0.67096598  1.46743445 -1.27692475 -1.30728421]\n",
            " [-0.18924682 -0.39456697  0.22893285  0.1348488 ]\n",
            " [ 0.77419152  0.30368356  0.73088538  1.05256981]\n",
            " [ 0.53333194  0.53643374  1.23283791  1.70808482]\n",
            " [-0.91182557  1.70018463 -1.27692475 -1.17618121]\n",
            " [-1.03225536  1.23468427 -1.33269725 -1.30728421]\n",
            " [ 0.53333194 -0.39456697  1.0097479   0.79036381]\n",
            " [-0.91182557  1.0019341  -1.33269725 -1.17618121]\n",
            " [ 1.1354809   0.30368356  1.17706541  1.44587881]\n",
            " [-0.30967661 -1.32556767  0.06161534 -0.1273572 ]\n",
            " [-0.18924682 -0.16181679  0.22893285  0.0037458 ]\n",
            " [ 0.41290214 -0.39456697  0.28470535  0.1348488 ]\n",
            " [-0.79139578  2.39843516 -1.27692475 -1.43838721]\n",
            " [ 1.0150511  -0.16181679  0.78665788  1.44587881]\n",
            " [ 0.53333194 -1.79106803  0.34047786  0.1348488 ]\n",
            " [-0.4301064   1.0019341  -1.38846976 -1.30728421]\n",
            " [-1.27311494 -0.16181679 -1.33269725 -1.17618121]\n",
            " [ 1.0150511  -0.16181679  0.67511288  0.65926081]\n",
            " [-1.63440432 -1.79106803 -1.38846976 -1.17618121]\n",
            " [-0.06881702 -1.0928175   0.11738784  0.0037458 ]\n",
            " [-1.03225536  0.76918392 -1.22115225 -1.04507821]\n",
            " [-1.51397453  0.07093339 -1.27692475 -1.30728421]\n",
            " [-1.75483411  0.30368356 -1.38846976 -1.30728421]]\n",
            "[[ 0.41290214  0.76918392  0.89820289  1.44587881]\n",
            " [-0.55053619  1.9329348  -1.16537974 -1.04507821]\n",
            " [-1.51397453  0.76918392 -1.33269725 -1.17618121]\n",
            " [-1.15268515 -1.32556767  0.39625036  0.65926081]\n",
            " [ 0.89462131 -0.16181679  0.34047786  0.2659518 ]\n",
            " [ 0.29247235 -0.62731714  0.11738784  0.1348488 ]\n",
            " [ 1.0150511  -1.32556767  1.12129291  0.79036381]\n",
            " [ 0.41290214 -2.02381821  0.39625036  0.3970548 ]\n",
            " [ 0.65376173 -0.86006732  0.84243039  0.92146681]\n",
            " [-0.55053619  1.9329348  -1.38846976 -1.04507821]\n",
            " [-0.18924682  3.09668569 -1.27692475 -1.04507821]\n",
            " [ 0.29247235 -0.16181679  0.61934037  0.79036381]\n",
            " [-1.75483411 -0.39456697 -1.33269725 -1.30728421]\n",
            " [-1.15268515 -1.55831785 -0.27301968 -0.2584602 ]\n",
            " [-1.51397453  0.30368356 -1.33269725 -1.30728421]\n",
            " [ 1.1354809  -0.62731714  0.56356787  0.2659518 ]\n",
            " [ 1.25591069  0.07093339  0.73088538  1.44587881]\n",
            " [-0.30967661 -0.16181679  0.39625036  0.3970548 ]\n",
            " [ 0.65376173 -0.39456697  0.28470535  0.1348488 ]\n",
            " [ 0.77419152 -0.16181679  0.78665788  1.05256981]\n",
            " [ 1.49677027 -0.16181679  1.17706541  1.18367281]\n",
            " [-1.27311494 -0.16181679 -1.33269725 -1.43838721]\n",
            " [ 1.0150511   0.07093339  0.34047786  0.2659518 ]\n",
            " [-0.30967661 -0.62731714  0.61934037  1.05256981]\n",
            " [-0.30967661 -0.86006732  0.22893285  0.1348488 ]\n",
            " [ 0.53333194  0.53643374  0.50779537  0.5281578 ]\n",
            " [-0.91182557 -1.32556767 -0.4403372  -0.1273572 ]\n",
            " [ 1.0150511   0.53643374  1.0655204   1.70808482]\n",
            " [-1.03225536  1.0019341  -1.22115225 -0.78287221]\n",
            " [-0.18924682 -1.32556767  0.67511288  1.05256981]\n",
            " [-1.27311494  0.76918392 -1.22115225 -1.30728421]\n",
            " [-0.91182557  1.0019341  -1.33269725 -1.30728421]\n",
            " [ 0.17204256 -2.02381821  0.11738784 -0.2584602 ]\n",
            " [-0.4301064  -1.79106803  0.11738784  0.1348488 ]\n",
            " [ 1.73762985 -0.39456697  1.40015543  0.79036381]\n",
            " [ 1.1354809  -0.16181679  0.9539754   1.18367281]\n",
            " [-1.15268515  1.23468427 -1.33269725 -1.43838721]\n",
            " [-1.03225536 -0.16181679 -1.22115225 -1.30728421]\n",
            " [-1.15268515 -0.16181679 -1.33269725 -1.30728421]\n",
            " [ 1.37634048  0.30368356  0.50779537  0.2659518 ]\n",
            " [ 1.25591069  0.30368356  1.0655204   1.44587881]\n",
            " [ 0.05161277 -0.16181679  0.73088538  0.79036381]\n",
            " [ 0.77419152 -0.62731714  0.45202286  0.3970548 ]\n",
            " [-1.03225536  0.76918392 -1.27692475 -1.30728421]\n",
            " [-1.15268515  0.07093339 -1.27692475 -1.43838721]]\n"
          ],
          "name": "stdout"
        }
      ]
    },
    {
      "cell_type": "markdown",
      "metadata": {
        "id": "jJd4liZ8pcDJ"
      },
      "source": [
        "#### 모델 적용"
      ]
    },
    {
      "cell_type": "code",
      "metadata": {
        "colab": {
          "base_uri": "https://localhost:8080/"
        },
        "id": "i0y2zPtpopQ9",
        "outputId": "7b20c51f-c958-44f1-8e09-29de26508c64"
      },
      "source": [
        "from sklearn.neighbors import KNeighborsClassifier\r\n",
        "knn2 = KNeighborsClassifier(n_neighbors=5,p=2)\r\n",
        "knn2.fit(x_train_std,y_train)\r\n"
      ],
      "execution_count": null,
      "outputs": [
        {
          "output_type": "execute_result",
          "data": {
            "text/plain": [
              "KNeighborsClassifier(algorithm='auto', leaf_size=30, metric='minkowski',\n",
              "                     metric_params=None, n_jobs=None, n_neighbors=5, p=2,\n",
              "                     weights='uniform')"
            ]
          },
          "metadata": {
            "tags": []
          },
          "execution_count": 17
        }
      ]
    },
    {
      "cell_type": "code",
      "metadata": {
        "colab": {
          "base_uri": "https://localhost:8080/"
        },
        "id": "spZuibiyqPT6",
        "outputId": "2006a22c-5645-4840-e25b-ab46fae0624c"
      },
      "source": [
        "y_train_pred2 = knn2.predict(x_train_std)\r\n",
        "y_test_pred2 = knn2.predict(x_test_std)\r\n",
        "print(y_train_pred2)\r\n",
        "print(y_test_pred2)"
      ],
      "execution_count": null,
      "outputs": [
        {
          "output_type": "stream",
          "text": [
            "[0 0 2 2 0 2 2 0 2 1 1 1 0 1 1 2 0 1 1 0 2 2 1 1 1 2 1 1 2 2 1 0 2 2 1 2 1\n",
            " 2 2 0 2 0 2 0 0 2 0 0 2 1 0 1 1 0 0 0 1 2 0 1 0 1 2 0 0 1 2 1 1 1 2 1 1 2\n",
            " 2 1 0 0 2 2 2 2 0 1 2 2 0 0 2 0 2 1 1 1 0 2 1 0 0 1 0 1 0 0 0]\n",
            "[2 0 0 1 1 1 2 2 2 0 0 2 0 1 0 1 2 1 1 2 2 0 1 2 1 1 1 2 0 2 0 0 1 1 2 2 0\n",
            " 0 0 1 2 2 2 0 0]\n"
          ],
          "name": "stdout"
        }
      ]
    },
    {
      "cell_type": "markdown",
      "metadata": {
        "id": "rHhrFwvQqqUd"
      },
      "source": [
        "### 결과 분석"
      ]
    },
    {
      "cell_type": "code",
      "metadata": {
        "colab": {
          "base_uri": "https://localhost:8080/"
        },
        "id": "XBp6xo2aqjBX",
        "outputId": "bddf5608-3484-4d42-bc03-a98bbdbdd604"
      },
      "source": [
        "from sklearn.metrics import accuracy_score\r\n",
        "print(accuracy_score(y_test,y_test_pred2))"
      ],
      "execution_count": null,
      "outputs": [
        {
          "output_type": "stream",
          "text": [
            "0.9333333333333333\n"
          ],
          "name": "stdout"
        }
      ]
    },
    {
      "cell_type": "markdown",
      "metadata": {
        "id": "qJZo2ByDrAmI"
      },
      "source": [
        "- 표준화 없이 정확도 : 9.77\r\n",
        "표준화 있이 : 9.33 으로 하락  \r\n",
        "- 데이터에 따라 정확도 증감 다름"
      ]
    },
    {
      "cell_type": "code",
      "metadata": {
        "id": "JcS6oz4Uq_5R"
      },
      "source": [
        ""
      ],
      "execution_count": null,
      "outputs": []
    }
  ]
}